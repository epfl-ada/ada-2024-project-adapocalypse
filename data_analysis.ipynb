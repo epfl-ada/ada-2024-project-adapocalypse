{
 "cells": [
  {
   "cell_type": "code",
   "execution_count": 12,
   "metadata": {},
   "outputs": [],
   "source": [
    "import pandas as pd\n",
    "import numpy as np\n",
    "import matplotlib.pyplot as plt\n",
    "import seaborn as sns\n",
    "import os\n",
    "import sys\n",
    "data_folder = './MovieSummaries/'\n",
    "\n",
    "import ast\n"
   ]
  },
  {
   "cell_type": "markdown",
   "metadata": {},
   "source": [
    "# 1. MOVIES"
   ]
  },
  {
   "cell_type": "markdown",
   "metadata": {},
   "source": [
    "## 1.1 METADATA"
   ]
  },
  {
   "cell_type": "code",
   "execution_count": null,
   "metadata": {},
   "outputs": [],
   "source": [
    "movies_metadata = pd.read_csv(data_folder+'movie.metadata.tsv', sep='\\t', header=None, \n",
    "                 names=['wikipedia_movie_id', 'freebase_movie_id', 'movie_name', 'release_date',\n",
    "                        'box_office_revenue', 'movie_runtime', 'languages', 'countries', 'genres'])\n",
    "\n",
    "print(movies_metadata.info())"
   ]
  },
  {
   "cell_type": "markdown",
   "metadata": {},
   "source": [
    "### 1.1.1 GENRES"
   ]
  },
  {
   "cell_type": "code",
   "execution_count": null,
   "metadata": {},
   "outputs": [
    {
     "name": "stdout",
     "output_type": "stream",
     "text": [
      "<class 'pandas.core.frame.DataFrame'>\n",
      "RangeIndex: 81741 entries, 0 to 81740\n",
      "Data columns (total 9 columns):\n",
      " #   Column              Non-Null Count  Dtype  \n",
      "---  ------              --------------  -----  \n",
      " 0   wikipedia_movie_id  81741 non-null  int64  \n",
      " 1   freebase_movie_id   81741 non-null  object \n",
      " 2   movie_name          81741 non-null  object \n",
      " 3   release_date        74839 non-null  object \n",
      " 4   box_office_revenue  8401 non-null   float64\n",
      " 5   movie_runtime       61291 non-null  float64\n",
      " 6   languages           81741 non-null  object \n",
      " 7   countries           81741 non-null  object \n",
      " 8   genres              81741 non-null  object \n",
      "dtypes: float64(2), int64(1), object(6)\n",
      "memory usage: 5.6+ MB\n",
      "None\n",
      "['Absurdism', 'Acid western', 'Action', 'Action Comedy', 'Action Thrillers', 'Action/Adventure', 'Addiction Drama', 'Adult', 'Adventure', 'Adventure Comedy', 'Airplanes and airports', 'Albino bias', 'Alien Film', 'Alien invasion', 'Americana', 'Animal Picture', 'Animals', 'Animated Musical', 'Animated cartoon', 'Animation', 'Anime', 'Anthology', 'Anthropology', 'Anti-war', 'Anti-war film', 'Apocalyptic and post-apocalyptic fiction', 'Archaeology', 'Archives and records', 'Art film', 'Auto racing', 'Avant-garde', 'B-Western', 'B-movie', 'Backstage Musical', 'Baseball', 'Beach Film', 'Beach Party film', 'Bengali Cinema', 'Biker Film', 'Biographical film', 'Biography', 'Biopic [feature]', 'Black comedy', 'Black-and-white', 'Blaxploitation', 'Bloopers & Candid Camera', 'Bollywood', 'Boxing', 'Breakdance', 'British Empire Film', 'British New Wave', 'Bruceploitation', 'Buddy Picture', 'Buddy cop', 'Buddy film', 'Business', 'C-Movie', 'Camp', 'Caper story', 'Cavalry Film', 'Chase Movie', 'Chick flick', 'Childhood Drama', \"Children's\", \"Children's Entertainment\", \"Children's Fantasy\", \"Children's Issues\", \"Children's/Family\", 'Chinese Movies', 'Christian film', 'Christmas movie', 'Clay animation', 'Cold War', 'Combat Films', 'Comdedy', 'Comedy', 'Comedy Thriller', 'Comedy Western', 'Comedy film', 'Comedy horror', 'Comedy of Errors', 'Comedy of manners', 'Comedy-drama', 'Coming of age', 'Coming-of-age film', 'Computer Animation', 'Computers', 'Concert film', 'Conspiracy fiction', 'Costume Adventure', 'Costume Horror', 'Costume drama', 'Courtroom Comedy', 'Courtroom Drama', 'Creature Film', 'Crime', 'Crime Comedy', 'Crime Drama', 'Crime Fiction', 'Crime Thriller', 'Cult', 'Culture & Society', 'Cyberpunk', 'Czechoslovak New Wave', 'Dance', 'Demonic child', 'Detective', 'Detective fiction', 'Disaster', 'Docudrama', 'Documentary', 'Dogme 95', 'Domestic Comedy', 'Doomsday film', 'Drama', 'Dystopia', 'Ealing Comedies', 'Early Black Cinema', 'Education', 'Educational', 'Ensemble Film', 'Environmental Science', 'Epic', 'Epic Western', 'Erotic Drama', 'Erotic thriller', 'Erotica', 'Escape Film', 'Essay Film', 'Existentialism', 'Experimental film', 'Exploitation', 'Expressionism', 'Extreme Sports', 'Fairy tale', 'Family & Personal Relationships', 'Family Drama', 'Family Film', 'Family-Oriented Adventure', 'Fan film', 'Fantasy', 'Fantasy Adventure', 'Fantasy Comedy', 'Fantasy Drama', 'Feature film', 'Female buddy film', 'Feminist Film', 'Fictional film', 'Filipino', 'Filipino Movies', 'Film', 'Film & Television History', 'Film adaptation', 'Film noir', 'Film à clef', 'Film-Opera', 'Filmed Play', 'Finance & Investing', 'Foreign legion', 'Future noir', 'Gangster Film', 'Gay', 'Gay Interest', 'Gay Themed', 'Gay pornography', 'Gender Issues', 'Giallo', 'Glamorized Spy Film', 'Goat gland', 'Gothic Film', 'Graphic & Applied Arts', 'Gross out', 'Gross-out film', 'Gulf War', 'Hagiography', 'Hardcore pornography', 'Haunted House Film', 'Health & Fitness', 'Heaven-Can-Wait Fantasies', 'Heavenly Comedy', 'Heist', 'Hip hop movies', 'Historical Documentaries', 'Historical Epic', 'Historical drama', 'Historical fiction', 'History', 'Holiday Film', 'Homoeroticism', 'Horror', 'Horror Comedy', 'Horse racing', 'Humour', 'Hybrid Western', 'Illnesses & Disabilities', 'Indian Western', 'Indie', 'Inspirational Drama', 'Instrumental Music', 'Interpersonal Relationships', 'Inventions & Innovations', 'Japanese Movies', 'Journalism', 'Jukebox musical', 'Jungle Film', 'Juvenile Delinquency Film', 'Kafkaesque', 'Kitchen sink realism', 'LGBT', 'Language & Literature', 'Latino', 'Law & Crime', 'Legal drama', 'Libraries and librarians', 'Linguistics', 'Live action', 'Malayalam Cinema', 'Marriage Drama', 'Martial Arts Film', 'Master Criminal Films', 'Media Satire', 'Media Studies', 'Medical fiction', 'Melodrama', 'Mockumentary', 'Mondo film', 'Monster', 'Monster movie', 'Movie serial', 'Movies About Gladiators', 'Mumblecore', 'Music', 'Musical', 'Musical Drama', 'Musical comedy', 'Mystery', 'Mythological Fantasy', 'Natural disaster', 'Natural horror films', 'Nature', 'Neo-noir', 'Neorealism', 'New Hollywood', 'New Queer Cinema', 'News', 'Ninja movie', 'Northern', 'Nuclear warfare', 'Operetta', 'Outlaw', 'Outlaw biker film', 'Parkour in popular culture', 'Parody', 'Patriotic film', 'Period Horror', 'Period piece', 'Pinku eiga', 'Plague', 'Point of view shot', 'Political Documetary', 'Political cinema', 'Political drama', 'Political satire', 'Political thriller', 'Pornographic movie', 'Pornography', 'Pre-Code', 'Prison', 'Prison escape', 'Prison film', 'Private military company', 'Propaganda film', 'Psycho-biddy', 'Psychological horror', 'Psychological thriller', 'Punk rock', 'Race movie', 'Reboot', 'Religious Film', 'Remake', 'Revenge', 'Revisionist Fairy Tale', 'Revisionist Western', 'Road movie', 'Road-Horror', 'Roadshow theatrical release', 'Roadshow/Carny', 'Rockumentary', 'Romance Film', 'Romantic comedy', 'Romantic drama', 'Romantic fantasy', 'Romantic thriller', 'Samurai cinema', 'Satire', 'School story', 'Sci Fi Pictures original films', 'Sci-Fi Adventure', 'Sci-Fi Horror', 'Sci-Fi Thriller', 'Science Fiction', 'Science fiction Western', 'Screwball comedy', 'Sex comedy', 'Sexploitation', 'Short Film', 'Silent film', 'Silhouette animation', 'Singing cowboy', 'Slapstick', 'Slasher', 'Slice of life story', 'Social issues', 'Social problem film', 'Softcore Porn', 'Space opera', 'Space western', 'Spaghetti Western', 'Splatter film', 'Sponsored film', 'Sports', 'Spy', 'Stand-up comedy', 'Star vehicle', 'Statutory rape', 'Steampunk', 'Stoner film', 'Stop motion', 'Superhero', 'Superhero movie', 'Supermarionation', 'Supernatural', 'Surrealism', 'Suspense', 'Swashbuckler films', 'Sword and Sandal', 'Sword and sorcery', 'Sword and sorcery films', 'Tamil cinema', 'Teen', 'Television movie', 'The Netherlands in World War II', 'Therimin music', 'Thriller', 'Time travel', 'Tokusatsu', 'Tollywood', 'Tragedy', 'Tragicomedy', 'Travel', 'Vampire movies', 'War effort', 'War film', 'Werewolf fiction', 'Western', 'Whodunit', 'Women in prison films', 'Workplace Comedy', 'World History', 'World cinema', 'Wuxia', 'Z movie', 'Zombie Film']\n",
      "363\n"
     ]
    }
   ],
   "source": [
    "\n",
    "unique_genres = set()\n",
    "genre_strings = movies_metadata['genres'].values\n",
    "\n",
    "for genre_str in genre_strings:\n",
    "    genre_dict = ast.literal_eval(genre_str)  # Convert string to dictionary\n",
    "    unique_genres.update(genre_dict.values())  # Add values to the set\n",
    "\n",
    "# Convert to a sorted list if order is preferred\n",
    "unique_genres = sorted(unique_genres)\n",
    "\n",
    "print(unique_genres)\n",
    "print(len(unique_genres))"
   ]
  },
  {
   "cell_type": "markdown",
   "metadata": {},
   "source": [
    "### 1.1.2. LANGUAGES"
   ]
  },
  {
   "cell_type": "code",
   "execution_count": 21,
   "metadata": {},
   "outputs": [
    {
     "name": "stdout",
     "output_type": "stream",
     "text": [
      "['Aboriginal Malay languages', 'Aceh Language', 'Afrikaans Language', 'Akan Language', 'Albanian language', 'Algonquin Language', 'American English', 'American Sign Language', 'Amharic Language', 'Ancient Greek', 'Apache, Western Language', 'Arabic Language', 'Aramaic language', 'Armenian Language', 'Assamese Language', 'Assyrian Neo-Aramaic Language', 'Assyrian language', 'Australian Aboriginal Pidgin English', 'Australian English', 'Awadhi Language', 'Azerbaijani language', 'Bambara language', 'Banyumasan language', 'Belarusian language', 'Bengali Language', 'Bhojpuri Language', 'Bosnian language', 'Brazilian Portuguese', 'Bulgarian Language', 'Burmese Language', 'Cantonese', 'Catalan language', 'Cebuano language', 'Chadian Arabic', 'Chechen Language', 'Chewa language', 'Cheyenne Language', 'Chhattisgarhi Language', 'Chinese language', 'Chinese, Hakka Language', 'Chinese, Jinyu Language', 'Classical Arabic', 'Corsican Language', 'Cree language', 'Croatian language', 'Crow Language', 'Czech Language', 'Danish Language', 'Dari', 'Deutsch', 'Dutch Language', 'Dzongkha Language', 'Egyptian Arabic', 'Egyptian, Ancient', 'English Language', 'Esperanto Language', 'Estonian Language', 'Farsi, Western Language', 'Filipino language', 'Finnish Language', 'Flemish language', 'France', 'French Language', 'French Sign Language', 'Frisian, Western Language', 'Friulian Language', 'Fula language', 'Fulfulde, Adamawa Language', 'Gaelic', 'Galician Language', 'Georgian Language', 'German', 'German Language', 'Greek Language', 'Guanzhong Hua', 'Gujarati Language', 'Gumatj Language', 'Hainanese', 'Hariyani', 'Haryanvi Language', 'Hausa Language', 'Hawaiian language', 'Hazaragi Language', 'Hebrew Language', 'Hiligaynon language', 'Hindi Language', 'Hindustani language', 'Hinglish', 'Hmong language', 'Hokkien', 'Hopi Language', 'Hungarian language', 'Hungary', 'Icelandic Language', 'Indian English', 'Indonesian Language', 'Inuktitut', 'Irish', 'Italian', 'Italian Language', 'Jamaican Creole English Language', 'Japan', 'Japanese Language', 'Judeo-Georgian Language', 'Kannada Language', 'Khmer language', 'Khmer, Central Language', 'Kinyarwanda language', 'Klingon language', 'Korean Language', 'Korean Sign Language', 'Krio Language', 'Kriolu', 'Kuna language', 'Kurdish language', 'Latin Language', 'Lithuanian language', 'Luxembourgish language', 'Maasai Language', 'Macedonian Language', 'Malay Language', 'Malayalam Language', 'Mandarin Chinese', 'Maninka language', 'Marathi Language', 'Maya, Yucatán Language', 'Mende Language', 'Min Nan', 'Mohawk Language', 'Mongolian language', 'Māori language', 'Nahuatl languages', 'Napoletano-Calabrese Language', 'Navajo Language', 'Nepali Language', 'Norwegian Language', 'Old English language', 'Oriya Language', 'Osetin Language', 'Palawa kani', 'Papiamento language', 'Pashto language', 'Pawnee Language', 'Persian Language', 'Picard Language', 'Plautdietsch Language', 'Polish Language', 'Portuguese Language', 'Punjabi language', 'Quechua', 'Rajasthani language', 'Romani language', 'Romanian Language', 'Russian Language', 'Saami, North Language', 'Sami languages', 'Sanskrit Language', 'Scanian Language', 'Scottish Gaelic language', 'Serbian language', 'Serbo-Croatian', 'Shanghainese', 'Shanxi', 'Sicilian Language', 'Silent film', 'Sinhala Language', 'Sioux language', 'Slovak Language', 'Slovenian language', 'Somali Language', 'Sotho language', 'South African English', 'Southwestern Mandarin', 'Spanish Language', 'Standard Cantonese', 'Standard Mandarin', 'Standard Tibetan', 'Sumerian', 'Sunda Language', 'Swahili Language', 'Swedish Language', 'Swiss German Language', 'Tagalog language', 'Taiwanese', 'Tamang language', 'Tamil Language', 'Telugu language', 'Teochew', 'Thai Language', 'Thai, Northeastern Language', 'Tibetan languages', 'Tok Pisin Language', 'Tulu Language', 'Turkish Language', 'Tzotzil language', 'Ukrainian Language', 'Urdu Language', 'Uzbek language', 'Venetian Language', 'Vietnamese Language', 'Welsh Language', 'Wolof Language', 'Xhosa Language', 'Yiddish Language', 'Yolngu Matha', 'Zulu Language', '\\ud801\\udc16\\ud801\\udc32\\ud801\\udc49\\ud801\\udc4b\\ud801\\udc4c\\ud801\\udc32']\n",
      "207\n"
     ]
    }
   ],
   "source": [
    "unique_languages = set()\n",
    "languages_strings = movies_metadata['languages'].values\n",
    "\n",
    "for language_str in languages_strings:\n",
    "    language_dict = ast.literal_eval(language_str)  # Convert string to dictionary\n",
    "    unique_languages.update(language_dict.values())  # Add values to the set\n",
    "\n",
    "# Convert to a sorted list if order is preferred\n",
    "unique_languages = sorted(unique_languages)\n",
    "\n",
    "print(unique_languages)\n",
    "print(len(unique_languages))"
   ]
  },
  {
   "cell_type": "markdown",
   "metadata": {},
   "source": [
    "### 1.1.3. COUNTRIES"
   ]
  },
  {
   "cell_type": "code",
   "execution_count": 22,
   "metadata": {},
   "outputs": [
    {
     "name": "stdout",
     "output_type": "stream",
     "text": [
      "['Afghanistan', 'Albania', 'Algeria', 'Argentina', 'Armenia', 'Aruba', 'Australia', 'Austria', 'Azerbaijan', 'Bahamas', 'Bahrain', 'Bangladesh', 'Belgium', 'Bhutan', 'Bolivia', 'Bosnia and Herzegovina', 'Brazil', 'Bulgaria', 'Burkina Faso', 'Burma', 'Cambodia', 'Cameroon', 'Canada', 'Chile', 'China', 'Colombia', 'Congo', 'Costa Rica', 'Crime', 'Croatia', 'Cuba', 'Cyprus', 'Czech Republic', 'Czechoslovakia', 'Democratic Republic of the Congo', 'Denmark', 'Egypt', 'England', 'Estonia', 'Ethiopia', 'Federal Republic of Yugoslavia', 'Finland', 'France', 'Georgia', 'Georgian SSR', 'German Democratic Republic', 'German Language', 'Germany', 'Greece', 'Guinea', 'Guinea-Bissau', 'Haiti', 'Hong Kong', 'Hungary', 'Iceland', 'India', 'Indonesia', 'Iran', 'Iraq', 'Iraqi Kurdistan', 'Ireland', 'Isle of Man', 'Israel', 'Italy', 'Jamaica', 'Japan', 'Jordan', 'Kenya', 'Kingdom of Great Britain', 'Kingdom of Italy', 'Korea', 'Kuwait', 'Lebanon', 'Libya', 'Lithuania', 'Luxembourg', 'Macau', 'Malayalam Language', 'Malaysia', 'Mali', 'Malta', 'Mandatory Palestine', 'Mexico', 'Monaco', 'Mongolia', 'Montenegro', 'Morocco', 'Nazi Germany', 'Nepal', 'Netherlands', 'New Zealand', 'Nigeria', 'Northern Ireland', 'Norway', 'Pakistan', 'Palestinian Territories', 'Palestinian territories', 'Panama', 'Peru', 'Philippines', 'Poland', 'Portugal', 'Puerto Rico', 'Qatar', 'Republic of China', 'Republic of Macedonia', 'Romania', 'Russia', 'Scotland', 'Senegal', 'Serbia', 'Serbia and Montenegro', 'Singapore', 'Slovak Republic', 'Slovakia', 'Slovenia', 'Socialist Federal Republic of Yugoslavia', 'South Africa', 'South Korea', 'Soviet Union', 'Soviet occupation zone', 'Spain', 'Sri Lanka', 'Sweden', 'Switzerland', 'Taiwan', 'Thailand', 'Tunisia', 'Turkey', 'Turkmenistan', 'Ukraine', 'Ukrainian SSR', 'Ukranian SSR', 'United Arab Emirates', 'United Kingdom', 'United States of America', 'Uruguay', 'Uzbek SSR', 'Uzbekistan', 'Venezuela', 'Vietnam', 'Wales', 'Weimar Republic', 'West Germany', 'Yugoslavia', 'Zambia', 'Zimbabwe']\n",
      "147\n"
     ]
    }
   ],
   "source": [
    "unique_countries = set()\n",
    "countries_strings = movies_metadata['countries'].values\n",
    "\n",
    "for country_str in countries_strings:\n",
    "    country_dict = ast.literal_eval(country_str)  # Convert string to dictionary\n",
    "    unique_countries.update(country_dict.values())  # Add values to the set\n",
    "    \n",
    "# Convert to a sorted list if order is preferred\n",
    "unique_countries = sorted(unique_countries)\n",
    "\n",
    "print(unique_countries)\n",
    "print(len(unique_countries))"
   ]
  },
  {
   "cell_type": "markdown",
   "metadata": {},
   "source": [
    "## 1.2. PLOT SUMMARIES"
   ]
  },
  {
   "cell_type": "code",
   "execution_count": 15,
   "metadata": {},
   "outputs": [
    {
     "name": "stdout",
     "output_type": "stream",
     "text": [
      "<class 'pandas.core.frame.DataFrame'>\n",
      "RangeIndex: 42306 entries, 0 to 42305\n",
      "Data columns (total 2 columns):\n",
      " #   Column              Non-Null Count  Dtype \n",
      "---  ------              --------------  ----- \n",
      " 0   Wikipedia_movie_id  42306 non-null  object\n",
      " 1   plot_summary        42306 non-null  object\n",
      "dtypes: object(2)\n",
      "memory usage: 661.2+ KB\n",
      "None\n"
     ]
    }
   ],
   "source": [
    "data = []\n",
    "with open(data_folder+'plot_summaries.txt', 'r', encoding='utf-8') as file:\n",
    "    for line in file:\n",
    "        row = line.strip().split('\\t')  # Split by tab\n",
    "        data.append(row)\n",
    "\n",
    "# Convert list of lists into a DataFrame\n",
    "plot_summaries = pd.DataFrame(data, columns=['Wikipedia_movie_id', 'plot_summary'])\n",
    "\n",
    "print(plot_summaries.info())"
   ]
  },
  {
   "cell_type": "markdown",
   "metadata": {},
   "source": [
    "# 2. CHARACTERS"
   ]
  },
  {
   "cell_type": "markdown",
   "metadata": {},
   "source": [
    "## 2.1. METADATA"
   ]
  },
  {
   "cell_type": "code",
   "execution_count": 16,
   "metadata": {},
   "outputs": [
    {
     "name": "stdout",
     "output_type": "stream",
     "text": [
      "<class 'pandas.core.frame.DataFrame'>\n",
      "RangeIndex: 450669 entries, 0 to 450668\n",
      "Data columns (total 13 columns):\n",
      " #   Column              Non-Null Count   Dtype  \n",
      "---  ------              --------------   -----  \n",
      " 0   Wikipedia_movie_id  450669 non-null  int64  \n",
      " 1   Freebase_movie_id   450669 non-null  object \n",
      " 2   Release_date        440674 non-null  object \n",
      " 3   Character_name      192794 non-null  object \n",
      " 4   Date_of_birth       344524 non-null  object \n",
      " 5   Gender              405060 non-null  object \n",
      " 6   Height              154824 non-null  float64\n",
      " 7   Ethnicity           106058 non-null  object \n",
      " 8   Actor_name          449441 non-null  object \n",
      " 9   Actor_age           292556 non-null  float64\n",
      " 10  Char_actor_id       450669 non-null  object \n",
      " 11  Freebase_char_id    192804 non-null  object \n",
      " 12  Freebase_actor_id   449854 non-null  object \n",
      "dtypes: float64(2), int64(1), object(10)\n",
      "memory usage: 44.7+ MB\n",
      "None\n"
     ]
    }
   ],
   "source": [
    "characters_metadata = pd.read_csv(data_folder+'character.metadata.tsv', sep='\\t', header=None, \n",
    "                 names=['Wikipedia_movie_id', 'Freebase_movie_id', 'Release_date', 'Character_name',\n",
    "                        'Date_of_birth', 'Gender', 'Height', 'Ethnicity', 'Actor_name', 'Actor_age', \n",
    "                        'Char_actor_id', 'Freebase_char_id', 'Freebase_actor_id'])\n",
    "\n",
    "print(characters_metadata.info())\n",
    "\n"
   ]
  },
  {
   "cell_type": "markdown",
   "metadata": {},
   "source": [
    "### 2.1.1. GENDER"
   ]
  },
  {
   "cell_type": "markdown",
   "metadata": {},
   "source": [
    "### 2.1.2. HEIGHT"
   ]
  },
  {
   "cell_type": "markdown",
   "metadata": {},
   "source": [
    "### 2.1.3. ETHNICITY"
   ]
  },
  {
   "cell_type": "markdown",
   "metadata": {},
   "source": [
    "### 2.1.4. AGE"
   ]
  },
  {
   "cell_type": "markdown",
   "metadata": {},
   "source": [
    "### 2.1.5. ACTORS IN THE SAME MOVIE"
   ]
  },
  {
   "cell_type": "markdown",
   "metadata": {},
   "source": [
    "## 2.2. CHARACTER TYPES"
   ]
  },
  {
   "cell_type": "code",
   "execution_count": 18,
   "metadata": {},
   "outputs": [
    {
     "name": "stdout",
     "output_type": "stream",
     "text": [
      "<class 'pandas.core.frame.DataFrame'>\n",
      "RangeIndex: 501 entries, 0 to 500\n",
      "Data columns (total 2 columns):\n",
      " #   Column          Non-Null Count  Dtype \n",
      "---  ------          --------------  ----- \n",
      " 0   character_type  501 non-null    object\n",
      " 1   metadata        501 non-null    object\n",
      "dtypes: object(2)\n",
      "memory usage: 8.0+ KB\n",
      "None\n",
      "['absent_minded_professor' 'adventurer_archaeologist'\n",
      " 'arrogant_kungfu_guy' 'big_man_on_campus' 'bounty_hunter'\n",
      " 'brainless_beauty' 'broken_bird' 'bromantic_foil'\n",
      " 'bruiser_with_a_soft_center' 'bully' 'byronic_hero' 'casanova'\n",
      " 'chanteuse' 'charmer' 'child_prodigy' 'classy_cat_burglar'\n",
      " 'consummate_professional' 'corrupt_corporate_executive' 'coward'\n",
      " 'crazy_jealous_guy' 'crazy_survivalist' 'cultured_badass'\n",
      " 'dean_bitterman' 'dirty_cop' 'ditz' 'doormat' 'drill_sargeant_nasty'\n",
      " 'dumb_blonde' 'dumb_muscle' 'eccentric_mentor' 'egomaniac_hunter'\n",
      " 'evil_prince' 'fastest_gun_in_the_west' 'father_to_his_men' 'final_girl'\n",
      " 'gadgeteer_genius' 'gentleman_thief' 'granola_person' 'grumpy_old_man'\n",
      " 'hardboiled_detective' 'heartbroken_badass' 'henpecked_husband'\n",
      " 'hitman_with_a_heart' 'jerk_jock' 'junkie_prophet' 'klutz'\n",
      " 'loser_protagonist' 'loveable_rogue' 'master_swordsman'\n",
      " 'morally_bankrupt_banker' 'officer_and_a_gentleman' 'ophelia'\n",
      " 'playful_hacker' 'prima_donna' 'psycho_for_hire' 'pupil_turned_to_evil'\n",
      " 'retired_outlaw' 'revenge' 'romantic_runnerup' 'self_made_man' 'slacker'\n",
      " 'stoner' 'storyteller' 'stupid_crooks' 'surfer_dude' 'the_chief'\n",
      " 'the_editor' 'tranquil_fury' 'trickster' 'valley_girl' 'warrior_poet'\n",
      " 'young_gun']\n",
      "72\n"
     ]
    }
   ],
   "source": [
    "character_type = pd.read_csv(data_folder+'tvtropes.clusters.txt', sep='\\t', header=None, \n",
    "                             names=['character_type', 'metadata'])\n",
    "print(character_type.info())\n",
    "print(character_type['character_type'].unique())  \n",
    "print(len(character_type['character_type'].unique()))\n"
   ]
  },
  {
   "cell_type": "markdown",
   "metadata": {},
   "source": [
    "## 2.3. CHARACTER NAMES "
   ]
  },
  {
   "cell_type": "code",
   "execution_count": 20,
   "metadata": {},
   "outputs": [
    {
     "name": "stdout",
     "output_type": "stream",
     "text": [
      "<class 'pandas.core.frame.DataFrame'>\n",
      "RangeIndex: 2666 entries, 0 to 2665\n",
      "Data columns (total 2 columns):\n",
      " #   Column         Non-Null Count  Dtype \n",
      "---  ------         --------------  ----- \n",
      " 0   Cluster_name   2666 non-null   object\n",
      " 1   Char_actor_id  2666 non-null   object\n",
      "dtypes: object(2)\n",
      "memory usage: 41.8+ KB\n",
      "None\n",
      "['Stuart Little' 'John Doe' 'Josh Framm' 'Caspian X' 'Apostle Peter'\n",
      " 'Van Wilder' 'Max Cady' 'The Emperor of China' 'Ludo Dekker'\n",
      " 'Veer Pratap Singh' 'John McClane' 'Jack Cates' 'Shorty Meeks'\n",
      " 'Fievel Mousekewitz' 'Kazuya Mishima' 'Darth Vader' 'Queen Victoria'\n",
      " 'Billy Fish' 'Ian Hawke' 'Ginger Fitzgerald' 'Le Chiffre' 'The Professor'\n",
      " 'Jim Levenstein' 'Dave Robicheaux' \"Jimmy 'The Tulip' Tudeski\"\n",
      " 'Pavel Chekov' 'Chow Mo-wan' 'Foghorn Leghorn' 'Walter Hill'\n",
      " 'Dylan Sanders' 'The Girl' 'Sherlock Holmes' 'Emperor Nero'\n",
      " 'Sonia Saxena' 'David King' 'Mr. Big' 'The Drifter' 'Molly O'\n",
      " 'Judas Iscariot' 'Gloria Sullivan' 'Jennifer Parker' 'Roger Murtaugh'\n",
      " 'Sharpay Evans' 'Charlie Dog' 'Dr. Vijay' 'Aldous Snow' 'Mr. Smith'\n",
      " 'Ricky Baker' 'The Stranger' 'Michelle Flaherty' 'Sidney Prescott'\n",
      " 'Kay Adams' 'Ted Striker' 'Prince Charming' 'Mr. Kesuke Miyagi'\n",
      " 'Bill Holt' 'Josef Stalin' 'Jake Taylor' 'Dorinda Durston' 'Robin Hood'\n",
      " 'Jonathan Corliss' 'Marie Antoinette' 'Tin Man' 'Betty Boop'\n",
      " 'Charlie Chaplin' 'Tom Baker' 'Detective Eric Matthews'\n",
      " 'Long John Silver' 'David Martin' 'Nicholas Nickleby' 'Prince Edward'\n",
      " 'Carrie Bradshaw' 'Jack Foley' 'Vikram Kapoor' 'Philip Marlowe'\n",
      " 'Richard Mason' 'Harry Potter' 'Mia Toretto' 'Tom Logan' 'Prince Philip'\n",
      " 'Sam Sheepdog' 'Orson Welles' 'Tony Toponi' 'Tommy Pickles' 'Mace Windu'\n",
      " 'Uncle Elroy' 'The Driver' 'Bilbo Baggins' 'Snow Queen'\n",
      " 'Gen. Robert E. Lee' 'Arun Chatterjee' 'Ricky Nash'\n",
      " 'Captain Jack Sparrow' \"Ricky 'Wild Thing' Vaughn\" 'Tony Blair'\n",
      " 'Sir Galahad' 'Charlie Conway' 'Uncle Fester' 'Wild Bill Hickok'\n",
      " 'Ko Chun' 'Sherman Klump' 'Apple Annie' 'Harrison Bergeron'\n",
      " 'Sadie Thompson' 'Jamie Lloyd' 'Damien Thorn' 'Marian Paroo'\n",
      " 'White Witch' 'Carl Denham' 'Cindy Campbell' 'Su Li-zhen - Mrs. Chan'\n",
      " 'Lee Chan' 'Ajay Sharma' \"Fletcher Christian Master's Mate\"\n",
      " 'Charlie Croker' 'The Tramp' 'Sheriff of Nottingham' 'Sophie Piper'\n",
      " 'Dark Witch' 'Clark Kent' 'Ben Marco' 'James St. James' 'Li Shang'\n",
      " 'Harry Osborn' 'Henery Hawk' 'Conan Edogawa' 'André Matias'\n",
      " 'Harry Morgan' 'Daniel Jackson' 'Mr. Moto' 'Sheriff Buford T. Justice'\n",
      " 'Pai Mei' 'Sunder Srivastava' 'Rachel Keller' 'Emily Newton'\n",
      " 'Hildegarde Withers' 'Harold Lee' 'Bhavani Shankar' 'Sweeney Todd'\n",
      " 'Barnyard Dawg' 'George Banks' 'Dante Hicks' 'The Boss' 'Ruth Wonderly'\n",
      " 'Master Wu' 'Tommy Biggs' 'Ebenezer Scrooge' 'Michael Corvin'\n",
      " 'Mitch Weaver' 'Karan Malhotra' 'Ellen Griswold' \"Brian O'Conner\"\n",
      " 'Doc McCoy' 'Frank Jones' 'Peter Pan' 'John Seward' 'Son Goten'\n",
      " 'Mahendra Varma' 'Kevin Myers' 'T.J. Hicks' 'Biff Tannen'\n",
      " 'James Ubriacco' 'Ellen Ripley' 'Perry Smith' 'Lt. Frank Drebin'\n",
      " 'King Louis XI' 'Adolf Hitler' 'Edgar Allan Poe' 'Calvin Palmer'\n",
      " 'Prem Kumar' 'Carmen Cortez' 'Amy Fisher' 'Nikhil Kapoor' 'Howard Hughes'\n",
      " 'Juliet Capulet' 'Clear Rivers' 'Doctor Moreau' 'Richard Rich'\n",
      " 'Frank James' 'George W. Bush' 'Samwise Gamgee' 'Kentaro Moto'\n",
      " 'The Leprechaun' 'Alex Tanner' 'Stone Alexander' 'Reuben Tishkoff'\n",
      " 'Ludwig van Beethoven' 'Han Solo' 'Ash Williams' 'Vikram Singh'\n",
      " 'John Hatcher' 'Ethan Hunt' 'Sir Charles Litton' 'Mike Wazowski'\n",
      " 'Drake Parker' 'Mickey Goldmill' 'Mark Gor' 'Amelia Earhart'\n",
      " 'Paul Smecker' 'Max Goldman' 'The Pilot' 'Leia Organa' 'Count Dooku'\n",
      " 'Wally Walrus' 'Helen Hudson' 'Claude Cat' 'Bernard the Arch-elf'\n",
      " 'Prithvi Singh' 'Ronald Niedermann' 'Edmund Pevensie' 'Jai Kumar'\n",
      " 'Samantha Jones' 'Priya Malhotra' 'Mohandas Karamchand Gandhi'\n",
      " 'Dominic Toretto' 'Travis Coates' 'Wendy Darling' 'Ice Princess'\n",
      " 'Jack Walsh' 'Laurie Strode' 'Debbie Strand' 'Mrs. Deshmukh'\n",
      " 'Princess Aura' 'Tom Brookman' 'Agent Augustus Eugene Gibbons'\n",
      " 'The Artful Dodger' 'Arun Choudhury' 'Fa Mulan' 'King Triton'\n",
      " 'Nanny McPhee' 'Prince Derek' 'Clark Griswold' 'Norman Pitkin'\n",
      " 'Henry Bergner' 'Sheriff Hoyt' 'Janet Weiss' 'Susan Johnson'\n",
      " 'Boris the Goose' 'Stu Price' 'Susan Walker' 'Ellen Carlsson'\n",
      " 'Carol McCoy' 'Maria Elena' 'James Roberts' 'Kristi Rey' 'Hans Zarkov'\n",
      " 'Iron Man' 'Dan Erickson' 'George Newton' 'Ellen Wagstaff Arden'\n",
      " 'Agent Smith' 'Eddie Johnson' 'Charlie Calvin' 'Pepper Potts'\n",
      " 'Indiana Jones' 'Peter Parker' 'Thunderbolt Ross' 'Paul Crewe'\n",
      " 'Jack Carter' 'Terry McKay' 'Henry Frankenstein' 'Marcellus Washburn'\n",
      " 'Jack Shepard' 'Master Shifu' 'Meyer Lansky' 'Roy Miller' 'Riley Poole'\n",
      " 'Shaggy Rogers' 'Dale Arden' 'Young Jenny' 'Mina Harker' 'Sgt. Tibbs'\n",
      " 'Nick Parker' 'Vijay Verma' 'Road Runner' 'John Kreese' 'Misa Amane'\n",
      " 'Sonia Mehra' 'Nick Persons' 'Kathy Lutz' 'Kim Possible' 'Eden Sinclair'\n",
      " 'Amanda Young' 'Mary Jane' 'Emmett Richmond' 'James Bond'\n",
      " 'Queen Clarisse Renaldi' 'Tracy Lord' 'Sister Sarah' 'Sally Brown'\n",
      " 'The Man' 'Bastian Balthazar Bux' 'Oscar Madison' 'Elena Morales'\n",
      " 'Mr. George Wilson' 'Sara Crewe' 'Daisy Duke' 'Shuya Nanahara'\n",
      " 'Thomas Howard, 3rd Duke of Norfolk' 'Jack Frost' 'Monty Oberoi'\n",
      " 'Mr. Tinkles' 'Leo Bloom' 'Reba McClane' 'Liu Kang' 'Tony Manero'\n",
      " 'Sheriff Woody' 'Bernie Focker' 'Joe Collins' 'Arun Verma'\n",
      " 'Kelsi Nielsen' 'Speedy Gonzales' 'Joel Cairo' 'Hannibal Lecter'\n",
      " 'Aunt Bea' 'Kay Wilson' 'Scott Evil' 'Willy Wonka' 'Rahul Verma'\n",
      " 'Dr. Henry Clerval' 'Miss Clavel' 'Mary Lane' 'Homeless Man'\n",
      " 'Anne Boleyn' 'Deuce Bigalow' 'Fred Flintstone' 'Julie James Bronson'\n",
      " 'Rachel Dawes' 'Mickey Mouse' 'Mr. D' 'John Henry Brennick'\n",
      " 'Vilos Cohaagen' 'The Thief' 'Inspector Lestrade' 'Jean Valjean'\n",
      " 'Richard Hannay' 'T. E. Lawrence' 'John Ryder' 'Lucy Westenra'\n",
      " 'Flash Gordon' 'Amanda Krueger' 'Victor Frankenstein'\n",
      " 'Lestat de Lioncourt' 'Ann Darrow' 'Harry Lime' 'Captain Haddock'\n",
      " 'Princess Jasmine' 'Barbara Gordon' 'Antoine Doinel' 'Camryn Barnes'\n",
      " 'Shamsher Singh' 'Billy the Kid' 'Uncle Jack' 'Joe Taylor'\n",
      " 'Quincey Morris' 'Mark Hoffman' 'Carlito Brigante' 'Hermione Granger'\n",
      " 'Mildred Rogers' 'Arjun Singh' 'Matt Hunter' 'Ram Kumar'\n",
      " 'Detective James Carter' 'Ardeth Bay' 'Mitch Robbins'\n",
      " 'Ernst Stavro Blofeld' 'Andy Hardy' 'Seema Malhotra' 'William Stryker'\n",
      " 'Terry Benedict' 'Heihachi Mishima' 'Anna Morgan' 'Annie Porter'\n",
      " 'Ward Abbott' 'Little John' 'Tanya Mousekewitz' 'Truman Capote'\n",
      " 'Tommy Jarvis' 'Pugsley Addams' 'Chief Inspector Lee' 'Ned Morton'\n",
      " 'Gilbert Blythe' 'Chuck Sherman' 'Mrs. Potts' 'The Kid' 'Pooja Saxena'\n",
      " 'Abraham Lincoln' 'Nobita Nobi' 'Karan Singh' 'Shere Khan' 'Tom Sawyer'\n",
      " 'Wilma Flintstone' 'Sarah Baker' 'Cadet Carey Mahoney' 'Minnie Mouse'\n",
      " 'Ellie Sattler' 'Cutler Beckett' 'Dr. Samantha Hill' 'Jill Tuck-Kramer'\n",
      " 'Charlie Bucket' 'Peter Parkette' 'Anna Karenina'\n",
      " 'Lawrence Stewart Talbot' 'Dorothy Carlsson' 'John F. Kennedy'\n",
      " 'Tasmanian Devil' 'Lisbeth Salander' 'Bill Sikes' 'Regan MacNeil'\n",
      " 'Jonathan Carnahan' \"Stifler's Mom\" 'Miss Finster' 'Lex Luthor'\n",
      " 'Karsh WarBurton' 'Allan Quatermain' 'Nelson Potter' 'Edward Rochester'\n",
      " 'Rahul Sharma' 'Freddy Krueger' 'Kristen Parker' 'Dorian Gray'\n",
      " 'Oliver \"Daddy\" Warbucks' 'Velma Dinkley' 'Maid Marian'\n",
      " 'Cameron Mitchell' 'Alvin Seville' 'Raj Malhotra' 'Carol Anne Freeling'\n",
      " 'Mr. Murray' 'Harry Houdini' 'Connie Corleone' 'Anne Elliot' 'Silent Bob'\n",
      " 'Bellatrix Lestrange' 'Dr. Zaius' 'Miles Archer' 'Ace Ventura'\n",
      " 'Gabriel Van Helsing' 'The Wizard' 'Eddie Felson' 'The Collector'\n",
      " 'Roger Rabbit' 'Herbert West' 'Jack Powell' 'Lorna Cole'\n",
      " 'William Shakespeare' 'Childlike Empress' 'Davy Jones' 'Dan Cain'\n",
      " 'Mia Thermopolis' 'Pat Garrett' 'Clarice Starling' 'Betty Rubble'\n",
      " 'Jack Byrnes' 'Nicky Parsons' 'Ravi Varma' 'Sir Walter Elliot'\n",
      " 'Miranda Hobbes' 'George Milton' 'Sam Hall' 'Celia Gray' 'Barney Ross'\n",
      " 'Charlie B. Barkin' 'Kevin McCallister' 'Jack Crawford' 'Prince Hamlet'\n",
      " 'Daniel Cleaver' 'Albert Brooks' 'The Sheriff' 'Prince Eric'\n",
      " 'Barney Rubble' 'Prince Shamsher Singh' 'Richard the Lionheart'\n",
      " 'Cardinal Richelieu' 'Ted \"Theodore\" Logan' 'Dr. Anton Phibes'\n",
      " 'Frodo Baggins' 'Chris Hargensen' 'Jimmy Lee' 'Security Guard'\n",
      " 'Genji Takiya' 'Michael Jackson' 'Charlie Brown' 'Daffy Duck'\n",
      " 'Helen Benson' 'Jackie Robinson' 'Leo Getz' 'Philip Carey' 'Fox Mulder'\n",
      " 'Rosemary Woodhouse' 'Bharat Bhushan' 'Inspector Megure' 'Optimus Prime'\n",
      " 'Linus Larrabee' 'Big Daddy' 'Don Diego de la Vega' 'Prince Barin'\n",
      " 'Miss Bianca' 'Tommy Ross' 'Ray Bronson' 'Captain January'\n",
      " 'Joe Carraclough' 'Snow White' 'Gang Member' 'Luke Skywalker'\n",
      " 'Baron Frankenstein' 'Edgar Frog' 'Deepak Kumar' 'Margaret White'\n",
      " 'Julius Caesar' 'Dan Jordan' 'Mary Crawford' 'Hercule Poirot'\n",
      " 'Jim Hawkins' 'Wyatt Earp' 'Lightning McQueen' 'Samuel J. Loomis'\n",
      " 'Young Jake' 'Carl Kolchak' 'Lord Voldemort' 'Martin Beck' 'Ryce Newton'\n",
      " 'General Zod' 'Arthur Bach' 'Buzz Lightyear' 'Randal Graves'\n",
      " 'Donald Duck' 'Princess Ilene' 'Young Jack' 'Anakin Skywalker'\n",
      " 'Franz Liszt' 'Carrie White' 'Pontius Pilate' 'Billy Jack' 'Sean Brody'\n",
      " 'Megan Parker' 'Ursula Stanhope' 'Steve Stifler' 'The Chief' 'Nora Baker'\n",
      " 'Felix Unger' 'Kate Baker' 'Lt. Sean Topper Harley' 'Father Uffizi'\n",
      " 'Marty McFly' 'David Bowman' 'King Kong' 'John Hammond'\n",
      " \"Saraswati Chandra's father\" 'Brian Kelly' 'Taylor McKessie'\n",
      " 'Neil Patrick Harris' 'Ben Cooper' 'Rohit Kumar' 'Chad Danforth'\n",
      " 'Tommy Doyle' 'Mycroft Holmes' 'Inspector Clouseau' 'Greg Heffley'\n",
      " 'Princess Odette' 'Bugs Bunny' 'Vicky Malhotra' 'Julie Hastings'\n",
      " 'Witch Hazel' 'Snake Plissken' 'Pamela Landy' 'Itchy Itchiford'\n",
      " 'Eric Lassard' 'Davy Crockett' 'Uncle Arthur' 'The Oracle'\n",
      " 'Jane Spencer Drebin' 'Mikael Blomkvist' 'Sean Anderson' 'Daniel Larusso'\n",
      " 'Juan Rico' 'Adrian Pennino' 'Victor Prinzim' 'Rahul Malhotra' 'Bo Duke'\n",
      " 'Dr. John Dolittle' 'Michael Gold' 'ACP Jai Dixit' 'Lois Lane'\n",
      " 'Lucy Stark' 'Jean-Luc Picard' 'Capt. Thaddeus Harris' 'Gary Winston'\n",
      " 'Tom Chaney' 'Ravi Verma' 'Mrs. Santa' 'Judge Dredd' 'Dr. Laura Baker'\n",
      " 'Fairy Godmother' 'Dr. Henry Jekyll' 'Miss Prissy' 'Colonel Sam Trautman'\n",
      " 'Esther Blodgett' 'Wednesday Addams' 'Ben Carson' 'Mr. Evans'\n",
      " 'Jobe Smith' 'Frank Chambers' 'Princess Snow White' 'Irene Adler'\n",
      " 'Amy Sumner' 'Santa Claus' 'Frederic Chopin' 'Laura Black' 'Cliff Brumby'\n",
      " \"'Baby' Louise\" 'Wile E. Coyote' 'Captain Englehorn' 'Larry Wilson'\n",
      " \"Nancy 'Sikes'\" 'Virgil Tibbs' 'Jason Taylor' 'Helen Sharp'\n",
      " 'Gale Weathers' 'The Creeper' 'Charlie Frost' 'Pat Chambers'\n",
      " 'Henry VIII of England' 'Aidan Keller' 'Jane Eyre' 'Lyle van de Groot'\n",
      " 'Cora Jean Simmons Brown' 'Jake \"the Muss\" Heke' 'George Logan'\n",
      " 'John Connor' 'Raj Oberoi' 'Marion Ravenwood' 'Old Man' 'Earl of Essex'\n",
      " 'Karan Oberoi' 'The Old Man' 'Flynn Carsen' \"Eleanor 'Nell' Lance\"\n",
      " 'Clark Davis' 'Ms. Darbus' 'Captain Hook' 'Daphne Blake' 'Lara Croft'\n",
      " 'Monsieur Hulot' 'Frank Martin' 'Lloyd Christmas' 'Alfred Pennyworth'\n",
      " 'Mary Magdalene' 'Tweety Bird' 'Harry Palmer' 'Hal Jordan'\n",
      " 'Martin Luther' 'Ron Stoppable' 'Zack Martin' 'Peter Vincent'\n",
      " 'Holly Hills' 'Norman Bates' 'Randolph Carter' 'Isaac Chroner'\n",
      " 'Rowley Jefferson' 'Cyrano de Bergerac' 'Merlin Jones' 'Boba Fett'\n",
      " 'Lucy Pevensie' 'Jason Bourne' 'Hector Barbossa' 'Kyle Williams'\n",
      " 'Thantos DuBaer' 'Dana Barrett' 'Prince Humperdinck' 'Kathryn Merteuil'\n",
      " 'Dylan Piper' 'Sebastian Valmont' 'John Wayne Gacy' 'Jesse Huston'\n",
      " 'Rianne Murtaugh Butters' 'Robert Martin' 'Romeo Montague'\n",
      " 'Mollie Ubriacco' 'Scott Calvin' 'Jo March' 'Father Brennan'\n",
      " 'Captain Nascimento' 'Princess Ariel' 'Lena Kaligaris' 'Han Lue'\n",
      " 'Michael Myers' 'Mary Morstan' 'Nancy Thompson' 'President Baxter Harris'\n",
      " 'Becky Thatcher' 'Laxmi Devi' 'Christopher Robin' 'Marge Sherwood'\n",
      " 'Charlotte York' 'George Lytton' 'Jack Ryan' 'Catherine Tramell'\n",
      " 'Shane Gray' 'Charlie Chan' 'John Rambo' 'Alex West' 'The Doctor'\n",
      " 'Apollo Creed' 'Big Bad Wolf' 'Norman Maine' 'Gabriel Martin'\n",
      " 'Dave the Dude' 'Porky Pig' 'Garth Algar' 'Napoléon Bonaparte'\n",
      " 'Lisa Dolittle' 'Miss Marple' 'Evan Baxter' 'Axel Foley' 'Vito Corleone'\n",
      " 'Ellen Brody' \"Roy O'Bannon\" 'Tracy Turnblad' 'Holly Gennaro McClane'\n",
      " 'John Morgan' 'Doctor Watson' 'Ken Carson' 'Professor Severus Snape'\n",
      " 'Lamont Cranston' 'Mrs. Burns' 'Wayne Campbell' 'Ryan Evans'\n",
      " 'Sam Witwicky' 'Mr. Bean' 'Marnie Piper' 'Bryan Mills' 'Elwood Blues'\n",
      " 'Keith Jennings' 'Kumar Patel' 'Sara Anderson' 'Rubeus Hagrid'\n",
      " 'Leon Trotsky' 'Tony Stark' 'Babe Bennett' 'Mr. White' 'Aman Mehra'\n",
      " 'Max Rockatansky' 'Mikaela Banes' 'Ginny Weasley' 'Tom Ripley'\n",
      " 'Gabriella Montez' 'Robert Thorn' 'Chili Palmer' 'Cobra Bubbles'\n",
      " 'Joanna Eberhart' 'High Priest Imhotep' 'Bobby Ray' 'King Harold'\n",
      " 'Poison Ivy' 'Andy Warhol' 'Anne Frank' 'Ethan Dalloway' 'Aggie Cromwell'\n",
      " 'Jane Porter' 'Jessie Thekekuttu' 'Red Queen' 'Mr. Tumnus'\n",
      " 'Lucy van Pelt' 'Professor Albus Dumbledore' 'Lankester Merrin'\n",
      " 'Vada Margaret Sultenfuss' 'Danny Ocean' 'Conan the Barbarian' 'El Chivo'\n",
      " 'Reggie Hammond' 'Cornelius Hackl' 'Turanga Leela' 'Dwight Stifler'\n",
      " 'The Father' 'Alan Garner' 'Ben Parker' 'Dana Scully'\n",
      " 'Elizabeth Frankenstein' 'Anne Shirley' 'Sethurama Iyer' 'Dorothy Gale'\n",
      " 'Audrey Bennett' 'Mary Jane Watson' 'Gabbar Singh' 'Dr. Anand'\n",
      " 'Harold Hill' 'Inspector Oscar Piper' 'Nora Charles' 'Richie Rich'\n",
      " 'Doctor Doom' 'John Cutter' 'Kamal Khan' 'Nancy Fowler Archer'\n",
      " 'Jacob Black' 'Police Inspector' 'Ajay Kapoor' 'Freddy Lounds'\n",
      " 'Sher Khan' 'Sam Spade' 'Marvin the Martian' 'Robert Langdon'\n",
      " 'Paul Vitti' 'El Mariachi' 'Mr. Chow' 'Michael Sobel'\n",
      " 'Anastasia Tremaine' 'Harry Callahan' 'Jill McBain' 'Tony Wilson'\n",
      " 'Pooja Malhotra' 'Mike Hammer' 'Naruto Uzumaki' 'Jon Arbuckle'\n",
      " 'Joseph Fernandez' \"Dracula's Bride\" 'Gordon Bombay' 'Elektra Natchios'\n",
      " 'Frank Towns' 'Billy Nolan' 'Obi-Wan Kenobi'\n",
      " 'Vicomte Sébastien de Valmont' 'Emily Rose' \"Frankenstein's monster\"\n",
      " 'Oliver Twist' 'Roy Earle' 'Queen Elizabeth I' 'Raj Singh'\n",
      " 'Betty Ross Banner' 'Sethu Madhavan' 'Mary McKay' 'Jason Voorhees'\n",
      " 'Sabrina Spellman' 'Chon Wang' 'Austin Powers' 'Jill Valentine'\n",
      " 'David Sumner' 'Armand Duval' 'Rocky Balboa' 'Amy Peterson'\n",
      " 'Charley Brewster' 'Mrs. Danvers' 'Ronnie Winslow' 'Douglas Quaid'\n",
      " 'Edward Cullen' 'Count Dracula' 'John Preston' 'Louis Tully' 'Lucius Fox'\n",
      " 'M. Bison' 'Nancy Drew' 'Ming the Merciless' 'Wilmer Cook' 'Dexter Riley'\n",
      " 'George Taylor' 'Juni Cortez' 'Rodrick Heffley'\n",
      " 'Valentin Dmitrovich Zukovsky' 'Katherine Thorn' 'Dr. Jennings'\n",
      " 'George Lutz' 'Blanche Hudson' 'Lawrence Gordon' 'Abraham Van Helsing'\n",
      " 'Grandpa Joe' 'Joe Pendleton' 'John Kane' 'Salim Mirza' 'Martin Riggs'\n",
      " 'Lilo Pelekai' 'White Rabbit' 'George McFly' 'Ralph Wolf' 'Joan Wilder'\n",
      " 'Angela Baker' 'Horatio Hornblower' 'King Louis XIV' 'Rahul Kapoor'\n",
      " 'Mrs. Singh' 'Jesse James' 'Vijay Kumar' 'Alice Johnson' 'Henry Roth'\n",
      " 'Felix Leiter' 'Carol Brady' 'Wayne Szalinski' 'Will Turner'\n",
      " 'Brad Majors' 'Captain America' 'The Predator' 'Sara Moore'\n",
      " 'Josh Nichols' 'Mr. Brownlow' 'The Colonel' 'Bobby Ewing' 'Savitri Devi'\n",
      " 'The Grinch' 'Son Goku' 'Abigail Chase' 'The Monster' 'Kasper Gutman'\n",
      " 'Dev Prakash Subramaniam' 'Bridget Jones' 'Philo Beddoe'\n",
      " 'Jonathan Harker' 'François Pignon' 'Jonah Hex' 'Mark Hunter'\n",
      " 'Christine Daaé' 'Charlie McGee' 'King Leonidas' 'Jesse Stone'\n",
      " 'King Arthur' 'Albert Wesker' 'Dr. Jonas Carson' 'Bella Swan'\n",
      " 'Carlos Olivera' 'The Woman' 'Nils Bjurman' 'Doc Holliday' 'John Reed'\n",
      " 'Peter Mitchell' 'Rizwan Khan'\n",
      " 'Deloris Van Cartier / Sister Mary Clarence' 'Walter Burns'\n",
      " 'Taj Mahal Badalandabad' 'Troy Bolton' 'Henry II of England'\n",
      " 'Michael Jennings' 'Laura Reynolds' 'Paul Finch' 'Michael Woods'\n",
      " 'Captain Nemo' 'Mark Darcy' 'John Smith' 'The Shadow' 'Prince Carlos'\n",
      " 'Don Giovanni' 'Uncle Joe' 'Estella Havisham' 'Woody Woodpecker'\n",
      " 'James T. Kirk' 'Juan Gallardo' 'Kiran Saxena' 'Elle Woods' 'Grand Duke'\n",
      " 'Crystal Allen' 'Commissioner Dreyfus' 'Yosemite Sam' 'Mother Superior'\n",
      " 'Linus Caldwell' 'Jerry Robinson' 'Ichigo Kurosaki' 'Michael Corleone'\n",
      " 'John Clark' 'Eliza Thornberry' 'Cruella de Vil' 'Otis B. Driftwood'\n",
      " 'Wonder Woman' 'Princess Fiona' 'Queen of Hearts' 'Elmer Fudd'\n",
      " 'Joe Miller' 'Huckleberry Finn' 'Dean Richmond' 'Big Momma' 'Alan Grant'\n",
      " 'Connor MacLeod' 'John Rolfe' 'Elizabeth Swann']\n",
      "970\n"
     ]
    }
   ],
   "source": [
    "names = pd.read_csv(data_folder+'name.clusters.txt', sep='\\t', header=None, \n",
    "                    names=['Cluster_name', 'Char_actor_id'])\n",
    "print(names.info())\n",
    "#i want to see all of the different and unique cluster names that exist\n",
    "print(names['Cluster_name'].unique())\n",
    "print(len(names['Cluster_name'].unique()))"
   ]
  }
 ],
 "metadata": {
  "kernelspec": {
   "display_name": "ada",
   "language": "python",
   "name": "python3"
  },
  "language_info": {
   "codemirror_mode": {
    "name": "ipython",
    "version": 3
   },
   "file_extension": ".py",
   "mimetype": "text/x-python",
   "name": "python",
   "nbconvert_exporter": "python",
   "pygments_lexer": "ipython3",
   "version": "3.11.9"
  }
 },
 "nbformat": 4,
 "nbformat_minor": 2
}
