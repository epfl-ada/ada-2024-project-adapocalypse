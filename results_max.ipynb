{
 "cells": [
  {
   "cell_type": "markdown",
   "metadata": {},
   "source": [
    "## Project Initialisation"
   ]
  },
  {
   "cell_type": "markdown",
   "metadata": {},
   "source": [
    "### Import librairies"
   ]
  },
  {
   "cell_type": "code",
   "execution_count": 2,
   "metadata": {},
   "outputs": [
    {
     "name": "stdout",
     "output_type": "stream",
     "text": [
      "The autoreload extension is already loaded. To reload it, use:\n",
      "  %reload_ext autoreload\n"
     ]
    }
   ],
   "source": [
    "import pandas as pd\n",
    "import numpy as np\n",
    "import matplotlib.pyplot as plt\n",
    "import seaborn as sns\n",
    "import os\n",
    "import sys\n",
    "import json\n",
    "import ast\n",
    "\n",
    "from transformers import pipeline\n",
    "from collections import defaultdict\n",
    "from transformers import pipeline\n",
    "import plotly.express as px\n",
    "import plotly.graph_objects as go\n",
    "from plotly.subplots import make_subplots\n",
    "\n",
    "\n",
    "import warnings\n",
    "warnings.filterwarnings(\"ignore\")\n",
    "\n",
    "from sklearn.model_selection import train_test_split\n",
    "from sklearn.metrics import accuracy_score, precision_score, recall_score, f1_score\n",
    "from sklearn.preprocessing import StandardScaler\n",
    "from statsmodels import tools\n",
    "from sklearn.linear_model import LogisticRegression\n",
    "from sklearn.tree import DecisionTreeClassifier, plot_tree\n",
    "from sklearn.metrics import mean_squared_error\n",
    "from sklearn.metrics import mean_absolute_error\n",
    "from sklearn.ensemble import RandomForestClassifier\n",
    "from sklearn.metrics import confusion_matrix\n",
    "\n",
    "%load_ext autoreload\n",
    "%autoreload 2\n"
   ]
  },
  {
   "cell_type": "markdown",
   "metadata": {},
   "source": [
    "### Constants "
   ]
  },
  {
   "cell_type": "code",
   "execution_count": 3,
   "metadata": {},
   "outputs": [],
   "source": [
    "RAW_DATA_FOLDER_PATH = 'data/raw/'\n",
    "PROCESSED_DATA_FOLDER_PATH = 'data/processed/'"
   ]
  },
  {
   "cell_type": "code",
   "execution_count": 4,
   "metadata": {},
   "outputs": [],
   "source": [
    "from src.data.data_transformer_copie import *"
   ]
  },
  {
   "cell_type": "code",
   "execution_count": 5,
   "metadata": {},
   "outputs": [
    {
     "data": {
      "text/html": [
       "<div>\n",
       "<style scoped>\n",
       "    .dataframe tbody tr th:only-of-type {\n",
       "        vertical-align: middle;\n",
       "    }\n",
       "\n",
       "    .dataframe tbody tr th {\n",
       "        vertical-align: top;\n",
       "    }\n",
       "\n",
       "    .dataframe thead th {\n",
       "        text-align: right;\n",
       "    }\n",
       "</style>\n",
       "<table border=\"1\" class=\"dataframe\">\n",
       "  <thead>\n",
       "    <tr style=\"text-align: right;\">\n",
       "      <th></th>\n",
       "      <th>wikipedia_movie_id</th>\n",
       "      <th>movie_name</th>\n",
       "      <th>movie_release_date</th>\n",
       "      <th>movie_genres</th>\n",
       "      <th>movie_countries</th>\n",
       "      <th>Director</th>\n",
       "      <th>Gender</th>\n",
       "      <th>actor_genders</th>\n",
       "      <th>actor_age</th>\n",
       "      <th>bechdel_rating</th>\n",
       "      <th>revenue</th>\n",
       "      <th>budget</th>\n",
       "      <th>average_rating</th>\n",
       "      <th>num_votes</th>\n",
       "      <th>emotion_scores</th>\n",
       "      <th>dominant_emotion</th>\n",
       "      <th>char_M</th>\n",
       "      <th>char_F</th>\n",
       "      <th>char_tot</th>\n",
       "    </tr>\n",
       "  </thead>\n",
       "  <tbody>\n",
       "    <tr>\n",
       "      <th>0</th>\n",
       "      <td>975900</td>\n",
       "      <td>Ghosts of Mars</td>\n",
       "      <td>2001</td>\n",
       "      <td>[Thriller, Science Fiction, Horror, Adventure,...</td>\n",
       "      <td>[United States]</td>\n",
       "      <td>John Carpenter</td>\n",
       "      <td>M</td>\n",
       "      <td>[F, F, M, M, F, F, F, M, M, M, M, M, M, M, M, ...</td>\n",
       "      <td>[42.0, 27.0, 32.0, 33.0, 23.0, 52.0, 56.0, nan...</td>\n",
       "      <td>3.0</td>\n",
       "      <td>14010832.0</td>\n",
       "      <td>28000000.0</td>\n",
       "      <td>4.9</td>\n",
       "      <td>58732.0</td>\n",
       "      <td>{'anger': 0.13912621214985849, 'disgust': 0.19...</td>\n",
       "      <td>fear</td>\n",
       "      <td>11</td>\n",
       "      <td>6</td>\n",
       "      <td>17</td>\n",
       "    </tr>\n",
       "    <tr>\n",
       "      <th>1</th>\n",
       "      <td>3196793</td>\n",
       "      <td>Getting Away with Murder: The JonBenét Ramsey ...</td>\n",
       "      <td>2000</td>\n",
       "      <td>[Horror, Biographical and Real-Life Inspired, ...</td>\n",
       "      <td>[United States]</td>\n",
       "      <td>NaN</td>\n",
       "      <td>NaN</td>\n",
       "      <td>[M, F, M, F, M, M, M, F, F, M, M, M, M, M, M]</td>\n",
       "      <td>[nan, 43.0, nan, nan, 50.0, 55.0, 40.0, 35.0, ...</td>\n",
       "      <td>NaN</td>\n",
       "      <td>NaN</td>\n",
       "      <td>NaN</td>\n",
       "      <td>NaN</td>\n",
       "      <td>NaN</td>\n",
       "      <td>NaN</td>\n",
       "      <td>NaN</td>\n",
       "      <td>11</td>\n",
       "      <td>4</td>\n",
       "      <td>15</td>\n",
       "    </tr>\n",
       "    <tr>\n",
       "      <th>2</th>\n",
       "      <td>28463795</td>\n",
       "      <td>Brun bitter</td>\n",
       "      <td>1988</td>\n",
       "      <td>[Crime and Mystery, Drama]</td>\n",
       "      <td>[Norway]</td>\n",
       "      <td>NaN</td>\n",
       "      <td>NaN</td>\n",
       "      <td>[M, F, M, F]</td>\n",
       "      <td>[33.0, 28.0, 40.0, 30.0]</td>\n",
       "      <td>NaN</td>\n",
       "      <td>NaN</td>\n",
       "      <td>NaN</td>\n",
       "      <td>NaN</td>\n",
       "      <td>NaN</td>\n",
       "      <td>NaN</td>\n",
       "      <td>NaN</td>\n",
       "      <td>2</td>\n",
       "      <td>2</td>\n",
       "      <td>4</td>\n",
       "    </tr>\n",
       "    <tr>\n",
       "      <th>3</th>\n",
       "      <td>9363483</td>\n",
       "      <td>White Of The Eye</td>\n",
       "      <td>1987</td>\n",
       "      <td>[Thriller]</td>\n",
       "      <td>[United Kingdom]</td>\n",
       "      <td>Donald Cammell</td>\n",
       "      <td>M</td>\n",
       "      <td>[M, F]</td>\n",
       "      <td>[32.0, 26.0]</td>\n",
       "      <td>NaN</td>\n",
       "      <td>NaN</td>\n",
       "      <td>NaN</td>\n",
       "      <td>NaN</td>\n",
       "      <td>NaN</td>\n",
       "      <td>{'anger': 0.33140772208571434, 'disgust': 0.20...</td>\n",
       "      <td>anger</td>\n",
       "      <td>1</td>\n",
       "      <td>1</td>\n",
       "      <td>2</td>\n",
       "    </tr>\n",
       "    <tr>\n",
       "      <th>4</th>\n",
       "      <td>261236</td>\n",
       "      <td>A Woman in Flames</td>\n",
       "      <td>1983</td>\n",
       "      <td>[Drama]</td>\n",
       "      <td>[Germany]</td>\n",
       "      <td>Robert van Ackeren</td>\n",
       "      <td>M</td>\n",
       "      <td>[F, M, M]</td>\n",
       "      <td>[32.0, 32.0, 35.0]</td>\n",
       "      <td>NaN</td>\n",
       "      <td>NaN</td>\n",
       "      <td>NaN</td>\n",
       "      <td>5.9</td>\n",
       "      <td>648.0</td>\n",
       "      <td>{'anger': 0.2845786526799202, 'disgust': 0.379...</td>\n",
       "      <td>disgust</td>\n",
       "      <td>2</td>\n",
       "      <td>1</td>\n",
       "      <td>3</td>\n",
       "    </tr>\n",
       "    <tr>\n",
       "      <th>...</th>\n",
       "      <td>...</td>\n",
       "      <td>...</td>\n",
       "      <td>...</td>\n",
       "      <td>...</td>\n",
       "      <td>...</td>\n",
       "      <td>...</td>\n",
       "      <td>...</td>\n",
       "      <td>...</td>\n",
       "      <td>...</td>\n",
       "      <td>...</td>\n",
       "      <td>...</td>\n",
       "      <td>...</td>\n",
       "      <td>...</td>\n",
       "      <td>...</td>\n",
       "      <td>...</td>\n",
       "      <td>...</td>\n",
       "      <td>...</td>\n",
       "      <td>...</td>\n",
       "      <td>...</td>\n",
       "    </tr>\n",
       "    <tr>\n",
       "      <th>60342</th>\n",
       "      <td>23851782</td>\n",
       "      <td>The Ghost Train</td>\n",
       "      <td>1941</td>\n",
       "      <td>[Crime and Mystery, Thriller, Comedy, Horror]</td>\n",
       "      <td>[United Kingdom]</td>\n",
       "      <td>Walter Forde</td>\n",
       "      <td>M</td>\n",
       "      <td>[F, M, F, M, M, M, F, M, M, F, M, M, M]</td>\n",
       "      <td>[nan, 37.0, 27.0, 34.0, 40.0, nan, 22.0, nan, ...</td>\n",
       "      <td>NaN</td>\n",
       "      <td>NaN</td>\n",
       "      <td>NaN</td>\n",
       "      <td>6.1</td>\n",
       "      <td>1711.0</td>\n",
       "      <td>{'anger': 0.2017415647378898, 'disgust': 0.071...</td>\n",
       "      <td>fear</td>\n",
       "      <td>9</td>\n",
       "      <td>4</td>\n",
       "      <td>13</td>\n",
       "    </tr>\n",
       "    <tr>\n",
       "      <th>60343</th>\n",
       "      <td>32468537</td>\n",
       "      <td>Shadow Boxing 2</td>\n",
       "      <td>2007</td>\n",
       "      <td>[Biographical and Real-Life Inspired, Crime an...</td>\n",
       "      <td>[Russia]</td>\n",
       "      <td>NaN</td>\n",
       "      <td>NaN</td>\n",
       "      <td>[M, F, M, M, M, M, M, M, M, M]</td>\n",
       "      <td>[45.0, nan, nan, 49.0, nan, nan, nan, nan, nan...</td>\n",
       "      <td>NaN</td>\n",
       "      <td>NaN</td>\n",
       "      <td>NaN</td>\n",
       "      <td>NaN</td>\n",
       "      <td>NaN</td>\n",
       "      <td>NaN</td>\n",
       "      <td>NaN</td>\n",
       "      <td>9</td>\n",
       "      <td>1</td>\n",
       "      <td>10</td>\n",
       "    </tr>\n",
       "    <tr>\n",
       "      <th>60344</th>\n",
       "      <td>9971909</td>\n",
       "      <td>Another Nice Mess</td>\n",
       "      <td>1972</td>\n",
       "      <td>[Comedy]</td>\n",
       "      <td>[United States]</td>\n",
       "      <td>Bob Einstein</td>\n",
       "      <td>M</td>\n",
       "      <td>[M, M]</td>\n",
       "      <td>[33.0, 53.0]</td>\n",
       "      <td>NaN</td>\n",
       "      <td>NaN</td>\n",
       "      <td>NaN</td>\n",
       "      <td>5.9</td>\n",
       "      <td>117.0</td>\n",
       "      <td>NaN</td>\n",
       "      <td>NaN</td>\n",
       "      <td>2</td>\n",
       "      <td>0</td>\n",
       "      <td>2</td>\n",
       "    </tr>\n",
       "    <tr>\n",
       "      <th>60345</th>\n",
       "      <td>913762</td>\n",
       "      <td>The Super Dimension Fortress Macross II: Lover...</td>\n",
       "      <td>1992</td>\n",
       "      <td>[Science Fiction, World Cinema, Adventure, Ani...</td>\n",
       "      <td>[Japan]</td>\n",
       "      <td>NaN</td>\n",
       "      <td>NaN</td>\n",
       "      <td>[M, M, F, F, M, M, M, M, F, M, M, F, M, F, M]</td>\n",
       "      <td>[23.0, 22.0, 22.0, 25.0, 52.0, nan, 32.0, 32.0...</td>\n",
       "      <td>NaN</td>\n",
       "      <td>NaN</td>\n",
       "      <td>NaN</td>\n",
       "      <td>NaN</td>\n",
       "      <td>NaN</td>\n",
       "      <td>NaN</td>\n",
       "      <td>NaN</td>\n",
       "      <td>10</td>\n",
       "      <td>5</td>\n",
       "      <td>15</td>\n",
       "    </tr>\n",
       "    <tr>\n",
       "      <th>60346</th>\n",
       "      <td>12476867</td>\n",
       "      <td>Spliced</td>\n",
       "      <td>2002</td>\n",
       "      <td>[Thriller, Horror, Comedy]</td>\n",
       "      <td>[Canada]</td>\n",
       "      <td>NaN</td>\n",
       "      <td>NaN</td>\n",
       "      <td>[F, M, F, M, F, F, F, M]</td>\n",
       "      <td>[21.0, 55.0, 24.0, nan, 19.0, nan, nan, nan]</td>\n",
       "      <td>NaN</td>\n",
       "      <td>NaN</td>\n",
       "      <td>NaN</td>\n",
       "      <td>NaN</td>\n",
       "      <td>NaN</td>\n",
       "      <td>NaN</td>\n",
       "      <td>NaN</td>\n",
       "      <td>3</td>\n",
       "      <td>5</td>\n",
       "      <td>8</td>\n",
       "    </tr>\n",
       "  </tbody>\n",
       "</table>\n",
       "<p>60347 rows × 19 columns</p>\n",
       "</div>"
      ],
      "text/plain": [
       "       wikipedia_movie_id                                         movie_name  \\\n",
       "0                  975900                                     Ghosts of Mars   \n",
       "1                 3196793  Getting Away with Murder: The JonBenét Ramsey ...   \n",
       "2                28463795                                        Brun bitter   \n",
       "3                 9363483                                   White Of The Eye   \n",
       "4                  261236                                  A Woman in Flames   \n",
       "...                   ...                                                ...   \n",
       "60342            23851782                                    The Ghost Train   \n",
       "60343            32468537                                    Shadow Boxing 2   \n",
       "60344             9971909                                  Another Nice Mess   \n",
       "60345              913762  The Super Dimension Fortress Macross II: Lover...   \n",
       "60346            12476867                                            Spliced   \n",
       "\n",
       "       movie_release_date                                       movie_genres  \\\n",
       "0                    2001  [Thriller, Science Fiction, Horror, Adventure,...   \n",
       "1                    2000  [Horror, Biographical and Real-Life Inspired, ...   \n",
       "2                    1988                         [Crime and Mystery, Drama]   \n",
       "3                    1987                                         [Thriller]   \n",
       "4                    1983                                            [Drama]   \n",
       "...                   ...                                                ...   \n",
       "60342                1941      [Crime and Mystery, Thriller, Comedy, Horror]   \n",
       "60343                2007  [Biographical and Real-Life Inspired, Crime an...   \n",
       "60344                1972                                           [Comedy]   \n",
       "60345                1992  [Science Fiction, World Cinema, Adventure, Ani...   \n",
       "60346                2002                         [Thriller, Horror, Comedy]   \n",
       "\n",
       "        movie_countries            Director Gender  \\\n",
       "0       [United States]      John Carpenter      M   \n",
       "1       [United States]                 NaN    NaN   \n",
       "2              [Norway]                 NaN    NaN   \n",
       "3      [United Kingdom]      Donald Cammell      M   \n",
       "4             [Germany]  Robert van Ackeren      M   \n",
       "...                 ...                 ...    ...   \n",
       "60342  [United Kingdom]        Walter Forde      M   \n",
       "60343          [Russia]                 NaN    NaN   \n",
       "60344   [United States]        Bob Einstein      M   \n",
       "60345           [Japan]                 NaN    NaN   \n",
       "60346          [Canada]                 NaN    NaN   \n",
       "\n",
       "                                           actor_genders  \\\n",
       "0      [F, F, M, M, F, F, F, M, M, M, M, M, M, M, M, ...   \n",
       "1          [M, F, M, F, M, M, M, F, F, M, M, M, M, M, M]   \n",
       "2                                           [M, F, M, F]   \n",
       "3                                                 [M, F]   \n",
       "4                                              [F, M, M]   \n",
       "...                                                  ...   \n",
       "60342            [F, M, F, M, M, M, F, M, M, F, M, M, M]   \n",
       "60343                     [M, F, M, M, M, M, M, M, M, M]   \n",
       "60344                                             [M, M]   \n",
       "60345      [M, M, F, F, M, M, M, M, F, M, M, F, M, F, M]   \n",
       "60346                           [F, M, F, M, F, F, F, M]   \n",
       "\n",
       "                                               actor_age  bechdel_rating  \\\n",
       "0      [42.0, 27.0, 32.0, 33.0, 23.0, 52.0, 56.0, nan...             3.0   \n",
       "1      [nan, 43.0, nan, nan, 50.0, 55.0, 40.0, 35.0, ...             NaN   \n",
       "2                               [33.0, 28.0, 40.0, 30.0]             NaN   \n",
       "3                                           [32.0, 26.0]             NaN   \n",
       "4                                     [32.0, 32.0, 35.0]             NaN   \n",
       "...                                                  ...             ...   \n",
       "60342  [nan, 37.0, 27.0, 34.0, 40.0, nan, 22.0, nan, ...             NaN   \n",
       "60343  [45.0, nan, nan, 49.0, nan, nan, nan, nan, nan...             NaN   \n",
       "60344                                       [33.0, 53.0]             NaN   \n",
       "60345  [23.0, 22.0, 22.0, 25.0, 52.0, nan, 32.0, 32.0...             NaN   \n",
       "60346       [21.0, 55.0, 24.0, nan, 19.0, nan, nan, nan]             NaN   \n",
       "\n",
       "          revenue      budget  average_rating  num_votes  \\\n",
       "0      14010832.0  28000000.0             4.9    58732.0   \n",
       "1             NaN         NaN             NaN        NaN   \n",
       "2             NaN         NaN             NaN        NaN   \n",
       "3             NaN         NaN             NaN        NaN   \n",
       "4             NaN         NaN             5.9      648.0   \n",
       "...           ...         ...             ...        ...   \n",
       "60342         NaN         NaN             6.1     1711.0   \n",
       "60343         NaN         NaN             NaN        NaN   \n",
       "60344         NaN         NaN             5.9      117.0   \n",
       "60345         NaN         NaN             NaN        NaN   \n",
       "60346         NaN         NaN             NaN        NaN   \n",
       "\n",
       "                                          emotion_scores dominant_emotion  \\\n",
       "0      {'anger': 0.13912621214985849, 'disgust': 0.19...             fear   \n",
       "1                                                    NaN              NaN   \n",
       "2                                                    NaN              NaN   \n",
       "3      {'anger': 0.33140772208571434, 'disgust': 0.20...            anger   \n",
       "4      {'anger': 0.2845786526799202, 'disgust': 0.379...          disgust   \n",
       "...                                                  ...              ...   \n",
       "60342  {'anger': 0.2017415647378898, 'disgust': 0.071...             fear   \n",
       "60343                                                NaN              NaN   \n",
       "60344                                                NaN              NaN   \n",
       "60345                                                NaN              NaN   \n",
       "60346                                                NaN              NaN   \n",
       "\n",
       "       char_M  char_F  char_tot  \n",
       "0          11       6        17  \n",
       "1          11       4        15  \n",
       "2           2       2         4  \n",
       "3           1       1         2  \n",
       "4           2       1         3  \n",
       "...       ...     ...       ...  \n",
       "60342       9       4        13  \n",
       "60343       9       1        10  \n",
       "60344       2       0         2  \n",
       "60345      10       5        15  \n",
       "60346       3       5         8  \n",
       "\n",
       "[60347 rows x 19 columns]"
      ]
     },
     "execution_count": 5,
     "metadata": {},
     "output_type": "execute_result"
    }
   ],
   "source": [
    "movies_complete_df=preprocess_movies_complete(from_files=True)\n",
    "movies_complete_df"
   ]
  },
  {
   "cell_type": "markdown",
   "metadata": {},
   "source": [
    "### Preprocessing of the plot summaries dataset"
   ]
  },
  {
   "cell_type": "code",
   "execution_count": 6,
   "metadata": {},
   "outputs": [],
   "source": [
    "def preprocessing_plot_summaries(movies_complete_df):\n",
    "    # Load the plot summaries\n",
    "    column_names = [\"wikipedia_movie_id\", \"plot\"]\n",
    "    df_plot_summaries = pd.read_csv(RAW_DATA_FOLDER_PATH + 'plot_summaries.txt', sep=\"\\t\", names=column_names)\n",
    "\n",
    "    # Filtering of the movies which are not in our other complete dataset\n",
    "    df_plot_summaries_filtered = df_plot_summaries[df_plot_summaries['wikipedia_movie_id'].isin(movies_complete_df['wikipedia_movie_id'])]\n",
    "    df_plot_summaries_filtered.reset_index(drop=True, inplace=True)\n",
    "\n",
    "    # For more readibility\n",
    "    df_plot_summaries = df_plot_summaries_filtered.copy()\n",
    "\n",
    "    # Add the movie title to the plot summaries\n",
    "    df_plot_summaries_filtered['movie_title'] = df_plot_summaries['wikipedia_movie_id'].map(movies_complete_df.set_index('wikipedia_movie_id')['movie_name'].to_dict())\n",
    "\n",
    "    # Add the director and their gender for each plot summary\n",
    "    df_plot_summaries['director'] = df_plot_summaries['wikipedia_movie_id'].map(movies_complete_df.set_index('wikipedia_movie_id')['Director'].to_dict())\n",
    "    df_plot_summaries['director_gender'] = df_plot_summaries['wikipedia_movie_id'].map(movies_complete_df.set_index('wikipedia_movie_id')['Gender'].to_dict())\n",
    "\n",
    "    # Drop the rows where the director is NaN or the director_gender is NaN\n",
    "    df_plot_summaries = df_plot_summaries.dropna(subset=['director'])\n",
    "    df_plot_summaries = df_plot_summaries.dropna(subset=['director_gender'])\n",
    "\n",
    "    return df_plot_summaries"
   ]
  },
  {
   "cell_type": "code",
   "execution_count": 7,
   "metadata": {},
   "outputs": [
    {
     "data": {
      "text/html": [
       "<div>\n",
       "<style scoped>\n",
       "    .dataframe tbody tr th:only-of-type {\n",
       "        vertical-align: middle;\n",
       "    }\n",
       "\n",
       "    .dataframe tbody tr th {\n",
       "        vertical-align: top;\n",
       "    }\n",
       "\n",
       "    .dataframe thead th {\n",
       "        text-align: right;\n",
       "    }\n",
       "</style>\n",
       "<table border=\"1\" class=\"dataframe\">\n",
       "  <thead>\n",
       "    <tr style=\"text-align: right;\">\n",
       "      <th></th>\n",
       "      <th>wikipedia_movie_id</th>\n",
       "      <th>plot</th>\n",
       "      <th>director</th>\n",
       "      <th>director_gender</th>\n",
       "    </tr>\n",
       "  </thead>\n",
       "  <tbody>\n",
       "    <tr>\n",
       "      <th>0</th>\n",
       "      <td>23890098</td>\n",
       "      <td>Shlykov, a hard-working taxi driver and Lyosha...</td>\n",
       "      <td>Pavel Lungin</td>\n",
       "      <td>M</td>\n",
       "    </tr>\n",
       "    <tr>\n",
       "      <th>2</th>\n",
       "      <td>20663735</td>\n",
       "      <td>Poovalli Induchoodan  is sentenced for six yea...</td>\n",
       "      <td>Shaji Kailas</td>\n",
       "      <td>M</td>\n",
       "    </tr>\n",
       "    <tr>\n",
       "      <th>3</th>\n",
       "      <td>2231378</td>\n",
       "      <td>The Lemon Drop Kid , a New York City swindler,...</td>\n",
       "      <td>Sidney Lanfield Frank Tashlin (uncredited)</td>\n",
       "      <td>M</td>\n",
       "    </tr>\n",
       "    <tr>\n",
       "      <th>4</th>\n",
       "      <td>595909</td>\n",
       "      <td>Seventh-day Adventist Church pastor Michael Ch...</td>\n",
       "      <td>Fred Schepisi</td>\n",
       "      <td>M</td>\n",
       "    </tr>\n",
       "    <tr>\n",
       "      <th>5</th>\n",
       "      <td>5272176</td>\n",
       "      <td>The president is on his way to give a speech. ...</td>\n",
       "      <td>Andy Cheng</td>\n",
       "      <td>M</td>\n",
       "    </tr>\n",
       "    <tr>\n",
       "      <th>...</th>\n",
       "      <td>...</td>\n",
       "      <td>...</td>\n",
       "      <td>...</td>\n",
       "      <td>...</td>\n",
       "    </tr>\n",
       "    <tr>\n",
       "      <th>35805</th>\n",
       "      <td>30352708</td>\n",
       "      <td>Twenty-something Eun-mo listens to a taxi driv...</td>\n",
       "      <td>Park Chan-ok</td>\n",
       "      <td>M</td>\n",
       "    </tr>\n",
       "    <tr>\n",
       "      <th>35806</th>\n",
       "      <td>2867597</td>\n",
       "      <td>An attempt to bring the famed \"Mr. Bill\" clay ...</td>\n",
       "      <td>Jim Drake</td>\n",
       "      <td>M</td>\n",
       "    </tr>\n",
       "    <tr>\n",
       "      <th>35808</th>\n",
       "      <td>1096473</td>\n",
       "      <td>In 1928 Hollywood, director Leo Andreyev  look...</td>\n",
       "      <td>Josef von Sternberg</td>\n",
       "      <td>M</td>\n",
       "    </tr>\n",
       "    <tr>\n",
       "      <th>35809</th>\n",
       "      <td>8628195</td>\n",
       "      <td>Abdur Rehman Khan , a middle-aged dry fruit se...</td>\n",
       "      <td>Hemen Gupta</td>\n",
       "      <td>F</td>\n",
       "    </tr>\n",
       "    <tr>\n",
       "      <th>35810</th>\n",
       "      <td>6040782</td>\n",
       "      <td>1940 - Operation Dynamo has just taken place. ...</td>\n",
       "      <td>Norman Cohen</td>\n",
       "      <td>M</td>\n",
       "    </tr>\n",
       "  </tbody>\n",
       "</table>\n",
       "<p>26023 rows × 4 columns</p>\n",
       "</div>"
      ],
      "text/plain": [
       "       wikipedia_movie_id                                               plot  \\\n",
       "0                23890098  Shlykov, a hard-working taxi driver and Lyosha...   \n",
       "2                20663735  Poovalli Induchoodan  is sentenced for six yea...   \n",
       "3                 2231378  The Lemon Drop Kid , a New York City swindler,...   \n",
       "4                  595909  Seventh-day Adventist Church pastor Michael Ch...   \n",
       "5                 5272176  The president is on his way to give a speech. ...   \n",
       "...                   ...                                                ...   \n",
       "35805            30352708  Twenty-something Eun-mo listens to a taxi driv...   \n",
       "35806             2867597  An attempt to bring the famed \"Mr. Bill\" clay ...   \n",
       "35808             1096473  In 1928 Hollywood, director Leo Andreyev  look...   \n",
       "35809             8628195  Abdur Rehman Khan , a middle-aged dry fruit se...   \n",
       "35810             6040782  1940 - Operation Dynamo has just taken place. ...   \n",
       "\n",
       "                                         director director_gender  \n",
       "0                                    Pavel Lungin               M  \n",
       "2                                    Shaji Kailas               M  \n",
       "3      Sidney Lanfield Frank Tashlin (uncredited)               M  \n",
       "4                                   Fred Schepisi               M  \n",
       "5                                      Andy Cheng               M  \n",
       "...                                           ...             ...  \n",
       "35805                                Park Chan-ok               M  \n",
       "35806                                   Jim Drake               M  \n",
       "35808                         Josef von Sternberg               M  \n",
       "35809                                 Hemen Gupta               F  \n",
       "35810                                Norman Cohen               M  \n",
       "\n",
       "[26023 rows x 4 columns]"
      ]
     },
     "execution_count": 7,
     "metadata": {},
     "output_type": "execute_result"
    }
   ],
   "source": [
    "df_plot_summaries = preprocessing_plot_summaries(movies_complete_df)\n",
    "df_plot_summaries"
   ]
  },
  {
   "cell_type": "markdown",
   "metadata": {},
   "source": [
    "## Sentiment analysis on the plot summaries"
   ]
  },
  {
   "cell_type": "markdown",
   "metadata": {},
   "source": [
    "### Obtaining emotions for all plot summeries  "
   ]
  },
  {
   "cell_type": "code",
   "execution_count": 9,
   "metadata": {},
   "outputs": [],
   "source": [
    "# Load the pipeline with a specific emotion model\n",
    "emotion_pipeline = pipeline(\"text-classification\", model=\"j-hartmann/emotion-english-distilroberta-base\", return_all_scores=True)\n",
    "\n",
    "# Function for analyzing the emotion of a text\n",
    "def emotion_analysis(text):\n",
    "    chunks = [text[i:i+512] for i in range(0, len(text), 512)]\n",
    "    results = [emotion_pipeline(chunk) for chunk in chunks]\n",
    "\n",
    "    # Initialize a dictionary to accumulate scores for each emotion\n",
    "    emotion_scores = defaultdict(list)\n",
    "\n",
    "    #Process each chunk and accumulate scores\n",
    "    for chunk_result in results:\n",
    "        for emotion in chunk_result:\n",
    "            for i in range(len(emotion)):\n",
    "                emotion_scores[emotion[i]['label']].append(emotion[i]['score'])\n",
    "            #print(emotion_scores[emotion['label']])\n",
    "            #emotion_scores[emotion['label']].append(emotion['score'])\n",
    "\n",
    "    # Calculate the average score for each emotion\n",
    "    average_scores = {emotion: sum(scores) / len(scores) for emotion, scores in emotion_scores.items()}\n",
    "\n",
    "    return average_scores\n",
    "\n",
    "\n",
    "# Function for processing all film summaries \n",
    "def emotion_score_big_dataset_csv(df, output_file, from_index, to_index, batch_size):\n",
    "    for i in range(from_index, to_index, batch_size):\n",
    "        batch = df.iloc[i:i + batch_size]\n",
    "\n",
    "        batch['emotion_scores'] = batch['plot'].apply(emotion_analysis)\n",
    "        batch['dominant_emotion'] = batch['emotion_scores'].apply(lambda x: max(x, key=x.get))\n",
    "\n",
    "        batch.to_csv(output_file, mode='a', index=False, header=not os.path.exists(output_file))\n"
   ]
  },
  {
   "cell_type": "code",
   "execution_count": null,
   "metadata": {},
   "outputs": [],
   "source": [
    "# Creation of the csv with all the emotions scores\n",
    "output_file = PROCESSED_DATA_FOLDER_PATH + 'plot_emotions.csv'\n",
    "emotion_score_big_dataset_csv(df_plot_summaries, output_file, 0, df_plot_summaries.shape[0], batch_size=100)"
   ]
  },
  {
   "cell_type": "code",
   "execution_count": 60,
   "metadata": {},
   "outputs": [],
   "source": [
    "# Dataframe with the emotions scores\n",
    "df_plot_emotions = pd.read_csv(PROCESSED_DATA_FOLDER_PATH + 'plot_emotions.csv')"
   ]
  },
  {
   "cell_type": "code",
   "execution_count": 8,
   "metadata": {},
   "outputs": [
    {
     "data": {
      "text/html": [
       "<div>\n",
       "<style scoped>\n",
       "    .dataframe tbody tr th:only-of-type {\n",
       "        vertical-align: middle;\n",
       "    }\n",
       "\n",
       "    .dataframe tbody tr th {\n",
       "        vertical-align: top;\n",
       "    }\n",
       "\n",
       "    .dataframe thead th {\n",
       "        text-align: right;\n",
       "    }\n",
       "</style>\n",
       "<table border=\"1\" class=\"dataframe\">\n",
       "  <thead>\n",
       "    <tr style=\"text-align: right;\">\n",
       "      <th></th>\n",
       "      <th>wikipedia_movie_id</th>\n",
       "      <th>movie_name</th>\n",
       "      <th>movie_release_date</th>\n",
       "      <th>movie_genres</th>\n",
       "      <th>movie_countries</th>\n",
       "      <th>Director</th>\n",
       "      <th>Gender</th>\n",
       "      <th>actor_genders</th>\n",
       "      <th>actor_age</th>\n",
       "      <th>bechdel_rating</th>\n",
       "      <th>revenue</th>\n",
       "      <th>budget</th>\n",
       "      <th>average_rating</th>\n",
       "      <th>num_votes</th>\n",
       "      <th>emotion_scores</th>\n",
       "      <th>dominant_emotion</th>\n",
       "      <th>char_M</th>\n",
       "      <th>char_F</th>\n",
       "      <th>char_tot</th>\n",
       "    </tr>\n",
       "  </thead>\n",
       "  <tbody>\n",
       "    <tr>\n",
       "      <th>0</th>\n",
       "      <td>975900</td>\n",
       "      <td>Ghosts of Mars</td>\n",
       "      <td>2001</td>\n",
       "      <td>[Thriller, Science Fiction, Horror, Adventure,...</td>\n",
       "      <td>[United States]</td>\n",
       "      <td>John Carpenter</td>\n",
       "      <td>M</td>\n",
       "      <td>[F, F, M, M, F, F, F, M, M, M, M, M, M, M, M, ...</td>\n",
       "      <td>[42.0, 27.0, 32.0, 33.0, 23.0, 52.0, 56.0, nan...</td>\n",
       "      <td>3.0</td>\n",
       "      <td>14010832.0</td>\n",
       "      <td>28000000.0</td>\n",
       "      <td>4.9</td>\n",
       "      <td>58732.0</td>\n",
       "      <td>{'anger': 0.13912621214985849, 'disgust': 0.19...</td>\n",
       "      <td>fear</td>\n",
       "      <td>11</td>\n",
       "      <td>6</td>\n",
       "      <td>17</td>\n",
       "    </tr>\n",
       "    <tr>\n",
       "      <th>1</th>\n",
       "      <td>3196793</td>\n",
       "      <td>Getting Away with Murder: The JonBenét Ramsey ...</td>\n",
       "      <td>2000</td>\n",
       "      <td>[Horror, Biographical and Real-Life Inspired, ...</td>\n",
       "      <td>[United States]</td>\n",
       "      <td>NaN</td>\n",
       "      <td>NaN</td>\n",
       "      <td>[M, F, M, F, M, M, M, F, F, M, M, M, M, M, M]</td>\n",
       "      <td>[nan, 43.0, nan, nan, 50.0, 55.0, 40.0, 35.0, ...</td>\n",
       "      <td>NaN</td>\n",
       "      <td>NaN</td>\n",
       "      <td>NaN</td>\n",
       "      <td>NaN</td>\n",
       "      <td>NaN</td>\n",
       "      <td>NaN</td>\n",
       "      <td>NaN</td>\n",
       "      <td>11</td>\n",
       "      <td>4</td>\n",
       "      <td>15</td>\n",
       "    </tr>\n",
       "    <tr>\n",
       "      <th>2</th>\n",
       "      <td>28463795</td>\n",
       "      <td>Brun bitter</td>\n",
       "      <td>1988</td>\n",
       "      <td>[Crime and Mystery, Drama]</td>\n",
       "      <td>[Norway]</td>\n",
       "      <td>NaN</td>\n",
       "      <td>NaN</td>\n",
       "      <td>[M, F, M, F]</td>\n",
       "      <td>[33.0, 28.0, 40.0, 30.0]</td>\n",
       "      <td>NaN</td>\n",
       "      <td>NaN</td>\n",
       "      <td>NaN</td>\n",
       "      <td>NaN</td>\n",
       "      <td>NaN</td>\n",
       "      <td>NaN</td>\n",
       "      <td>NaN</td>\n",
       "      <td>2</td>\n",
       "      <td>2</td>\n",
       "      <td>4</td>\n",
       "    </tr>\n",
       "    <tr>\n",
       "      <th>3</th>\n",
       "      <td>9363483</td>\n",
       "      <td>White Of The Eye</td>\n",
       "      <td>1987</td>\n",
       "      <td>[Thriller]</td>\n",
       "      <td>[United Kingdom]</td>\n",
       "      <td>Donald Cammell</td>\n",
       "      <td>M</td>\n",
       "      <td>[M, F]</td>\n",
       "      <td>[32.0, 26.0]</td>\n",
       "      <td>NaN</td>\n",
       "      <td>NaN</td>\n",
       "      <td>NaN</td>\n",
       "      <td>NaN</td>\n",
       "      <td>NaN</td>\n",
       "      <td>{'anger': 0.33140772208571434, 'disgust': 0.20...</td>\n",
       "      <td>anger</td>\n",
       "      <td>1</td>\n",
       "      <td>1</td>\n",
       "      <td>2</td>\n",
       "    </tr>\n",
       "    <tr>\n",
       "      <th>4</th>\n",
       "      <td>261236</td>\n",
       "      <td>A Woman in Flames</td>\n",
       "      <td>1983</td>\n",
       "      <td>[Drama]</td>\n",
       "      <td>[Germany]</td>\n",
       "      <td>Robert van Ackeren</td>\n",
       "      <td>M</td>\n",
       "      <td>[F, M, M]</td>\n",
       "      <td>[32.0, 32.0, 35.0]</td>\n",
       "      <td>NaN</td>\n",
       "      <td>NaN</td>\n",
       "      <td>NaN</td>\n",
       "      <td>5.9</td>\n",
       "      <td>648.0</td>\n",
       "      <td>{'anger': 0.2845786526799202, 'disgust': 0.379...</td>\n",
       "      <td>disgust</td>\n",
       "      <td>2</td>\n",
       "      <td>1</td>\n",
       "      <td>3</td>\n",
       "    </tr>\n",
       "    <tr>\n",
       "      <th>...</th>\n",
       "      <td>...</td>\n",
       "      <td>...</td>\n",
       "      <td>...</td>\n",
       "      <td>...</td>\n",
       "      <td>...</td>\n",
       "      <td>...</td>\n",
       "      <td>...</td>\n",
       "      <td>...</td>\n",
       "      <td>...</td>\n",
       "      <td>...</td>\n",
       "      <td>...</td>\n",
       "      <td>...</td>\n",
       "      <td>...</td>\n",
       "      <td>...</td>\n",
       "      <td>...</td>\n",
       "      <td>...</td>\n",
       "      <td>...</td>\n",
       "      <td>...</td>\n",
       "      <td>...</td>\n",
       "    </tr>\n",
       "    <tr>\n",
       "      <th>60342</th>\n",
       "      <td>23851782</td>\n",
       "      <td>The Ghost Train</td>\n",
       "      <td>1941</td>\n",
       "      <td>[Crime and Mystery, Thriller, Comedy, Horror]</td>\n",
       "      <td>[United Kingdom]</td>\n",
       "      <td>Walter Forde</td>\n",
       "      <td>M</td>\n",
       "      <td>[F, M, F, M, M, M, F, M, M, F, M, M, M]</td>\n",
       "      <td>[nan, 37.0, 27.0, 34.0, 40.0, nan, 22.0, nan, ...</td>\n",
       "      <td>NaN</td>\n",
       "      <td>NaN</td>\n",
       "      <td>NaN</td>\n",
       "      <td>6.1</td>\n",
       "      <td>1711.0</td>\n",
       "      <td>{'anger': 0.2017415647378898, 'disgust': 0.071...</td>\n",
       "      <td>fear</td>\n",
       "      <td>9</td>\n",
       "      <td>4</td>\n",
       "      <td>13</td>\n",
       "    </tr>\n",
       "    <tr>\n",
       "      <th>60343</th>\n",
       "      <td>32468537</td>\n",
       "      <td>Shadow Boxing 2</td>\n",
       "      <td>2007</td>\n",
       "      <td>[Biographical and Real-Life Inspired, Crime an...</td>\n",
       "      <td>[Russia]</td>\n",
       "      <td>NaN</td>\n",
       "      <td>NaN</td>\n",
       "      <td>[M, F, M, M, M, M, M, M, M, M]</td>\n",
       "      <td>[45.0, nan, nan, 49.0, nan, nan, nan, nan, nan...</td>\n",
       "      <td>NaN</td>\n",
       "      <td>NaN</td>\n",
       "      <td>NaN</td>\n",
       "      <td>NaN</td>\n",
       "      <td>NaN</td>\n",
       "      <td>NaN</td>\n",
       "      <td>NaN</td>\n",
       "      <td>9</td>\n",
       "      <td>1</td>\n",
       "      <td>10</td>\n",
       "    </tr>\n",
       "    <tr>\n",
       "      <th>60344</th>\n",
       "      <td>9971909</td>\n",
       "      <td>Another Nice Mess</td>\n",
       "      <td>1972</td>\n",
       "      <td>[Comedy]</td>\n",
       "      <td>[United States]</td>\n",
       "      <td>Bob Einstein</td>\n",
       "      <td>M</td>\n",
       "      <td>[M, M]</td>\n",
       "      <td>[33.0, 53.0]</td>\n",
       "      <td>NaN</td>\n",
       "      <td>NaN</td>\n",
       "      <td>NaN</td>\n",
       "      <td>5.9</td>\n",
       "      <td>117.0</td>\n",
       "      <td>NaN</td>\n",
       "      <td>NaN</td>\n",
       "      <td>2</td>\n",
       "      <td>0</td>\n",
       "      <td>2</td>\n",
       "    </tr>\n",
       "    <tr>\n",
       "      <th>60345</th>\n",
       "      <td>913762</td>\n",
       "      <td>The Super Dimension Fortress Macross II: Lover...</td>\n",
       "      <td>1992</td>\n",
       "      <td>[Science Fiction, World Cinema, Adventure, Ani...</td>\n",
       "      <td>[Japan]</td>\n",
       "      <td>NaN</td>\n",
       "      <td>NaN</td>\n",
       "      <td>[M, M, F, F, M, M, M, M, F, M, M, F, M, F, M]</td>\n",
       "      <td>[23.0, 22.0, 22.0, 25.0, 52.0, nan, 32.0, 32.0...</td>\n",
       "      <td>NaN</td>\n",
       "      <td>NaN</td>\n",
       "      <td>NaN</td>\n",
       "      <td>NaN</td>\n",
       "      <td>NaN</td>\n",
       "      <td>NaN</td>\n",
       "      <td>NaN</td>\n",
       "      <td>10</td>\n",
       "      <td>5</td>\n",
       "      <td>15</td>\n",
       "    </tr>\n",
       "    <tr>\n",
       "      <th>60346</th>\n",
       "      <td>12476867</td>\n",
       "      <td>Spliced</td>\n",
       "      <td>2002</td>\n",
       "      <td>[Thriller, Horror, Comedy]</td>\n",
       "      <td>[Canada]</td>\n",
       "      <td>NaN</td>\n",
       "      <td>NaN</td>\n",
       "      <td>[F, M, F, M, F, F, F, M]</td>\n",
       "      <td>[21.0, 55.0, 24.0, nan, 19.0, nan, nan, nan]</td>\n",
       "      <td>NaN</td>\n",
       "      <td>NaN</td>\n",
       "      <td>NaN</td>\n",
       "      <td>NaN</td>\n",
       "      <td>NaN</td>\n",
       "      <td>NaN</td>\n",
       "      <td>NaN</td>\n",
       "      <td>3</td>\n",
       "      <td>5</td>\n",
       "      <td>8</td>\n",
       "    </tr>\n",
       "  </tbody>\n",
       "</table>\n",
       "<p>60347 rows × 19 columns</p>\n",
       "</div>"
      ],
      "text/plain": [
       "       wikipedia_movie_id                                         movie_name  \\\n",
       "0                  975900                                     Ghosts of Mars   \n",
       "1                 3196793  Getting Away with Murder: The JonBenét Ramsey ...   \n",
       "2                28463795                                        Brun bitter   \n",
       "3                 9363483                                   White Of The Eye   \n",
       "4                  261236                                  A Woman in Flames   \n",
       "...                   ...                                                ...   \n",
       "60342            23851782                                    The Ghost Train   \n",
       "60343            32468537                                    Shadow Boxing 2   \n",
       "60344             9971909                                  Another Nice Mess   \n",
       "60345              913762  The Super Dimension Fortress Macross II: Lover...   \n",
       "60346            12476867                                            Spliced   \n",
       "\n",
       "       movie_release_date                                       movie_genres  \\\n",
       "0                    2001  [Thriller, Science Fiction, Horror, Adventure,...   \n",
       "1                    2000  [Horror, Biographical and Real-Life Inspired, ...   \n",
       "2                    1988                         [Crime and Mystery, Drama]   \n",
       "3                    1987                                         [Thriller]   \n",
       "4                    1983                                            [Drama]   \n",
       "...                   ...                                                ...   \n",
       "60342                1941      [Crime and Mystery, Thriller, Comedy, Horror]   \n",
       "60343                2007  [Biographical and Real-Life Inspired, Crime an...   \n",
       "60344                1972                                           [Comedy]   \n",
       "60345                1992  [Science Fiction, World Cinema, Adventure, Ani...   \n",
       "60346                2002                         [Thriller, Horror, Comedy]   \n",
       "\n",
       "        movie_countries            Director Gender  \\\n",
       "0       [United States]      John Carpenter      M   \n",
       "1       [United States]                 NaN    NaN   \n",
       "2              [Norway]                 NaN    NaN   \n",
       "3      [United Kingdom]      Donald Cammell      M   \n",
       "4             [Germany]  Robert van Ackeren      M   \n",
       "...                 ...                 ...    ...   \n",
       "60342  [United Kingdom]        Walter Forde      M   \n",
       "60343          [Russia]                 NaN    NaN   \n",
       "60344   [United States]        Bob Einstein      M   \n",
       "60345           [Japan]                 NaN    NaN   \n",
       "60346          [Canada]                 NaN    NaN   \n",
       "\n",
       "                                           actor_genders  \\\n",
       "0      [F, F, M, M, F, F, F, M, M, M, M, M, M, M, M, ...   \n",
       "1          [M, F, M, F, M, M, M, F, F, M, M, M, M, M, M]   \n",
       "2                                           [M, F, M, F]   \n",
       "3                                                 [M, F]   \n",
       "4                                              [F, M, M]   \n",
       "...                                                  ...   \n",
       "60342            [F, M, F, M, M, M, F, M, M, F, M, M, M]   \n",
       "60343                     [M, F, M, M, M, M, M, M, M, M]   \n",
       "60344                                             [M, M]   \n",
       "60345      [M, M, F, F, M, M, M, M, F, M, M, F, M, F, M]   \n",
       "60346                           [F, M, F, M, F, F, F, M]   \n",
       "\n",
       "                                               actor_age  bechdel_rating  \\\n",
       "0      [42.0, 27.0, 32.0, 33.0, 23.0, 52.0, 56.0, nan...             3.0   \n",
       "1      [nan, 43.0, nan, nan, 50.0, 55.0, 40.0, 35.0, ...             NaN   \n",
       "2                               [33.0, 28.0, 40.0, 30.0]             NaN   \n",
       "3                                           [32.0, 26.0]             NaN   \n",
       "4                                     [32.0, 32.0, 35.0]             NaN   \n",
       "...                                                  ...             ...   \n",
       "60342  [nan, 37.0, 27.0, 34.0, 40.0, nan, 22.0, nan, ...             NaN   \n",
       "60343  [45.0, nan, nan, 49.0, nan, nan, nan, nan, nan...             NaN   \n",
       "60344                                       [33.0, 53.0]             NaN   \n",
       "60345  [23.0, 22.0, 22.0, 25.0, 52.0, nan, 32.0, 32.0...             NaN   \n",
       "60346       [21.0, 55.0, 24.0, nan, 19.0, nan, nan, nan]             NaN   \n",
       "\n",
       "          revenue      budget  average_rating  num_votes  \\\n",
       "0      14010832.0  28000000.0             4.9    58732.0   \n",
       "1             NaN         NaN             NaN        NaN   \n",
       "2             NaN         NaN             NaN        NaN   \n",
       "3             NaN         NaN             NaN        NaN   \n",
       "4             NaN         NaN             5.9      648.0   \n",
       "...           ...         ...             ...        ...   \n",
       "60342         NaN         NaN             6.1     1711.0   \n",
       "60343         NaN         NaN             NaN        NaN   \n",
       "60344         NaN         NaN             5.9      117.0   \n",
       "60345         NaN         NaN             NaN        NaN   \n",
       "60346         NaN         NaN             NaN        NaN   \n",
       "\n",
       "                                          emotion_scores dominant_emotion  \\\n",
       "0      {'anger': 0.13912621214985849, 'disgust': 0.19...             fear   \n",
       "1                                                    NaN              NaN   \n",
       "2                                                    NaN              NaN   \n",
       "3      {'anger': 0.33140772208571434, 'disgust': 0.20...            anger   \n",
       "4      {'anger': 0.2845786526799202, 'disgust': 0.379...          disgust   \n",
       "...                                                  ...              ...   \n",
       "60342  {'anger': 0.2017415647378898, 'disgust': 0.071...             fear   \n",
       "60343                                                NaN              NaN   \n",
       "60344                                                NaN              NaN   \n",
       "60345                                                NaN              NaN   \n",
       "60346                                                NaN              NaN   \n",
       "\n",
       "       char_M  char_F  char_tot  \n",
       "0          11       6        17  \n",
       "1          11       4        15  \n",
       "2           2       2         4  \n",
       "3           1       1         2  \n",
       "4           2       1         3  \n",
       "...       ...     ...       ...  \n",
       "60342       9       4        13  \n",
       "60343       9       1        10  \n",
       "60344       2       0         2  \n",
       "60345      10       5        15  \n",
       "60346       3       5         8  \n",
       "\n",
       "[60347 rows x 19 columns]"
      ]
     },
     "execution_count": 8,
     "metadata": {},
     "output_type": "execute_result"
    }
   ],
   "source": [
    "movies_complete_df"
   ]
  },
  {
   "cell_type": "markdown",
   "metadata": {},
   "source": [
    "### Preprocessing plot_summaries"
   ]
  },
  {
   "cell_type": "code",
   "execution_count": 6,
   "metadata": {},
   "outputs": [],
   "source": [
    "def preprocessing_plot_summaries(movies_complete_df):\n",
    "    #df_plot_emotions = movies_complete_df.copy(deep = True)\n",
    "    df_plot_emotions = movies_complete_df[['wikipedia_movie_id', 'Director', 'Gender', 'emotion_scores', 'dominant_emotion']]\n",
    "    df_plot_emotions['emotion_scores'] = df_plot_emotions.dropna(subset=['emotion_scores'])\n",
    "    return df_plot_emotions\n",
    "\n",
    "    "
   ]
  },
  {
   "cell_type": "code",
   "execution_count": 7,
   "metadata": {},
   "outputs": [
    {
     "ename": "ValueError",
     "evalue": "Columns must be same length as key",
     "output_type": "error",
     "traceback": [
      "\u001b[0;31m---------------------------------------------------------------------------\u001b[0m",
      "\u001b[0;31mValueError\u001b[0m                                Traceback (most recent call last)",
      "Input \u001b[0;32mIn [7]\u001b[0m, in \u001b[0;36m<cell line: 1>\u001b[0;34m()\u001b[0m\n\u001b[0;32m----> 1\u001b[0m df_plot_emotions_test \u001b[38;5;241m=\u001b[39m \u001b[43mpreprocessing_plot_summaries\u001b[49m\u001b[43m(\u001b[49m\u001b[43mmovies_complete_df\u001b[49m\u001b[43m)\u001b[49m\n\u001b[1;32m      2\u001b[0m df_plot_emotions_test\n",
      "Input \u001b[0;32mIn [6]\u001b[0m, in \u001b[0;36mpreprocessing_plot_summaries\u001b[0;34m(movies_complete_df)\u001b[0m\n\u001b[1;32m      1\u001b[0m \u001b[38;5;28;01mdef\u001b[39;00m \u001b[38;5;21mpreprocessing_plot_summaries\u001b[39m(movies_complete_df):\n\u001b[1;32m      2\u001b[0m     \u001b[38;5;66;03m#df_plot_emotions = movies_complete_df.copy(deep = True)\u001b[39;00m\n\u001b[1;32m      3\u001b[0m     df_plot_emotions \u001b[38;5;241m=\u001b[39m movies_complete_df[[\u001b[38;5;124m'\u001b[39m\u001b[38;5;124mwikipedia_movie_id\u001b[39m\u001b[38;5;124m'\u001b[39m, \u001b[38;5;124m'\u001b[39m\u001b[38;5;124mDirector\u001b[39m\u001b[38;5;124m'\u001b[39m, \u001b[38;5;124m'\u001b[39m\u001b[38;5;124mGender\u001b[39m\u001b[38;5;124m'\u001b[39m, \u001b[38;5;124m'\u001b[39m\u001b[38;5;124memotion_scores\u001b[39m\u001b[38;5;124m'\u001b[39m, \u001b[38;5;124m'\u001b[39m\u001b[38;5;124mdominant_emotion\u001b[39m\u001b[38;5;124m'\u001b[39m]]\n\u001b[0;32m----> 4\u001b[0m     df_plot_emotions[\u001b[38;5;124m'\u001b[39m\u001b[38;5;124memotion_scores\u001b[39m\u001b[38;5;124m'\u001b[39m] \u001b[38;5;241m=\u001b[39m df_plot_emotions\u001b[38;5;241m.\u001b[39mdropna(subset\u001b[38;5;241m=\u001b[39m[\u001b[38;5;124m'\u001b[39m\u001b[38;5;124memotion_scores\u001b[39m\u001b[38;5;124m'\u001b[39m])\n\u001b[1;32m      5\u001b[0m     \u001b[38;5;28;01mreturn\u001b[39;00m df_plot_emotions\n",
      "File \u001b[0;32m~/miniconda3/lib/python3.9/site-packages/pandas/core/frame.py:4301\u001b[0m, in \u001b[0;36mDataFrame.__setitem__\u001b[0;34m(self, key, value)\u001b[0m\n\u001b[1;32m   4299\u001b[0m     \u001b[38;5;28mself\u001b[39m\u001b[38;5;241m.\u001b[39m_setitem_array(key, value)\n\u001b[1;32m   4300\u001b[0m \u001b[38;5;28;01melif\u001b[39;00m \u001b[38;5;28misinstance\u001b[39m(value, DataFrame):\n\u001b[0;32m-> 4301\u001b[0m     \u001b[38;5;28;43mself\u001b[39;49m\u001b[38;5;241;43m.\u001b[39;49m\u001b[43m_set_item_frame_value\u001b[49m\u001b[43m(\u001b[49m\u001b[43mkey\u001b[49m\u001b[43m,\u001b[49m\u001b[43m \u001b[49m\u001b[43mvalue\u001b[49m\u001b[43m)\u001b[49m\n\u001b[1;32m   4302\u001b[0m \u001b[38;5;28;01melif\u001b[39;00m (\n\u001b[1;32m   4303\u001b[0m     is_list_like(value)\n\u001b[1;32m   4304\u001b[0m     \u001b[38;5;129;01mand\u001b[39;00m \u001b[38;5;129;01mnot\u001b[39;00m \u001b[38;5;28mself\u001b[39m\u001b[38;5;241m.\u001b[39mcolumns\u001b[38;5;241m.\u001b[39mis_unique\n\u001b[1;32m   4305\u001b[0m     \u001b[38;5;129;01mand\u001b[39;00m \u001b[38;5;241m1\u001b[39m \u001b[38;5;241m<\u001b[39m \u001b[38;5;28mlen\u001b[39m(\u001b[38;5;28mself\u001b[39m\u001b[38;5;241m.\u001b[39mcolumns\u001b[38;5;241m.\u001b[39mget_indexer_for([key])) \u001b[38;5;241m==\u001b[39m \u001b[38;5;28mlen\u001b[39m(value)\n\u001b[1;32m   4306\u001b[0m ):\n\u001b[1;32m   4307\u001b[0m     \u001b[38;5;66;03m# Column to set is duplicated\u001b[39;00m\n\u001b[1;32m   4308\u001b[0m     \u001b[38;5;28mself\u001b[39m\u001b[38;5;241m.\u001b[39m_setitem_array([key], value)\n",
      "File \u001b[0;32m~/miniconda3/lib/python3.9/site-packages/pandas/core/frame.py:4429\u001b[0m, in \u001b[0;36mDataFrame._set_item_frame_value\u001b[0;34m(self, key, value)\u001b[0m\n\u001b[1;32m   4427\u001b[0m len_cols \u001b[38;5;241m=\u001b[39m \u001b[38;5;241m1\u001b[39m \u001b[38;5;28;01mif\u001b[39;00m is_scalar(cols) \u001b[38;5;129;01mor\u001b[39;00m \u001b[38;5;28misinstance\u001b[39m(cols, \u001b[38;5;28mtuple\u001b[39m) \u001b[38;5;28;01melse\u001b[39;00m \u001b[38;5;28mlen\u001b[39m(cols)\n\u001b[1;32m   4428\u001b[0m \u001b[38;5;28;01mif\u001b[39;00m len_cols \u001b[38;5;241m!=\u001b[39m \u001b[38;5;28mlen\u001b[39m(value\u001b[38;5;241m.\u001b[39mcolumns):\n\u001b[0;32m-> 4429\u001b[0m     \u001b[38;5;28;01mraise\u001b[39;00m \u001b[38;5;167;01mValueError\u001b[39;00m(\u001b[38;5;124m\"\u001b[39m\u001b[38;5;124mColumns must be same length as key\u001b[39m\u001b[38;5;124m\"\u001b[39m)\n\u001b[1;32m   4431\u001b[0m \u001b[38;5;66;03m# align right-hand-side columns if self.columns\u001b[39;00m\n\u001b[1;32m   4432\u001b[0m \u001b[38;5;66;03m# is multi-index and self[key] is a sub-frame\u001b[39;00m\n\u001b[1;32m   4433\u001b[0m \u001b[38;5;28;01mif\u001b[39;00m \u001b[38;5;28misinstance\u001b[39m(\u001b[38;5;28mself\u001b[39m\u001b[38;5;241m.\u001b[39mcolumns, MultiIndex) \u001b[38;5;129;01mand\u001b[39;00m \u001b[38;5;28misinstance\u001b[39m(\n\u001b[1;32m   4434\u001b[0m     loc, (\u001b[38;5;28mslice\u001b[39m, Series, np\u001b[38;5;241m.\u001b[39mndarray, Index)\n\u001b[1;32m   4435\u001b[0m ):\n",
      "\u001b[0;31mValueError\u001b[0m: Columns must be same length as key"
     ]
    }
   ],
   "source": [
    "df_plot_emotions_test = preprocessing_plot_summaries(movies_complete_df)\n",
    "df_plot_emotions_test"
   ]
  },
  {
   "cell_type": "markdown",
   "metadata": {},
   "source": [
    "### Graphs"
   ]
  },
  {
   "cell_type": "markdown",
   "metadata": {},
   "source": [
    "#### Distribution of emotions in plot summaries"
   ]
  },
  {
   "cell_type": "code",
   "execution_count": 6,
   "metadata": {},
   "outputs": [],
   "source": [
    "# Funtion to plot the distribution of emotions, in proportion to the scores obtained in the plot summaries\n",
    "def graph_emotions(df):\n",
    "    emotion_totals = {\n",
    "    'anger': 0,\n",
    "    'disgust': 0,\n",
    "    'fear': 0,\n",
    "    'joy': 0,\n",
    "    'neutral': 0,\n",
    "    'sadness': 0,\n",
    "    'surprise': 0\n",
    "    }\n",
    "    for emotion_score in df['emotion_scores']:\n",
    "        scores = ast.literal_eval(emotion_score)\n",
    "        for emotion, score in scores.items():\n",
    "            emotion_totals[emotion] += score\n",
    "\n",
    "    fig = px.pie(\n",
    "        values=list(emotion_totals.values()),\n",
    "        names=list(emotion_totals.keys()),\n",
    "        title='Emotions in Plot Summaries',\n",
    "        color_discrete_sequence=px.colors.qualitative.Set2\n",
    "    )\n",
    "    fig.show()\n",
    "\n"
   ]
  },
  {
   "cell_type": "code",
   "execution_count": 7,
   "metadata": {},
   "outputs": [
    {
     "data": {
      "application/vnd.plotly.v1+json": {
       "config": {
        "plotlyServerURL": "https://plot.ly"
       },
       "data": [
        {
         "domain": {
          "x": [
           0,
           1
          ],
          "y": [
           0,
           1
          ]
         },
         "hovertemplate": "label=%{label}<br>value=%{value}<extra></extra>",
         "labels": [
          "anger",
          "disgust",
          "fear",
          "joy",
          "neutral",
          "sadness",
          "surprise"
         ],
         "legendgroup": "",
         "name": "",
         "showlegend": true,
         "type": "pie",
         "values": [
          5621.040782081507,
          3900.8564216257705,
          4522.442838007318,
          1958.3978137610363,
          6173.81236605707,
          5148.970903614332,
          1399.478874186705
         ]
        }
       ],
       "layout": {
        "legend": {
         "tracegroupgap": 0
        },
        "piecolorway": [
         "rgb(102,194,165)",
         "rgb(252,141,98)",
         "rgb(141,160,203)",
         "rgb(231,138,195)",
         "rgb(166,216,84)",
         "rgb(255,217,47)",
         "rgb(229,196,148)",
         "rgb(179,179,179)"
        ],
        "template": {
         "data": {
          "bar": [
           {
            "error_x": {
             "color": "#2a3f5f"
            },
            "error_y": {
             "color": "#2a3f5f"
            },
            "marker": {
             "line": {
              "color": "#E5ECF6",
              "width": 0.5
             },
             "pattern": {
              "fillmode": "overlay",
              "size": 10,
              "solidity": 0.2
             }
            },
            "type": "bar"
           }
          ],
          "barpolar": [
           {
            "marker": {
             "line": {
              "color": "#E5ECF6",
              "width": 0.5
             },
             "pattern": {
              "fillmode": "overlay",
              "size": 10,
              "solidity": 0.2
             }
            },
            "type": "barpolar"
           }
          ],
          "carpet": [
           {
            "aaxis": {
             "endlinecolor": "#2a3f5f",
             "gridcolor": "white",
             "linecolor": "white",
             "minorgridcolor": "white",
             "startlinecolor": "#2a3f5f"
            },
            "baxis": {
             "endlinecolor": "#2a3f5f",
             "gridcolor": "white",
             "linecolor": "white",
             "minorgridcolor": "white",
             "startlinecolor": "#2a3f5f"
            },
            "type": "carpet"
           }
          ],
          "choropleth": [
           {
            "colorbar": {
             "outlinewidth": 0,
             "ticks": ""
            },
            "type": "choropleth"
           }
          ],
          "contour": [
           {
            "colorbar": {
             "outlinewidth": 0,
             "ticks": ""
            },
            "colorscale": [
             [
              0,
              "#0d0887"
             ],
             [
              0.1111111111111111,
              "#46039f"
             ],
             [
              0.2222222222222222,
              "#7201a8"
             ],
             [
              0.3333333333333333,
              "#9c179e"
             ],
             [
              0.4444444444444444,
              "#bd3786"
             ],
             [
              0.5555555555555556,
              "#d8576b"
             ],
             [
              0.6666666666666666,
              "#ed7953"
             ],
             [
              0.7777777777777778,
              "#fb9f3a"
             ],
             [
              0.8888888888888888,
              "#fdca26"
             ],
             [
              1,
              "#f0f921"
             ]
            ],
            "type": "contour"
           }
          ],
          "contourcarpet": [
           {
            "colorbar": {
             "outlinewidth": 0,
             "ticks": ""
            },
            "type": "contourcarpet"
           }
          ],
          "heatmap": [
           {
            "colorbar": {
             "outlinewidth": 0,
             "ticks": ""
            },
            "colorscale": [
             [
              0,
              "#0d0887"
             ],
             [
              0.1111111111111111,
              "#46039f"
             ],
             [
              0.2222222222222222,
              "#7201a8"
             ],
             [
              0.3333333333333333,
              "#9c179e"
             ],
             [
              0.4444444444444444,
              "#bd3786"
             ],
             [
              0.5555555555555556,
              "#d8576b"
             ],
             [
              0.6666666666666666,
              "#ed7953"
             ],
             [
              0.7777777777777778,
              "#fb9f3a"
             ],
             [
              0.8888888888888888,
              "#fdca26"
             ],
             [
              1,
              "#f0f921"
             ]
            ],
            "type": "heatmap"
           }
          ],
          "heatmapgl": [
           {
            "colorbar": {
             "outlinewidth": 0,
             "ticks": ""
            },
            "colorscale": [
             [
              0,
              "#0d0887"
             ],
             [
              0.1111111111111111,
              "#46039f"
             ],
             [
              0.2222222222222222,
              "#7201a8"
             ],
             [
              0.3333333333333333,
              "#9c179e"
             ],
             [
              0.4444444444444444,
              "#bd3786"
             ],
             [
              0.5555555555555556,
              "#d8576b"
             ],
             [
              0.6666666666666666,
              "#ed7953"
             ],
             [
              0.7777777777777778,
              "#fb9f3a"
             ],
             [
              0.8888888888888888,
              "#fdca26"
             ],
             [
              1,
              "#f0f921"
             ]
            ],
            "type": "heatmapgl"
           }
          ],
          "histogram": [
           {
            "marker": {
             "pattern": {
              "fillmode": "overlay",
              "size": 10,
              "solidity": 0.2
             }
            },
            "type": "histogram"
           }
          ],
          "histogram2d": [
           {
            "colorbar": {
             "outlinewidth": 0,
             "ticks": ""
            },
            "colorscale": [
             [
              0,
              "#0d0887"
             ],
             [
              0.1111111111111111,
              "#46039f"
             ],
             [
              0.2222222222222222,
              "#7201a8"
             ],
             [
              0.3333333333333333,
              "#9c179e"
             ],
             [
              0.4444444444444444,
              "#bd3786"
             ],
             [
              0.5555555555555556,
              "#d8576b"
             ],
             [
              0.6666666666666666,
              "#ed7953"
             ],
             [
              0.7777777777777778,
              "#fb9f3a"
             ],
             [
              0.8888888888888888,
              "#fdca26"
             ],
             [
              1,
              "#f0f921"
             ]
            ],
            "type": "histogram2d"
           }
          ],
          "histogram2dcontour": [
           {
            "colorbar": {
             "outlinewidth": 0,
             "ticks": ""
            },
            "colorscale": [
             [
              0,
              "#0d0887"
             ],
             [
              0.1111111111111111,
              "#46039f"
             ],
             [
              0.2222222222222222,
              "#7201a8"
             ],
             [
              0.3333333333333333,
              "#9c179e"
             ],
             [
              0.4444444444444444,
              "#bd3786"
             ],
             [
              0.5555555555555556,
              "#d8576b"
             ],
             [
              0.6666666666666666,
              "#ed7953"
             ],
             [
              0.7777777777777778,
              "#fb9f3a"
             ],
             [
              0.8888888888888888,
              "#fdca26"
             ],
             [
              1,
              "#f0f921"
             ]
            ],
            "type": "histogram2dcontour"
           }
          ],
          "mesh3d": [
           {
            "colorbar": {
             "outlinewidth": 0,
             "ticks": ""
            },
            "type": "mesh3d"
           }
          ],
          "parcoords": [
           {
            "line": {
             "colorbar": {
              "outlinewidth": 0,
              "ticks": ""
             }
            },
            "type": "parcoords"
           }
          ],
          "pie": [
           {
            "automargin": true,
            "type": "pie"
           }
          ],
          "scatter": [
           {
            "fillpattern": {
             "fillmode": "overlay",
             "size": 10,
             "solidity": 0.2
            },
            "type": "scatter"
           }
          ],
          "scatter3d": [
           {
            "line": {
             "colorbar": {
              "outlinewidth": 0,
              "ticks": ""
             }
            },
            "marker": {
             "colorbar": {
              "outlinewidth": 0,
              "ticks": ""
             }
            },
            "type": "scatter3d"
           }
          ],
          "scattercarpet": [
           {
            "marker": {
             "colorbar": {
              "outlinewidth": 0,
              "ticks": ""
             }
            },
            "type": "scattercarpet"
           }
          ],
          "scattergeo": [
           {
            "marker": {
             "colorbar": {
              "outlinewidth": 0,
              "ticks": ""
             }
            },
            "type": "scattergeo"
           }
          ],
          "scattergl": [
           {
            "marker": {
             "colorbar": {
              "outlinewidth": 0,
              "ticks": ""
             }
            },
            "type": "scattergl"
           }
          ],
          "scattermapbox": [
           {
            "marker": {
             "colorbar": {
              "outlinewidth": 0,
              "ticks": ""
             }
            },
            "type": "scattermapbox"
           }
          ],
          "scatterpolar": [
           {
            "marker": {
             "colorbar": {
              "outlinewidth": 0,
              "ticks": ""
             }
            },
            "type": "scatterpolar"
           }
          ],
          "scatterpolargl": [
           {
            "marker": {
             "colorbar": {
              "outlinewidth": 0,
              "ticks": ""
             }
            },
            "type": "scatterpolargl"
           }
          ],
          "scatterternary": [
           {
            "marker": {
             "colorbar": {
              "outlinewidth": 0,
              "ticks": ""
             }
            },
            "type": "scatterternary"
           }
          ],
          "surface": [
           {
            "colorbar": {
             "outlinewidth": 0,
             "ticks": ""
            },
            "colorscale": [
             [
              0,
              "#0d0887"
             ],
             [
              0.1111111111111111,
              "#46039f"
             ],
             [
              0.2222222222222222,
              "#7201a8"
             ],
             [
              0.3333333333333333,
              "#9c179e"
             ],
             [
              0.4444444444444444,
              "#bd3786"
             ],
             [
              0.5555555555555556,
              "#d8576b"
             ],
             [
              0.6666666666666666,
              "#ed7953"
             ],
             [
              0.7777777777777778,
              "#fb9f3a"
             ],
             [
              0.8888888888888888,
              "#fdca26"
             ],
             [
              1,
              "#f0f921"
             ]
            ],
            "type": "surface"
           }
          ],
          "table": [
           {
            "cells": {
             "fill": {
              "color": "#EBF0F8"
             },
             "line": {
              "color": "white"
             }
            },
            "header": {
             "fill": {
              "color": "#C8D4E3"
             },
             "line": {
              "color": "white"
             }
            },
            "type": "table"
           }
          ]
         },
         "layout": {
          "annotationdefaults": {
           "arrowcolor": "#2a3f5f",
           "arrowhead": 0,
           "arrowwidth": 1
          },
          "autotypenumbers": "strict",
          "coloraxis": {
           "colorbar": {
            "outlinewidth": 0,
            "ticks": ""
           }
          },
          "colorscale": {
           "diverging": [
            [
             0,
             "#8e0152"
            ],
            [
             0.1,
             "#c51b7d"
            ],
            [
             0.2,
             "#de77ae"
            ],
            [
             0.3,
             "#f1b6da"
            ],
            [
             0.4,
             "#fde0ef"
            ],
            [
             0.5,
             "#f7f7f7"
            ],
            [
             0.6,
             "#e6f5d0"
            ],
            [
             0.7,
             "#b8e186"
            ],
            [
             0.8,
             "#7fbc41"
            ],
            [
             0.9,
             "#4d9221"
            ],
            [
             1,
             "#276419"
            ]
           ],
           "sequential": [
            [
             0,
             "#0d0887"
            ],
            [
             0.1111111111111111,
             "#46039f"
            ],
            [
             0.2222222222222222,
             "#7201a8"
            ],
            [
             0.3333333333333333,
             "#9c179e"
            ],
            [
             0.4444444444444444,
             "#bd3786"
            ],
            [
             0.5555555555555556,
             "#d8576b"
            ],
            [
             0.6666666666666666,
             "#ed7953"
            ],
            [
             0.7777777777777778,
             "#fb9f3a"
            ],
            [
             0.8888888888888888,
             "#fdca26"
            ],
            [
             1,
             "#f0f921"
            ]
           ],
           "sequentialminus": [
            [
             0,
             "#0d0887"
            ],
            [
             0.1111111111111111,
             "#46039f"
            ],
            [
             0.2222222222222222,
             "#7201a8"
            ],
            [
             0.3333333333333333,
             "#9c179e"
            ],
            [
             0.4444444444444444,
             "#bd3786"
            ],
            [
             0.5555555555555556,
             "#d8576b"
            ],
            [
             0.6666666666666666,
             "#ed7953"
            ],
            [
             0.7777777777777778,
             "#fb9f3a"
            ],
            [
             0.8888888888888888,
             "#fdca26"
            ],
            [
             1,
             "#f0f921"
            ]
           ]
          },
          "colorway": [
           "#636efa",
           "#EF553B",
           "#00cc96",
           "#ab63fa",
           "#FFA15A",
           "#19d3f3",
           "#FF6692",
           "#B6E880",
           "#FF97FF",
           "#FECB52"
          ],
          "font": {
           "color": "#2a3f5f"
          },
          "geo": {
           "bgcolor": "white",
           "lakecolor": "white",
           "landcolor": "#E5ECF6",
           "showlakes": true,
           "showland": true,
           "subunitcolor": "white"
          },
          "hoverlabel": {
           "align": "left"
          },
          "hovermode": "closest",
          "mapbox": {
           "style": "light"
          },
          "paper_bgcolor": "white",
          "plot_bgcolor": "#E5ECF6",
          "polar": {
           "angularaxis": {
            "gridcolor": "white",
            "linecolor": "white",
            "ticks": ""
           },
           "bgcolor": "#E5ECF6",
           "radialaxis": {
            "gridcolor": "white",
            "linecolor": "white",
            "ticks": ""
           }
          },
          "scene": {
           "xaxis": {
            "backgroundcolor": "#E5ECF6",
            "gridcolor": "white",
            "gridwidth": 2,
            "linecolor": "white",
            "showbackground": true,
            "ticks": "",
            "zerolinecolor": "white"
           },
           "yaxis": {
            "backgroundcolor": "#E5ECF6",
            "gridcolor": "white",
            "gridwidth": 2,
            "linecolor": "white",
            "showbackground": true,
            "ticks": "",
            "zerolinecolor": "white"
           },
           "zaxis": {
            "backgroundcolor": "#E5ECF6",
            "gridcolor": "white",
            "gridwidth": 2,
            "linecolor": "white",
            "showbackground": true,
            "ticks": "",
            "zerolinecolor": "white"
           }
          },
          "shapedefaults": {
           "line": {
            "color": "#2a3f5f"
           }
          },
          "ternary": {
           "aaxis": {
            "gridcolor": "white",
            "linecolor": "white",
            "ticks": ""
           },
           "baxis": {
            "gridcolor": "white",
            "linecolor": "white",
            "ticks": ""
           },
           "bgcolor": "#E5ECF6",
           "caxis": {
            "gridcolor": "white",
            "linecolor": "white",
            "ticks": ""
           }
          },
          "title": {
           "x": 0.05
          },
          "xaxis": {
           "automargin": true,
           "gridcolor": "white",
           "linecolor": "white",
           "ticks": "",
           "title": {
            "standoff": 15
           },
           "zerolinecolor": "white",
           "zerolinewidth": 2
          },
          "yaxis": {
           "automargin": true,
           "gridcolor": "white",
           "linecolor": "white",
           "ticks": "",
           "title": {
            "standoff": 15
           },
           "zerolinecolor": "white",
           "zerolinewidth": 2
          }
         }
        },
        "title": {
         "text": "Emotions in Plot Summaries"
        }
       }
      }
     },
     "metadata": {},
     "output_type": "display_data"
    }
   ],
   "source": [
    "graph_emotions(df_plot_emotions)"
   ]
  },
  {
   "cell_type": "markdown",
   "metadata": {},
   "source": [
    "#### Ratio emotion by director gender"
   ]
  },
  {
   "cell_type": "code",
   "execution_count": 8,
   "metadata": {},
   "outputs": [],
   "source": [
    "def ratio_emotion_by_director_gender(df_plot_emotions):\n",
    "    df_plot_emotions_women = df_plot_emotions[df_plot_emotions['director_gender'] == 'F']\n",
    "    df_plot_emotions_men = df_plot_emotions[df_plot_emotions['director_gender'] == 'M']\n",
    "\n",
    "    emotion_totals_women = {\n",
    "        'anger': 0,\n",
    "        'disgust': 0,\n",
    "        'fear': 0,\n",
    "        'joy': 0,\n",
    "        'neutral': 0,\n",
    "        'sadness': 0,\n",
    "        'surprise': 0\n",
    "    }\n",
    "    emotion_totals_men = {\n",
    "        'anger': 0,\n",
    "        'disgust': 0,\n",
    "        'fear': 0,\n",
    "        'joy': 0,\n",
    "        'neutral': 0,\n",
    "        'sadness': 0,\n",
    "        'surprise': 0\n",
    "    }\n",
    "\n",
    "    for emotion_score in df_plot_emotions_women['emotion_scores']:\n",
    "        scores = ast.literal_eval(emotion_score)\n",
    "        for emotion, score in scores.items():\n",
    "            emotion_totals_women[emotion] += score\n",
    "\n",
    "    for emotion_score in df_plot_emotions_men['emotion_scores']:\n",
    "        scores = ast.literal_eval(emotion_score)\n",
    "        for emotion, score in scores.items():\n",
    "            emotion_totals_men[emotion] += score\n",
    "\n",
    "\n",
    "    # Calculating ratios\n",
    "    total_women = sum(emotion_totals_women.values())\n",
    "    total_men = sum(emotion_totals_men.values())\n",
    "\n",
    "    ratios_women = {emotion: value / total_women * 100 for emotion, value in emotion_totals_women.items()}\n",
    "    ratios_men = {emotion: value / total_men * 100 for emotion, value in emotion_totals_men.items()}\n",
    "\n",
    "    return ratios_women, ratios_men\n",
    "\n",
    "def graph_ratio_emotion_by_director_gender(ratios_women, ratios_men):\n",
    "    # Transformation into a DataFrame for Plotly\n",
    "    df = pd.DataFrame({\n",
    "        'Emotion': list(ratios_women.keys()),\n",
    "        'Women': list(ratios_women.values()),\n",
    "        'Men': list(ratios_men.values())\n",
    "    })\n",
    "\n",
    "    fig = px.bar(\n",
    "        df,\n",
    "        x='Emotion',\n",
    "        y=['Women', 'Men'],\n",
    "        title='Ratio of Emotions by Gender',\n",
    "        labels={'value': 'Ratio (%)', 'Emotion': 'Emotion'},\n",
    "        barmode='group',\n",
    "        color_discrete_map={\n",
    "            \"Women\": \"royalblue\",\n",
    "            \"Men\": \"gold\"\n",
    "        }\n",
    "    )\n",
    "\n",
    "    # \n",
    "    fig.update_traces(marker=dict(opacity=0.8))\n",
    "    fig.update_layout(\n",
    "        xaxis_title=\"Emotion\",\n",
    "        yaxis_title=\"Ratio (%)\",\n",
    "        legend_title=\"Director Gender\",\n",
    "        template=\"plotly_white\"\n",
    "    )\n",
    "\n",
    "    fig.show()"
   ]
  },
  {
   "cell_type": "code",
   "execution_count": 9,
   "metadata": {},
   "outputs": [
    {
     "data": {
      "application/vnd.plotly.v1+json": {
       "config": {
        "plotlyServerURL": "https://plot.ly"
       },
       "data": [
        {
         "alignmentgroup": "True",
         "hovertemplate": "variable=Women<br>Emotion=%{x}<br>Ratio (%)=%{y}<extra></extra>",
         "legendgroup": "Women",
         "marker": {
          "color": "royalblue",
          "opacity": 0.8,
          "pattern": {
           "shape": ""
          }
         },
         "name": "Women",
         "offsetgroup": "Women",
         "orientation": "v",
         "showlegend": true,
         "textposition": "auto",
         "type": "bar",
         "x": [
          "anger",
          "disgust",
          "fear",
          "joy",
          "neutral",
          "sadness",
          "surprise"
         ],
         "xaxis": "x",
         "y": [
          18.53236060385206,
          13.52633498556361,
          13.816908077243125,
          8.123767796795715,
          20.957696606714805,
          20.052380874857363,
          4.9905510549733165
         ],
         "yaxis": "y"
        },
        {
         "alignmentgroup": "True",
         "hovertemplate": "variable=Men<br>Emotion=%{x}<br>Ratio (%)=%{y}<extra></extra>",
         "legendgroup": "Men",
         "marker": {
          "color": "gold",
          "opacity": 0.8,
          "pattern": {
           "shape": ""
          }
         },
         "name": "Men",
         "offsetgroup": "Men",
         "orientation": "v",
         "showlegend": true,
         "textposition": "auto",
         "type": "bar",
         "x": [
          "anger",
          "disgust",
          "fear",
          "joy",
          "neutral",
          "sadness",
          "surprise"
         ],
         "xaxis": "x",
         "y": [
          19.778694948554755,
          13.525637976567786,
          16.186803313264893,
          6.579501683879367,
          21.5022622121467,
          17.64452570523599,
          4.782574160350513
         ],
         "yaxis": "y"
        }
       ],
       "layout": {
        "barmode": "group",
        "legend": {
         "title": {
          "text": "Director Gender"
         },
         "tracegroupgap": 0
        },
        "template": {
         "data": {
          "bar": [
           {
            "error_x": {
             "color": "#2a3f5f"
            },
            "error_y": {
             "color": "#2a3f5f"
            },
            "marker": {
             "line": {
              "color": "white",
              "width": 0.5
             },
             "pattern": {
              "fillmode": "overlay",
              "size": 10,
              "solidity": 0.2
             }
            },
            "type": "bar"
           }
          ],
          "barpolar": [
           {
            "marker": {
             "line": {
              "color": "white",
              "width": 0.5
             },
             "pattern": {
              "fillmode": "overlay",
              "size": 10,
              "solidity": 0.2
             }
            },
            "type": "barpolar"
           }
          ],
          "carpet": [
           {
            "aaxis": {
             "endlinecolor": "#2a3f5f",
             "gridcolor": "#C8D4E3",
             "linecolor": "#C8D4E3",
             "minorgridcolor": "#C8D4E3",
             "startlinecolor": "#2a3f5f"
            },
            "baxis": {
             "endlinecolor": "#2a3f5f",
             "gridcolor": "#C8D4E3",
             "linecolor": "#C8D4E3",
             "minorgridcolor": "#C8D4E3",
             "startlinecolor": "#2a3f5f"
            },
            "type": "carpet"
           }
          ],
          "choropleth": [
           {
            "colorbar": {
             "outlinewidth": 0,
             "ticks": ""
            },
            "type": "choropleth"
           }
          ],
          "contour": [
           {
            "colorbar": {
             "outlinewidth": 0,
             "ticks": ""
            },
            "colorscale": [
             [
              0,
              "#0d0887"
             ],
             [
              0.1111111111111111,
              "#46039f"
             ],
             [
              0.2222222222222222,
              "#7201a8"
             ],
             [
              0.3333333333333333,
              "#9c179e"
             ],
             [
              0.4444444444444444,
              "#bd3786"
             ],
             [
              0.5555555555555556,
              "#d8576b"
             ],
             [
              0.6666666666666666,
              "#ed7953"
             ],
             [
              0.7777777777777778,
              "#fb9f3a"
             ],
             [
              0.8888888888888888,
              "#fdca26"
             ],
             [
              1,
              "#f0f921"
             ]
            ],
            "type": "contour"
           }
          ],
          "contourcarpet": [
           {
            "colorbar": {
             "outlinewidth": 0,
             "ticks": ""
            },
            "type": "contourcarpet"
           }
          ],
          "heatmap": [
           {
            "colorbar": {
             "outlinewidth": 0,
             "ticks": ""
            },
            "colorscale": [
             [
              0,
              "#0d0887"
             ],
             [
              0.1111111111111111,
              "#46039f"
             ],
             [
              0.2222222222222222,
              "#7201a8"
             ],
             [
              0.3333333333333333,
              "#9c179e"
             ],
             [
              0.4444444444444444,
              "#bd3786"
             ],
             [
              0.5555555555555556,
              "#d8576b"
             ],
             [
              0.6666666666666666,
              "#ed7953"
             ],
             [
              0.7777777777777778,
              "#fb9f3a"
             ],
             [
              0.8888888888888888,
              "#fdca26"
             ],
             [
              1,
              "#f0f921"
             ]
            ],
            "type": "heatmap"
           }
          ],
          "heatmapgl": [
           {
            "colorbar": {
             "outlinewidth": 0,
             "ticks": ""
            },
            "colorscale": [
             [
              0,
              "#0d0887"
             ],
             [
              0.1111111111111111,
              "#46039f"
             ],
             [
              0.2222222222222222,
              "#7201a8"
             ],
             [
              0.3333333333333333,
              "#9c179e"
             ],
             [
              0.4444444444444444,
              "#bd3786"
             ],
             [
              0.5555555555555556,
              "#d8576b"
             ],
             [
              0.6666666666666666,
              "#ed7953"
             ],
             [
              0.7777777777777778,
              "#fb9f3a"
             ],
             [
              0.8888888888888888,
              "#fdca26"
             ],
             [
              1,
              "#f0f921"
             ]
            ],
            "type": "heatmapgl"
           }
          ],
          "histogram": [
           {
            "marker": {
             "pattern": {
              "fillmode": "overlay",
              "size": 10,
              "solidity": 0.2
             }
            },
            "type": "histogram"
           }
          ],
          "histogram2d": [
           {
            "colorbar": {
             "outlinewidth": 0,
             "ticks": ""
            },
            "colorscale": [
             [
              0,
              "#0d0887"
             ],
             [
              0.1111111111111111,
              "#46039f"
             ],
             [
              0.2222222222222222,
              "#7201a8"
             ],
             [
              0.3333333333333333,
              "#9c179e"
             ],
             [
              0.4444444444444444,
              "#bd3786"
             ],
             [
              0.5555555555555556,
              "#d8576b"
             ],
             [
              0.6666666666666666,
              "#ed7953"
             ],
             [
              0.7777777777777778,
              "#fb9f3a"
             ],
             [
              0.8888888888888888,
              "#fdca26"
             ],
             [
              1,
              "#f0f921"
             ]
            ],
            "type": "histogram2d"
           }
          ],
          "histogram2dcontour": [
           {
            "colorbar": {
             "outlinewidth": 0,
             "ticks": ""
            },
            "colorscale": [
             [
              0,
              "#0d0887"
             ],
             [
              0.1111111111111111,
              "#46039f"
             ],
             [
              0.2222222222222222,
              "#7201a8"
             ],
             [
              0.3333333333333333,
              "#9c179e"
             ],
             [
              0.4444444444444444,
              "#bd3786"
             ],
             [
              0.5555555555555556,
              "#d8576b"
             ],
             [
              0.6666666666666666,
              "#ed7953"
             ],
             [
              0.7777777777777778,
              "#fb9f3a"
             ],
             [
              0.8888888888888888,
              "#fdca26"
             ],
             [
              1,
              "#f0f921"
             ]
            ],
            "type": "histogram2dcontour"
           }
          ],
          "mesh3d": [
           {
            "colorbar": {
             "outlinewidth": 0,
             "ticks": ""
            },
            "type": "mesh3d"
           }
          ],
          "parcoords": [
           {
            "line": {
             "colorbar": {
              "outlinewidth": 0,
              "ticks": ""
             }
            },
            "type": "parcoords"
           }
          ],
          "pie": [
           {
            "automargin": true,
            "type": "pie"
           }
          ],
          "scatter": [
           {
            "fillpattern": {
             "fillmode": "overlay",
             "size": 10,
             "solidity": 0.2
            },
            "type": "scatter"
           }
          ],
          "scatter3d": [
           {
            "line": {
             "colorbar": {
              "outlinewidth": 0,
              "ticks": ""
             }
            },
            "marker": {
             "colorbar": {
              "outlinewidth": 0,
              "ticks": ""
             }
            },
            "type": "scatter3d"
           }
          ],
          "scattercarpet": [
           {
            "marker": {
             "colorbar": {
              "outlinewidth": 0,
              "ticks": ""
             }
            },
            "type": "scattercarpet"
           }
          ],
          "scattergeo": [
           {
            "marker": {
             "colorbar": {
              "outlinewidth": 0,
              "ticks": ""
             }
            },
            "type": "scattergeo"
           }
          ],
          "scattergl": [
           {
            "marker": {
             "colorbar": {
              "outlinewidth": 0,
              "ticks": ""
             }
            },
            "type": "scattergl"
           }
          ],
          "scattermapbox": [
           {
            "marker": {
             "colorbar": {
              "outlinewidth": 0,
              "ticks": ""
             }
            },
            "type": "scattermapbox"
           }
          ],
          "scatterpolar": [
           {
            "marker": {
             "colorbar": {
              "outlinewidth": 0,
              "ticks": ""
             }
            },
            "type": "scatterpolar"
           }
          ],
          "scatterpolargl": [
           {
            "marker": {
             "colorbar": {
              "outlinewidth": 0,
              "ticks": ""
             }
            },
            "type": "scatterpolargl"
           }
          ],
          "scatterternary": [
           {
            "marker": {
             "colorbar": {
              "outlinewidth": 0,
              "ticks": ""
             }
            },
            "type": "scatterternary"
           }
          ],
          "surface": [
           {
            "colorbar": {
             "outlinewidth": 0,
             "ticks": ""
            },
            "colorscale": [
             [
              0,
              "#0d0887"
             ],
             [
              0.1111111111111111,
              "#46039f"
             ],
             [
              0.2222222222222222,
              "#7201a8"
             ],
             [
              0.3333333333333333,
              "#9c179e"
             ],
             [
              0.4444444444444444,
              "#bd3786"
             ],
             [
              0.5555555555555556,
              "#d8576b"
             ],
             [
              0.6666666666666666,
              "#ed7953"
             ],
             [
              0.7777777777777778,
              "#fb9f3a"
             ],
             [
              0.8888888888888888,
              "#fdca26"
             ],
             [
              1,
              "#f0f921"
             ]
            ],
            "type": "surface"
           }
          ],
          "table": [
           {
            "cells": {
             "fill": {
              "color": "#EBF0F8"
             },
             "line": {
              "color": "white"
             }
            },
            "header": {
             "fill": {
              "color": "#C8D4E3"
             },
             "line": {
              "color": "white"
             }
            },
            "type": "table"
           }
          ]
         },
         "layout": {
          "annotationdefaults": {
           "arrowcolor": "#2a3f5f",
           "arrowhead": 0,
           "arrowwidth": 1
          },
          "autotypenumbers": "strict",
          "coloraxis": {
           "colorbar": {
            "outlinewidth": 0,
            "ticks": ""
           }
          },
          "colorscale": {
           "diverging": [
            [
             0,
             "#8e0152"
            ],
            [
             0.1,
             "#c51b7d"
            ],
            [
             0.2,
             "#de77ae"
            ],
            [
             0.3,
             "#f1b6da"
            ],
            [
             0.4,
             "#fde0ef"
            ],
            [
             0.5,
             "#f7f7f7"
            ],
            [
             0.6,
             "#e6f5d0"
            ],
            [
             0.7,
             "#b8e186"
            ],
            [
             0.8,
             "#7fbc41"
            ],
            [
             0.9,
             "#4d9221"
            ],
            [
             1,
             "#276419"
            ]
           ],
           "sequential": [
            [
             0,
             "#0d0887"
            ],
            [
             0.1111111111111111,
             "#46039f"
            ],
            [
             0.2222222222222222,
             "#7201a8"
            ],
            [
             0.3333333333333333,
             "#9c179e"
            ],
            [
             0.4444444444444444,
             "#bd3786"
            ],
            [
             0.5555555555555556,
             "#d8576b"
            ],
            [
             0.6666666666666666,
             "#ed7953"
            ],
            [
             0.7777777777777778,
             "#fb9f3a"
            ],
            [
             0.8888888888888888,
             "#fdca26"
            ],
            [
             1,
             "#f0f921"
            ]
           ],
           "sequentialminus": [
            [
             0,
             "#0d0887"
            ],
            [
             0.1111111111111111,
             "#46039f"
            ],
            [
             0.2222222222222222,
             "#7201a8"
            ],
            [
             0.3333333333333333,
             "#9c179e"
            ],
            [
             0.4444444444444444,
             "#bd3786"
            ],
            [
             0.5555555555555556,
             "#d8576b"
            ],
            [
             0.6666666666666666,
             "#ed7953"
            ],
            [
             0.7777777777777778,
             "#fb9f3a"
            ],
            [
             0.8888888888888888,
             "#fdca26"
            ],
            [
             1,
             "#f0f921"
            ]
           ]
          },
          "colorway": [
           "#636efa",
           "#EF553B",
           "#00cc96",
           "#ab63fa",
           "#FFA15A",
           "#19d3f3",
           "#FF6692",
           "#B6E880",
           "#FF97FF",
           "#FECB52"
          ],
          "font": {
           "color": "#2a3f5f"
          },
          "geo": {
           "bgcolor": "white",
           "lakecolor": "white",
           "landcolor": "white",
           "showlakes": true,
           "showland": true,
           "subunitcolor": "#C8D4E3"
          },
          "hoverlabel": {
           "align": "left"
          },
          "hovermode": "closest",
          "mapbox": {
           "style": "light"
          },
          "paper_bgcolor": "white",
          "plot_bgcolor": "white",
          "polar": {
           "angularaxis": {
            "gridcolor": "#EBF0F8",
            "linecolor": "#EBF0F8",
            "ticks": ""
           },
           "bgcolor": "white",
           "radialaxis": {
            "gridcolor": "#EBF0F8",
            "linecolor": "#EBF0F8",
            "ticks": ""
           }
          },
          "scene": {
           "xaxis": {
            "backgroundcolor": "white",
            "gridcolor": "#DFE8F3",
            "gridwidth": 2,
            "linecolor": "#EBF0F8",
            "showbackground": true,
            "ticks": "",
            "zerolinecolor": "#EBF0F8"
           },
           "yaxis": {
            "backgroundcolor": "white",
            "gridcolor": "#DFE8F3",
            "gridwidth": 2,
            "linecolor": "#EBF0F8",
            "showbackground": true,
            "ticks": "",
            "zerolinecolor": "#EBF0F8"
           },
           "zaxis": {
            "backgroundcolor": "white",
            "gridcolor": "#DFE8F3",
            "gridwidth": 2,
            "linecolor": "#EBF0F8",
            "showbackground": true,
            "ticks": "",
            "zerolinecolor": "#EBF0F8"
           }
          },
          "shapedefaults": {
           "line": {
            "color": "#2a3f5f"
           }
          },
          "ternary": {
           "aaxis": {
            "gridcolor": "#DFE8F3",
            "linecolor": "#A2B1C6",
            "ticks": ""
           },
           "baxis": {
            "gridcolor": "#DFE8F3",
            "linecolor": "#A2B1C6",
            "ticks": ""
           },
           "bgcolor": "white",
           "caxis": {
            "gridcolor": "#DFE8F3",
            "linecolor": "#A2B1C6",
            "ticks": ""
           }
          },
          "title": {
           "x": 0.05
          },
          "xaxis": {
           "automargin": true,
           "gridcolor": "#EBF0F8",
           "linecolor": "#EBF0F8",
           "ticks": "",
           "title": {
            "standoff": 15
           },
           "zerolinecolor": "#EBF0F8",
           "zerolinewidth": 2
          },
          "yaxis": {
           "automargin": true,
           "gridcolor": "#EBF0F8",
           "linecolor": "#EBF0F8",
           "ticks": "",
           "title": {
            "standoff": 15
           },
           "zerolinecolor": "#EBF0F8",
           "zerolinewidth": 2
          }
         }
        },
        "title": {
         "text": "Ratio of Emotions by Gender"
        },
        "xaxis": {
         "anchor": "y",
         "domain": [
          0,
          1
         ],
         "title": {
          "text": "Emotion"
         }
        },
        "yaxis": {
         "anchor": "x",
         "domain": [
          0,
          1
         ],
         "title": {
          "text": "Ratio (%)"
         }
        }
       }
      }
     },
     "metadata": {},
     "output_type": "display_data"
    }
   ],
   "source": [
    "# Graph of the ratio of emotions by director gender\n",
    "ratios_women, ratios_men = ratio_emotion_by_director_gender(df_plot_emotions)\n",
    "graph_ratio_emotion_by_director_gender(ratios_women, ratios_men)"
   ]
  },
  {
   "cell_type": "markdown",
   "metadata": {},
   "source": [
    "#### Radar Ratio emotion by director gender"
   ]
  },
  {
   "cell_type": "code",
   "execution_count": 10,
   "metadata": {},
   "outputs": [],
   "source": [
    "def graph_ratio_emotion_radar_by_director_gender(ratios_women, ratios_men):\n",
    "    emotions = list(ratios_women.keys())\n",
    "    values_women = list(ratios_women.values())\n",
    "    values_men = list(ratios_men.values())\n",
    "    \n",
    "    # To close the radar, add the first dot at the end\n",
    "    emotions += [emotions[0]]\n",
    "    values_women += [values_women[0]]\n",
    "    values_men += [values_men[0]]\n",
    "    \n",
    "\n",
    "    fig = go.Figure()\n",
    "    # Female directors\n",
    "    fig.add_trace(go.Scatterpolar(\n",
    "        r=values_women,\n",
    "        theta=emotions,\n",
    "        fill='toself',\n",
    "        name='Female Directors',\n",
    "        line=dict(color='royalblue'),\n",
    "        marker=dict(size=6)\n",
    "    ))\n",
    "    # Male directors\n",
    "    fig.add_trace(go.Scatterpolar(\n",
    "        r=values_men,\n",
    "        theta=emotions,\n",
    "        fill='toself',\n",
    "        name='Male Directors',\n",
    "        line=dict(color='gold'),\n",
    "        marker=dict(size=6)\n",
    "    ))\n",
    "\n",
    "    fig.update_layout(\n",
    "        polar=dict(\n",
    "            radialaxis=dict(visible=True),\n",
    "        ),\n",
    "        title='Ratio of Emotion in Plot Summaries by Director Gender',\n",
    "        legend_title=\"Director Gender\",\n",
    "        template=\"plotly_white\"\n",
    "    )\n",
    "\n",
    "    fig.show()\n"
   ]
  },
  {
   "cell_type": "code",
   "execution_count": 11,
   "metadata": {},
   "outputs": [
    {
     "data": {
      "application/vnd.plotly.v1+json": {
       "config": {
        "plotlyServerURL": "https://plot.ly"
       },
       "data": [
        {
         "fill": "toself",
         "line": {
          "color": "royalblue"
         },
         "marker": {
          "size": 6
         },
         "name": "Female Directors",
         "r": [
          18.53236060385206,
          13.52633498556361,
          13.816908077243125,
          8.123767796795715,
          20.957696606714805,
          20.052380874857363,
          4.9905510549733165,
          18.53236060385206
         ],
         "theta": [
          "anger",
          "disgust",
          "fear",
          "joy",
          "neutral",
          "sadness",
          "surprise",
          "anger"
         ],
         "type": "scatterpolar"
        },
        {
         "fill": "toself",
         "line": {
          "color": "gold"
         },
         "marker": {
          "size": 6
         },
         "name": "Male Directors",
         "r": [
          19.778694948554755,
          13.525637976567786,
          16.186803313264893,
          6.579501683879367,
          21.5022622121467,
          17.64452570523599,
          4.782574160350513,
          19.778694948554755
         ],
         "theta": [
          "anger",
          "disgust",
          "fear",
          "joy",
          "neutral",
          "sadness",
          "surprise",
          "anger"
         ],
         "type": "scatterpolar"
        }
       ],
       "layout": {
        "legend": {
         "title": {
          "text": "Director Gender"
         }
        },
        "polar": {
         "radialaxis": {
          "visible": true
         }
        },
        "template": {
         "data": {
          "bar": [
           {
            "error_x": {
             "color": "#2a3f5f"
            },
            "error_y": {
             "color": "#2a3f5f"
            },
            "marker": {
             "line": {
              "color": "white",
              "width": 0.5
             },
             "pattern": {
              "fillmode": "overlay",
              "size": 10,
              "solidity": 0.2
             }
            },
            "type": "bar"
           }
          ],
          "barpolar": [
           {
            "marker": {
             "line": {
              "color": "white",
              "width": 0.5
             },
             "pattern": {
              "fillmode": "overlay",
              "size": 10,
              "solidity": 0.2
             }
            },
            "type": "barpolar"
           }
          ],
          "carpet": [
           {
            "aaxis": {
             "endlinecolor": "#2a3f5f",
             "gridcolor": "#C8D4E3",
             "linecolor": "#C8D4E3",
             "minorgridcolor": "#C8D4E3",
             "startlinecolor": "#2a3f5f"
            },
            "baxis": {
             "endlinecolor": "#2a3f5f",
             "gridcolor": "#C8D4E3",
             "linecolor": "#C8D4E3",
             "minorgridcolor": "#C8D4E3",
             "startlinecolor": "#2a3f5f"
            },
            "type": "carpet"
           }
          ],
          "choropleth": [
           {
            "colorbar": {
             "outlinewidth": 0,
             "ticks": ""
            },
            "type": "choropleth"
           }
          ],
          "contour": [
           {
            "colorbar": {
             "outlinewidth": 0,
             "ticks": ""
            },
            "colorscale": [
             [
              0,
              "#0d0887"
             ],
             [
              0.1111111111111111,
              "#46039f"
             ],
             [
              0.2222222222222222,
              "#7201a8"
             ],
             [
              0.3333333333333333,
              "#9c179e"
             ],
             [
              0.4444444444444444,
              "#bd3786"
             ],
             [
              0.5555555555555556,
              "#d8576b"
             ],
             [
              0.6666666666666666,
              "#ed7953"
             ],
             [
              0.7777777777777778,
              "#fb9f3a"
             ],
             [
              0.8888888888888888,
              "#fdca26"
             ],
             [
              1,
              "#f0f921"
             ]
            ],
            "type": "contour"
           }
          ],
          "contourcarpet": [
           {
            "colorbar": {
             "outlinewidth": 0,
             "ticks": ""
            },
            "type": "contourcarpet"
           }
          ],
          "heatmap": [
           {
            "colorbar": {
             "outlinewidth": 0,
             "ticks": ""
            },
            "colorscale": [
             [
              0,
              "#0d0887"
             ],
             [
              0.1111111111111111,
              "#46039f"
             ],
             [
              0.2222222222222222,
              "#7201a8"
             ],
             [
              0.3333333333333333,
              "#9c179e"
             ],
             [
              0.4444444444444444,
              "#bd3786"
             ],
             [
              0.5555555555555556,
              "#d8576b"
             ],
             [
              0.6666666666666666,
              "#ed7953"
             ],
             [
              0.7777777777777778,
              "#fb9f3a"
             ],
             [
              0.8888888888888888,
              "#fdca26"
             ],
             [
              1,
              "#f0f921"
             ]
            ],
            "type": "heatmap"
           }
          ],
          "heatmapgl": [
           {
            "colorbar": {
             "outlinewidth": 0,
             "ticks": ""
            },
            "colorscale": [
             [
              0,
              "#0d0887"
             ],
             [
              0.1111111111111111,
              "#46039f"
             ],
             [
              0.2222222222222222,
              "#7201a8"
             ],
             [
              0.3333333333333333,
              "#9c179e"
             ],
             [
              0.4444444444444444,
              "#bd3786"
             ],
             [
              0.5555555555555556,
              "#d8576b"
             ],
             [
              0.6666666666666666,
              "#ed7953"
             ],
             [
              0.7777777777777778,
              "#fb9f3a"
             ],
             [
              0.8888888888888888,
              "#fdca26"
             ],
             [
              1,
              "#f0f921"
             ]
            ],
            "type": "heatmapgl"
           }
          ],
          "histogram": [
           {
            "marker": {
             "pattern": {
              "fillmode": "overlay",
              "size": 10,
              "solidity": 0.2
             }
            },
            "type": "histogram"
           }
          ],
          "histogram2d": [
           {
            "colorbar": {
             "outlinewidth": 0,
             "ticks": ""
            },
            "colorscale": [
             [
              0,
              "#0d0887"
             ],
             [
              0.1111111111111111,
              "#46039f"
             ],
             [
              0.2222222222222222,
              "#7201a8"
             ],
             [
              0.3333333333333333,
              "#9c179e"
             ],
             [
              0.4444444444444444,
              "#bd3786"
             ],
             [
              0.5555555555555556,
              "#d8576b"
             ],
             [
              0.6666666666666666,
              "#ed7953"
             ],
             [
              0.7777777777777778,
              "#fb9f3a"
             ],
             [
              0.8888888888888888,
              "#fdca26"
             ],
             [
              1,
              "#f0f921"
             ]
            ],
            "type": "histogram2d"
           }
          ],
          "histogram2dcontour": [
           {
            "colorbar": {
             "outlinewidth": 0,
             "ticks": ""
            },
            "colorscale": [
             [
              0,
              "#0d0887"
             ],
             [
              0.1111111111111111,
              "#46039f"
             ],
             [
              0.2222222222222222,
              "#7201a8"
             ],
             [
              0.3333333333333333,
              "#9c179e"
             ],
             [
              0.4444444444444444,
              "#bd3786"
             ],
             [
              0.5555555555555556,
              "#d8576b"
             ],
             [
              0.6666666666666666,
              "#ed7953"
             ],
             [
              0.7777777777777778,
              "#fb9f3a"
             ],
             [
              0.8888888888888888,
              "#fdca26"
             ],
             [
              1,
              "#f0f921"
             ]
            ],
            "type": "histogram2dcontour"
           }
          ],
          "mesh3d": [
           {
            "colorbar": {
             "outlinewidth": 0,
             "ticks": ""
            },
            "type": "mesh3d"
           }
          ],
          "parcoords": [
           {
            "line": {
             "colorbar": {
              "outlinewidth": 0,
              "ticks": ""
             }
            },
            "type": "parcoords"
           }
          ],
          "pie": [
           {
            "automargin": true,
            "type": "pie"
           }
          ],
          "scatter": [
           {
            "fillpattern": {
             "fillmode": "overlay",
             "size": 10,
             "solidity": 0.2
            },
            "type": "scatter"
           }
          ],
          "scatter3d": [
           {
            "line": {
             "colorbar": {
              "outlinewidth": 0,
              "ticks": ""
             }
            },
            "marker": {
             "colorbar": {
              "outlinewidth": 0,
              "ticks": ""
             }
            },
            "type": "scatter3d"
           }
          ],
          "scattercarpet": [
           {
            "marker": {
             "colorbar": {
              "outlinewidth": 0,
              "ticks": ""
             }
            },
            "type": "scattercarpet"
           }
          ],
          "scattergeo": [
           {
            "marker": {
             "colorbar": {
              "outlinewidth": 0,
              "ticks": ""
             }
            },
            "type": "scattergeo"
           }
          ],
          "scattergl": [
           {
            "marker": {
             "colorbar": {
              "outlinewidth": 0,
              "ticks": ""
             }
            },
            "type": "scattergl"
           }
          ],
          "scattermapbox": [
           {
            "marker": {
             "colorbar": {
              "outlinewidth": 0,
              "ticks": ""
             }
            },
            "type": "scattermapbox"
           }
          ],
          "scatterpolar": [
           {
            "marker": {
             "colorbar": {
              "outlinewidth": 0,
              "ticks": ""
             }
            },
            "type": "scatterpolar"
           }
          ],
          "scatterpolargl": [
           {
            "marker": {
             "colorbar": {
              "outlinewidth": 0,
              "ticks": ""
             }
            },
            "type": "scatterpolargl"
           }
          ],
          "scatterternary": [
           {
            "marker": {
             "colorbar": {
              "outlinewidth": 0,
              "ticks": ""
             }
            },
            "type": "scatterternary"
           }
          ],
          "surface": [
           {
            "colorbar": {
             "outlinewidth": 0,
             "ticks": ""
            },
            "colorscale": [
             [
              0,
              "#0d0887"
             ],
             [
              0.1111111111111111,
              "#46039f"
             ],
             [
              0.2222222222222222,
              "#7201a8"
             ],
             [
              0.3333333333333333,
              "#9c179e"
             ],
             [
              0.4444444444444444,
              "#bd3786"
             ],
             [
              0.5555555555555556,
              "#d8576b"
             ],
             [
              0.6666666666666666,
              "#ed7953"
             ],
             [
              0.7777777777777778,
              "#fb9f3a"
             ],
             [
              0.8888888888888888,
              "#fdca26"
             ],
             [
              1,
              "#f0f921"
             ]
            ],
            "type": "surface"
           }
          ],
          "table": [
           {
            "cells": {
             "fill": {
              "color": "#EBF0F8"
             },
             "line": {
              "color": "white"
             }
            },
            "header": {
             "fill": {
              "color": "#C8D4E3"
             },
             "line": {
              "color": "white"
             }
            },
            "type": "table"
           }
          ]
         },
         "layout": {
          "annotationdefaults": {
           "arrowcolor": "#2a3f5f",
           "arrowhead": 0,
           "arrowwidth": 1
          },
          "autotypenumbers": "strict",
          "coloraxis": {
           "colorbar": {
            "outlinewidth": 0,
            "ticks": ""
           }
          },
          "colorscale": {
           "diverging": [
            [
             0,
             "#8e0152"
            ],
            [
             0.1,
             "#c51b7d"
            ],
            [
             0.2,
             "#de77ae"
            ],
            [
             0.3,
             "#f1b6da"
            ],
            [
             0.4,
             "#fde0ef"
            ],
            [
             0.5,
             "#f7f7f7"
            ],
            [
             0.6,
             "#e6f5d0"
            ],
            [
             0.7,
             "#b8e186"
            ],
            [
             0.8,
             "#7fbc41"
            ],
            [
             0.9,
             "#4d9221"
            ],
            [
             1,
             "#276419"
            ]
           ],
           "sequential": [
            [
             0,
             "#0d0887"
            ],
            [
             0.1111111111111111,
             "#46039f"
            ],
            [
             0.2222222222222222,
             "#7201a8"
            ],
            [
             0.3333333333333333,
             "#9c179e"
            ],
            [
             0.4444444444444444,
             "#bd3786"
            ],
            [
             0.5555555555555556,
             "#d8576b"
            ],
            [
             0.6666666666666666,
             "#ed7953"
            ],
            [
             0.7777777777777778,
             "#fb9f3a"
            ],
            [
             0.8888888888888888,
             "#fdca26"
            ],
            [
             1,
             "#f0f921"
            ]
           ],
           "sequentialminus": [
            [
             0,
             "#0d0887"
            ],
            [
             0.1111111111111111,
             "#46039f"
            ],
            [
             0.2222222222222222,
             "#7201a8"
            ],
            [
             0.3333333333333333,
             "#9c179e"
            ],
            [
             0.4444444444444444,
             "#bd3786"
            ],
            [
             0.5555555555555556,
             "#d8576b"
            ],
            [
             0.6666666666666666,
             "#ed7953"
            ],
            [
             0.7777777777777778,
             "#fb9f3a"
            ],
            [
             0.8888888888888888,
             "#fdca26"
            ],
            [
             1,
             "#f0f921"
            ]
           ]
          },
          "colorway": [
           "#636efa",
           "#EF553B",
           "#00cc96",
           "#ab63fa",
           "#FFA15A",
           "#19d3f3",
           "#FF6692",
           "#B6E880",
           "#FF97FF",
           "#FECB52"
          ],
          "font": {
           "color": "#2a3f5f"
          },
          "geo": {
           "bgcolor": "white",
           "lakecolor": "white",
           "landcolor": "white",
           "showlakes": true,
           "showland": true,
           "subunitcolor": "#C8D4E3"
          },
          "hoverlabel": {
           "align": "left"
          },
          "hovermode": "closest",
          "mapbox": {
           "style": "light"
          },
          "paper_bgcolor": "white",
          "plot_bgcolor": "white",
          "polar": {
           "angularaxis": {
            "gridcolor": "#EBF0F8",
            "linecolor": "#EBF0F8",
            "ticks": ""
           },
           "bgcolor": "white",
           "radialaxis": {
            "gridcolor": "#EBF0F8",
            "linecolor": "#EBF0F8",
            "ticks": ""
           }
          },
          "scene": {
           "xaxis": {
            "backgroundcolor": "white",
            "gridcolor": "#DFE8F3",
            "gridwidth": 2,
            "linecolor": "#EBF0F8",
            "showbackground": true,
            "ticks": "",
            "zerolinecolor": "#EBF0F8"
           },
           "yaxis": {
            "backgroundcolor": "white",
            "gridcolor": "#DFE8F3",
            "gridwidth": 2,
            "linecolor": "#EBF0F8",
            "showbackground": true,
            "ticks": "",
            "zerolinecolor": "#EBF0F8"
           },
           "zaxis": {
            "backgroundcolor": "white",
            "gridcolor": "#DFE8F3",
            "gridwidth": 2,
            "linecolor": "#EBF0F8",
            "showbackground": true,
            "ticks": "",
            "zerolinecolor": "#EBF0F8"
           }
          },
          "shapedefaults": {
           "line": {
            "color": "#2a3f5f"
           }
          },
          "ternary": {
           "aaxis": {
            "gridcolor": "#DFE8F3",
            "linecolor": "#A2B1C6",
            "ticks": ""
           },
           "baxis": {
            "gridcolor": "#DFE8F3",
            "linecolor": "#A2B1C6",
            "ticks": ""
           },
           "bgcolor": "white",
           "caxis": {
            "gridcolor": "#DFE8F3",
            "linecolor": "#A2B1C6",
            "ticks": ""
           }
          },
          "title": {
           "x": 0.05
          },
          "xaxis": {
           "automargin": true,
           "gridcolor": "#EBF0F8",
           "linecolor": "#EBF0F8",
           "ticks": "",
           "title": {
            "standoff": 15
           },
           "zerolinecolor": "#EBF0F8",
           "zerolinewidth": 2
          },
          "yaxis": {
           "automargin": true,
           "gridcolor": "#EBF0F8",
           "linecolor": "#EBF0F8",
           "ticks": "",
           "title": {
            "standoff": 15
           },
           "zerolinecolor": "#EBF0F8",
           "zerolinewidth": 2
          }
         }
        },
        "title": {
         "text": "Ratio of Emotion in Plot Summaries by Director Gender"
        }
       }
      }
     },
     "metadata": {},
     "output_type": "display_data"
    }
   ],
   "source": [
    "# radar graph of the ratio of emotions by director\n",
    "ratios_women, ratios_men = ratio_emotion_by_director_gender(df_plot_emotions)\n",
    "graph_ratio_emotion_radar_by_director_gender(ratios_women, ratios_men)"
   ]
  },
  {
   "cell_type": "markdown",
   "metadata": {},
   "source": [
    "## Combining plot summaries analysis with bechdel test"
   ]
  },
  {
   "cell_type": "markdown",
   "metadata": {},
   "source": [
    "### Data preprocessing for logistic regression model"
   ]
  },
  {
   "cell_type": "code",
   "execution_count": 53,
   "metadata": {},
   "outputs": [],
   "source": [
    "def logistic_regression_for_bechdel(movies_complete_df):\n",
    "    df_bechdel = movies_complete_df.copy(deep = True)\n",
    "\n",
    "    df_bechdel = df_bechdel.dropna(subset=['bechdel_rating', 'emotion_scores'])\n",
    "    df_bechdel[\"emotion_scores\"] = df_bechdel[\"emotion_scores\"].str.replace(\"'\", '\"')\n",
    "    # Parse the corrected strings into dictionaries\n",
    "    df_bechdel[\"emotion_scores\"] = df_bechdel[\"emotion_scores\"].apply(json.loads)\n",
    "\n",
    "    genres_list = df_bechdel.explode('movie_genres')['movie_genres'].unique().tolist()\n",
    "    countries_list = df_bechdel.explode(\"movie_countries\")[\"movie_countries\"].unique().tolist()\n",
    "    emotion_list = df_bechdel[\"dominant_emotion\"].unique().tolist()\n",
    "    # add genre and countries columns\n",
    "    cols_df = pd.DataFrame(columns= genres_list + countries_list + emotion_list)\n",
    "    df_bechdel = pd.concat([df_bechdel, cols_df], axis=1).fillna(0).reset_index(drop=True)\n",
    "\n",
    "\n",
    "    for index, row in df_bechdel.iterrows():\n",
    "        genres = row[\"movie_genres\"]\n",
    "        countries = row[\"movie_countries\"]\n",
    "        emotions_dict = row[\"emotion_scores\"]\n",
    "        for genre in genres:\n",
    "            df_bechdel.at[index, genre] = 1\n",
    "        for country in countries:\n",
    "            df_bechdel.at[index, country] = 1\n",
    "        for emotion in emotion_list:\n",
    "            df_bechdel.at[index, emotion] = emotions_dict[emotion]\n",
    "\n",
    "\n",
    "    # dropping old unformatted columns\n",
    "    df_bechdel = df_bechdel.drop(columns=[\"actor_genders\", \"movie_genres\", \"movie_countries\", \"actor_genders\", \"emotion_scores\", \"dominant_emotion\", \"wikipedia_movie_id\", \"movie_name\", \"Director\", \"actor_age\"])\n",
    "    df_bechdel.columns = df_bechdel.columns.astype(str)\n",
    "\n",
    "    # simplifying the bechdel_rating column into 0 (fails test) and 1(passes test)\n",
    "    df_bechdel[\"bechdel_rating\"] = df_bechdel[\"bechdel_rating\"].apply(lambda x: int(0) if (x==0 or x==1 or x==2) else int(1))\n",
    "\n",
    "    # simplifying the bechdel_rating column into 0 (M) and 1(F)\n",
    "    df_bechdel[\"Gender\"] = df_bechdel[\"Gender\"].apply(lambda x: int(0) if (x=='M') else int(1))\n",
    "    \n",
    "\n",
    "    # preparing data for model\n",
    "    target_cols = [\"bechdel_rating\"]\n",
    "    features_cols = df_bechdel.keys().tolist()\n",
    "    features_cols.remove(target_cols[0])\n",
    "    X = df_bechdel[features_cols]\n",
    "    y = df_bechdel[target_cols]\n",
    "\n",
    "    # we split\n",
    "    X_train, X_test, y_train, y_test = train_test_split(X, y, test_size=0.2, random_state=42)\n",
    "\n",
    "    # we squeeze to match the dimensions\n",
    "    y_test = y_test.squeeze()\n",
    "    y_train = y_train.squeeze()\n",
    "\n",
    "    # Load the module\n",
    "    scaler = StandardScaler()\n",
    "\n",
    "    # Standardize X train\n",
    "    scaler.fit(X_train) # used both for X_train and X_test\n",
    "    X_train_standardized = scaler.transform(X_train)\n",
    "    X_test_standardized = scaler.transform(X_test)\n",
    "\n",
    "    # we create the model\n",
    "    log_reg_model = LogisticRegression(random_state=42, max_iter=500)\n",
    "\n",
    "    # Fit the model\n",
    "    log_reg_model.fit(X_train_standardized, y_train)\n",
    "\n",
    "    y_pred_test = log_reg_model.predict(X_test_standardized)\n",
    "    y_pred_train = log_reg_model.predict(X_train_standardized)\n",
    "\n",
    "    print(f'The accuracy score for test set is: {accuracy_score(y_test, y_pred_test)}')\n",
    "    print(f'The accuracy score for train set is: {accuracy_score(y_train, y_pred_train)}')\n",
    "\n",
    "    return y_test, y_pred_test, log_reg_model, X_train\n",
    "        "
   ]
  },
  {
   "cell_type": "code",
   "execution_count": 54,
   "metadata": {},
   "outputs": [
    {
     "name": "stdout",
     "output_type": "stream",
     "text": [
      "The accuracy score for test set is: 0.6614950634696756\n",
      "The accuracy score for train set is: 0.7208892025405786\n"
     ]
    }
   ],
   "source": [
    "y_test, y_pred_test, log_reg_model, X_train = logistic_regression_for_bechdel(movies_complete_df)\n"
   ]
  },
  {
   "cell_type": "code",
   "execution_count": 49,
   "metadata": {},
   "outputs": [],
   "source": [
    "def plot_confusion_matrix(y_test, y_pred_test):\n",
    "    # Generate the confusion matrix\n",
    "    cm = confusion_matrix(y_test, y_pred_test)\n",
    "\n",
    "    # Normalize the confusion matrix to get proportions\n",
    "    cm_normalized = cm.astype('float') / cm.sum(axis=1)[:, np.newaxis]\n",
    "\n",
    "    # Plotting the normalized confusion matrix\n",
    "    plt.figure(figsize=(8,6))\n",
    "    sns.heatmap(cm_normalized, annot=True, fmt=\".2f\", cmap=\"Blues\", xticklabels=['Class 0', 'Class 1'], yticklabels=['Class 0', 'Class 1'])\n",
    "    plt.title('Normalized Random Forest Confusion Matrix')\n",
    "    plt.xlabel('Predicted')\n",
    "    plt.ylabel('Actual')\n",
    "    plt.show()"
   ]
  },
  {
   "cell_type": "code",
   "execution_count": 50,
   "metadata": {},
   "outputs": [
    {
     "data": {
      "image/png": "[encoded data removed]",
      "text/plain": [
       "<Figure size 800x600 with 2 Axes>"
      ]
     },
     "metadata": {},
     "output_type": "display_data"
    }
   ],
   "source": [
    "plot_confusion_matrix(y_test, y_pred_test)"
   ]
  },
  {
   "cell_type": "code",
   "execution_count": 55,
   "metadata": {},
   "outputs": [],
   "source": [
    "def feature_importance(log_reg_model, X_train):\n",
    "    # Get the feature importance\n",
    "    selected_features = X_train.columns\n",
    "\n",
    "    # Get the coefficients from the logistic regression model\n",
    "    coefficients = log_reg_model.coef_[0]  # For binary classification\n",
    "\n",
    "    # Create a DataFrame for feature importance\n",
    "    feature_importance_df = pd.DataFrame({\n",
    "        'Feature': selected_features,\n",
    "        'Coefficient': coefficients,\n",
    "        'Importance': abs(coefficients)\n",
    "    }).sort_values(by='Importance', ascending=False)\n",
    "\n",
    "    # Display the top 20 features\n",
    "    return feature_importance_df"
   ]
  },
  {
   "cell_type": "code",
   "execution_count": 56,
   "metadata": {},
   "outputs": [],
   "source": [
    "feature_importance_df = feature_importance(log_reg_model, X_train)"
   ]
  },
  {
   "cell_type": "markdown",
   "metadata": {},
   "source": [
    "### Correlation between features --> Faire def plot_correlation"
   ]
  },
  {
   "cell_type": "code",
   "execution_count": null,
   "metadata": {},
   "outputs": [],
   "source": [
    "def preprocessing_bechdel_for_correlation(movies_complete_df):\n",
    "    df_bechdel = movies_complete_df.copy(deep = True)\n",
    "\n",
    "    df_bechdel = df_bechdel.dropna(subset=['bechdel_rating', 'emotion_scores'])\n",
    "    df_bechdel[\"emotion_scores\"] = df_bechdel[\"emotion_scores\"].str.replace(\"'\", '\"')\n",
    "    # Parse the corrected strings into dictionaries\n",
    "    df_bechdel[\"emotion_scores\"] = df_bechdel[\"emotion_scores\"].apply(json.loads)\n",
    "\n",
    "    genres_list = df_bechdel.explode('movie_genres')['movie_genres'].unique().tolist()\n",
    "    countries_list = df_bechdel.explode(\"movie_countries\")[\"movie_countries\"].unique().tolist()\n",
    "    emotion_list = df_bechdel[\"dominant_emotion\"].unique().tolist()\n",
    "    # add genre and countries columns\n",
    "    cols_df = pd.DataFrame(columns= genres_list + countries_list + emotion_list)\n",
    "    df_bechdel = pd.concat([df_bechdel, cols_df], axis=1).fillna(0).reset_index(drop=True)\n",
    "\n",
    "\n",
    "    for index, row in df_bechdel.iterrows():\n",
    "        genres = row[\"movie_genres\"]\n",
    "        countries = row[\"movie_countries\"]\n",
    "        emotions_dict = row[\"emotion_scores\"]\n",
    "        for genre in genres:\n",
    "            df_bechdel.at[index, genre] = 1\n",
    "        for country in countries:\n",
    "            df_bechdel.at[index, country] = 1\n",
    "        for emotion in emotion_list:\n",
    "            df_bechdel.at[index, emotion] = emotions_dict[emotion]\n",
    "\n",
    "\n",
    "    # dropping old unformatted columns\n",
    "    df_bechdel = df_bechdel.drop(columns=[\"actor_genders\", \"movie_genres\", \"movie_countries\", \"actor_genders\", \"emotion_scores\", \"dominant_emotion\", \"wikipedia_movie_id\", \"movie_name\", \"Director\", \"actor_age\"])\n",
    "    df_bechdel.columns = df_bechdel.columns.astype(str)\n",
    "\n",
    "    # simplifying the bechdel_rating column into 0 (fails test) and 1(passes test)\n",
    "    df_bechdel[\"bechdel_rating\"] = df_bechdel[\"bechdel_rating\"].apply(lambda x: int(0) if (x==0 or x==1 or x==2) else int(1))\n",
    "\n",
    "    # simplifying the bechdel_rating column into 0 (M) and 1(F)\n",
    "    df_bechdel[\"Gender\"] = df_bechdel[\"Gender\"].apply(lambda x: int(0) if (x=='M') else int(1))\n",
    "\n",
    "    return df_bechdel"
   ]
  },
  {
   "cell_type": "code",
   "execution_count": 41,
   "metadata": {},
   "outputs": [],
   "source": [
    "def plot_correlation(df_bechdel):\n",
    "    correlations = df_bechdel[['bechdel_rating', 'char_F', 'char_M', \"Gender\"]].corr()\n",
    "    # Correlation matrix\n",
    "    # Correlation values\n",
    "    bechdel_corr = correlations['bechdel_rating'].drop('bechdel_rating')\n",
    "\n",
    "    # Plotting\n",
    "    plt.figure(figsize=(8, 5))\n",
    "    bechdel_corr.sort_values(ascending=True).plot(kind='barh', color='skyblue')\n",
    "    plt.title('Correlation with Bechdel Rating')\n",
    "    plt.xlabel('Correlation Coefficient')\n",
    "    plt.ylabel('Variables')\n",
    "    plt.axvline(0, color='gray', linestyle='--', linewidth=1)  # Mark zero correlation\n",
    "    plt.tight_layout()\n",
    "    plt.show()"
   ]
  },
  {
   "cell_type": "code",
   "execution_count": null,
   "metadata": {},
   "outputs": [
    {
     "data": {
      "image/png": "[encoded data removed]",
      "text/plain": [
       "<Figure size 800x500 with 1 Axes>"
      ]
     },
     "metadata": {},
     "output_type": "display_data"
    }
   ],
   "source": [
    "df_bechdel = preprocessing_bechdel_for_correlation(movies_complete_df)\n",
    "plot_correlation(df_bechdel)"
   ]
  },
  {
   "cell_type": "markdown",
   "metadata": {},
   "source": [
    "### Graphs "
   ]
  },
  {
   "cell_type": "code",
   "execution_count": 43,
   "metadata": {},
   "outputs": [],
   "source": [
    "def preprocessing_bechdel_for_radar_graph(movies_complete_df):\n",
    "    df_bechdel = movies_complete_df.copy(deep = True)\n",
    "\n",
    "    df_bechdel = df_bechdel.dropna(subset=['bechdel_rating', 'emotion_scores'])\n",
    "    df_bechdel[\"emotion_scores\"] = df_bechdel[\"emotion_scores\"].str.replace(\"'\", '\"')\n",
    "    # Parse the corrected strings into dictionaries\n",
    "    df_bechdel[\"emotion_scores\"] = df_bechdel[\"emotion_scores\"].apply(json.loads)\n",
    "\n",
    "    emotion_list = df_bechdel[\"dominant_emotion\"].unique().tolist()\n",
    "    # add genre and countries columns\n",
    "    cols_df = pd.DataFrame(columns= emotion_list)\n",
    "    df_bechdel = pd.concat([df_bechdel, cols_df], axis=1).fillna(0).reset_index(drop=True)\n",
    "\n",
    "\n",
    "    for index, row in df_bechdel.iterrows():\n",
    "        emotions_dict = row[\"emotion_scores\"]\n",
    "        for emotion in emotion_list:\n",
    "            df_bechdel.at[index, emotion] = emotions_dict[emotion]\n",
    "\n",
    "\n",
    "    # dropping old unformatted columns\n",
    "    df_bechdel = df_bechdel.drop(columns=[\"actor_genders\", \"movie_genres\", \"movie_countries\", \"actor_genders\", \"emotion_scores\", \"dominant_emotion\", \"wikipedia_movie_id\", \"movie_name\", \"Director\", \"actor_age\"])\n",
    "    df_bechdel.columns = df_bechdel.columns.astype(str)\n",
    "\n",
    "    # simplifying the bechdel_rating column into 0 (fails test) and 1(passes test)\n",
    "    df_bechdel[\"bechdel_rating\"] = df_bechdel[\"bechdel_rating\"].apply(lambda x: int(0) if (x==0 or x==1 or x==2) else int(1))\n",
    "\n",
    "    # simplifying the bechdel_rating column into 0 (M) and 1(F)\n",
    "    df_bechdel[\"Gender\"] = df_bechdel[\"Gender\"].apply(lambda x: int(0) if (x=='M') else int(1))\n",
    "        \n",
    "    return df_bechdel"
   ]
  },
  {
   "cell_type": "markdown",
   "metadata": {},
   "source": [
    "#### Radar Graph for different emotions by bechdel test passed or fail"
   ]
  },
  {
   "cell_type": "code",
   "execution_count": 44,
   "metadata": {},
   "outputs": [],
   "source": [
    "def graph_emotions_bechdel_combined(df_bechdel):\n",
    "    # Calculation of the average emotions for each DataFrame\n",
    "    def compute_mean_emotions(df):\n",
    "        emotions = [\"neutral\", \"sadness\", \"anger\", \"fear\", \"disgust\", \"surprise\", \"joy\"]\n",
    "        return df[emotions].mean()\n",
    "\n",
    "    # creation of datasets that pass or fail the bechdel test\n",
    "    bechdel_grade3 = df_bechdel[df_bechdel[\"bechdel_rating\"]==1]\n",
    "    bechdel_grade012 = df_bechdel[df_bechdel[\"bechdel_rating\"]!=1]\n",
    "\n",
    "    # Creation of datasets by director gender\n",
    "    bechdel_grade3_men = bechdel_grade3[bechdel_grade3[\"Gender\"]==0]\n",
    "    bechdel_grade3_women = bechdel_grade3[bechdel_grade3[\"Gender\"]==1]\n",
    "    bechdel_grade012_men = bechdel_grade012[bechdel_grade012[\"Gender\"]==0]\n",
    "    bechdel_grade012_women = bechdel_grade012[bechdel_grade012[\"Gender\"]==1]\n",
    "\n",
    "    # Data for the graph\n",
    "    data_women_grade3 = compute_mean_emotions(bechdel_grade3_women)\n",
    "    data_men_grade3 = compute_mean_emotions(bechdel_grade3_men)\n",
    "\n",
    "    data_women_grade012 = compute_mean_emotions(bechdel_grade012_women)\n",
    "    data_men_grade012 = compute_mean_emotions(bechdel_grade012_men)\n",
    "\n",
    "    # Creation of a graph with two subplots side by side\n",
    "    fig = make_subplots(\n",
    "        rows=1, cols=2,\n",
    "        specs=[[{'type': 'polar'}, {'type': 'polar'}]],      \n",
    "    )\n",
    "\n",
    "    # First graph: For films that pass the Bechdel test (Grade 3)\n",
    "    fig.add_trace(go.Scatterpolar(\n",
    "        r=data_men_grade3,\n",
    "        theta=data_men_grade3.index,\n",
    "        fill='toself',\n",
    "        name='Men - Bechdel passed',\n",
    "        marker_color='gold'\n",
    "    ), row=1, col=1)\n",
    "\n",
    "    fig.add_trace(go.Scatterpolar(\n",
    "        r=data_women_grade3,\n",
    "        theta=data_women_grade3.index,\n",
    "        fill='toself',\n",
    "        name='Women - Bechdel passed',\n",
    "        marker_color='royalblue'\n",
    "    ), row=1, col=1)\n",
    "\n",
    "    # Second graph: For films that do not pass the Bechdel test (Grades 0, 1, 2)\n",
    "    fig.add_trace(go.Scatterpolar(\n",
    "        r=data_men_grade012,\n",
    "        theta=data_men_grade012.index,\n",
    "        fill='toself',\n",
    "        name='Men - Bechdel failed',\n",
    "        marker_color='orange'\n",
    "    ), row=1, col=2)\n",
    "\n",
    "    fig.add_trace(go.Scatterpolar(\n",
    "        r=data_women_grade012,\n",
    "        theta=data_women_grade012.index,\n",
    "        fill='toself',\n",
    "        name='Women - Bechdel failed',\n",
    "        marker_color='blue'\n",
    "    ), row=1, col=2)\n",
    "\n",
    "    fig.update_layout(\n",
    "        title_text=\"Emotion Distribution by Gender for Bechdel Test Results\",\n",
    "        showlegend=True,\n",
    "        polar=dict(\n",
    "            radialaxis=dict(visible=True, range=[0, 0.25])\n",
    "        ),\n",
    "        template=\"plotly_white\"\n",
    "    )\n",
    "\n",
    "    fig.show()"
   ]
  },
  {
   "cell_type": "code",
   "execution_count": 45,
   "metadata": {},
   "outputs": [
    {
     "data": {
      "application/vnd.plotly.v1+json": {
       "config": {
        "plotlyServerURL": "https://plot.ly"
       },
       "data": [
        {
         "fill": "toself",
         "marker": {
          "color": "gold"
         },
         "name": "Men - Bechdel passed",
         "r": [
          0.19818864341631373,
          0.18270918338317174,
          0.20211197563781275,
          0.17372301688275488,
          0.12196028722708781,
          0.05247205600449445,
          0.06883483713425313
         ],
         "subplot": "polar",
         "theta": [
          "neutral",
          "sadness",
          "anger",
          "fear",
          "disgust",
          "surprise",
          "joy"
         ],
         "type": "scatterpolar"
        },
        {
         "fill": "toself",
         "marker": {
          "color": "royalblue"
         },
         "name": "Women - Bechdel passed",
         "r": [
          0.2169024814980651,
          0.19569214147309588,
          0.16400012400121028,
          0.15230867439990867,
          0.12426447749074736,
          0.054893292774105235,
          0.0919388113665423
         ],
         "subplot": "polar",
         "theta": [
          "neutral",
          "sadness",
          "anger",
          "fear",
          "disgust",
          "surprise",
          "joy"
         ],
         "type": "scatterpolar"
        },
        {
         "fill": "toself",
         "marker": {
          "color": "orange"
         },
         "name": "Men - Bechdel failed",
         "r": [
          0.20554840963680335,
          0.15760545604692747,
          0.23526958784754853,
          0.17835303311004183,
          0.12358528608507144,
          0.047935729425444565,
          0.05170249846466282
         ],
         "subplot": "polar2",
         "theta": [
          "neutral",
          "sadness",
          "anger",
          "fear",
          "disgust",
          "surprise",
          "joy"
         ],
         "type": "scatterpolar"
        },
        {
         "fill": "toself",
         "marker": {
          "color": "blue"
         },
         "name": "Women - Bechdel failed",
         "r": [
          0.18301989074697764,
          0.16231084983735874,
          0.199468277948588,
          0.18299164571267978,
          0.14878577323701478,
          0.06060038612796511,
          0.0628231746325152
         ],
         "subplot": "polar2",
         "theta": [
          "neutral",
          "sadness",
          "anger",
          "fear",
          "disgust",
          "surprise",
          "joy"
         ],
         "type": "scatterpolar"
        }
       ],
       "layout": {
        "polar": {
         "domain": {
          "x": [
           0,
           0.45
          ],
          "y": [
           0,
           1
          ]
         },
         "radialaxis": {
          "range": [
           0,
           0.25
          ],
          "visible": true
         }
        },
        "polar2": {
         "domain": {
          "x": [
           0.55,
           1
          ],
          "y": [
           0,
           1
          ]
         }
        },
        "showlegend": true,
        "template": {
         "data": {
          "bar": [
           {
            "error_x": {
             "color": "#2a3f5f"
            },
            "error_y": {
             "color": "#2a3f5f"
            },
            "marker": {
             "line": {
              "color": "white",
              "width": 0.5
             },
             "pattern": {
              "fillmode": "overlay",
              "size": 10,
              "solidity": 0.2
             }
            },
            "type": "bar"
           }
          ],
          "barpolar": [
           {
            "marker": {
             "line": {
              "color": "white",
              "width": 0.5
             },
             "pattern": {
              "fillmode": "overlay",
              "size": 10,
              "solidity": 0.2
             }
            },
            "type": "barpolar"
           }
          ],
          "carpet": [
           {
            "aaxis": {
             "endlinecolor": "#2a3f5f",
             "gridcolor": "#C8D4E3",
             "linecolor": "#C8D4E3",
             "minorgridcolor": "#C8D4E3",
             "startlinecolor": "#2a3f5f"
            },
            "baxis": {
             "endlinecolor": "#2a3f5f",
             "gridcolor": "#C8D4E3",
             "linecolor": "#C8D4E3",
             "minorgridcolor": "#C8D4E3",
             "startlinecolor": "#2a3f5f"
            },
            "type": "carpet"
           }
          ],
          "choropleth": [
           {
            "colorbar": {
             "outlinewidth": 0,
             "ticks": ""
            },
            "type": "choropleth"
           }
          ],
          "contour": [
           {
            "colorbar": {
             "outlinewidth": 0,
             "ticks": ""
            },
            "colorscale": [
             [
              0,
              "#0d0887"
             ],
             [
              0.1111111111111111,
              "#46039f"
             ],
             [
              0.2222222222222222,
              "#7201a8"
             ],
             [
              0.3333333333333333,
              "#9c179e"
             ],
             [
              0.4444444444444444,
              "#bd3786"
             ],
             [
              0.5555555555555556,
              "#d8576b"
             ],
             [
              0.6666666666666666,
              "#ed7953"
             ],
             [
              0.7777777777777778,
              "#fb9f3a"
             ],
             [
              0.8888888888888888,
              "#fdca26"
             ],
             [
              1,
              "#f0f921"
             ]
            ],
            "type": "contour"
           }
          ],
          "contourcarpet": [
           {
            "colorbar": {
             "outlinewidth": 0,
             "ticks": ""
            },
            "type": "contourcarpet"
           }
          ],
          "heatmap": [
           {
            "colorbar": {
             "outlinewidth": 0,
             "ticks": ""
            },
            "colorscale": [
             [
              0,
              "#0d0887"
             ],
             [
              0.1111111111111111,
              "#46039f"
             ],
             [
              0.2222222222222222,
              "#7201a8"
             ],
             [
              0.3333333333333333,
              "#9c179e"
             ],
             [
              0.4444444444444444,
              "#bd3786"
             ],
             [
              0.5555555555555556,
              "#d8576b"
             ],
             [
              0.6666666666666666,
              "#ed7953"
             ],
             [
              0.7777777777777778,
              "#fb9f3a"
             ],
             [
              0.8888888888888888,
              "#fdca26"
             ],
             [
              1,
              "#f0f921"
             ]
            ],
            "type": "heatmap"
           }
          ],
          "heatmapgl": [
           {
            "colorbar": {
             "outlinewidth": 0,
             "ticks": ""
            },
            "colorscale": [
             [
              0,
              "#0d0887"
             ],
             [
              0.1111111111111111,
              "#46039f"
             ],
             [
              0.2222222222222222,
              "#7201a8"
             ],
             [
              0.3333333333333333,
              "#9c179e"
             ],
             [
              0.4444444444444444,
              "#bd3786"
             ],
             [
              0.5555555555555556,
              "#d8576b"
             ],
             [
              0.6666666666666666,
              "#ed7953"
             ],
             [
              0.7777777777777778,
              "#fb9f3a"
             ],
             [
              0.8888888888888888,
              "#fdca26"
             ],
             [
              1,
              "#f0f921"
             ]
            ],
            "type": "heatmapgl"
           }
          ],
          "histogram": [
           {
            "marker": {
             "pattern": {
              "fillmode": "overlay",
              "size": 10,
              "solidity": 0.2
             }
            },
            "type": "histogram"
           }
          ],
          "histogram2d": [
           {
            "colorbar": {
             "outlinewidth": 0,
             "ticks": ""
            },
            "colorscale": [
             [
              0,
              "#0d0887"
             ],
             [
              0.1111111111111111,
              "#46039f"
             ],
             [
              0.2222222222222222,
              "#7201a8"
             ],
             [
              0.3333333333333333,
              "#9c179e"
             ],
             [
              0.4444444444444444,
              "#bd3786"
             ],
             [
              0.5555555555555556,
              "#d8576b"
             ],
             [
              0.6666666666666666,
              "#ed7953"
             ],
             [
              0.7777777777777778,
              "#fb9f3a"
             ],
             [
              0.8888888888888888,
              "#fdca26"
             ],
             [
              1,
              "#f0f921"
             ]
            ],
            "type": "histogram2d"
           }
          ],
          "histogram2dcontour": [
           {
            "colorbar": {
             "outlinewidth": 0,
             "ticks": ""
            },
            "colorscale": [
             [
              0,
              "#0d0887"
             ],
             [
              0.1111111111111111,
              "#46039f"
             ],
             [
              0.2222222222222222,
              "#7201a8"
             ],
             [
              0.3333333333333333,
              "#9c179e"
             ],
             [
              0.4444444444444444,
              "#bd3786"
             ],
             [
              0.5555555555555556,
              "#d8576b"
             ],
             [
              0.6666666666666666,
              "#ed7953"
             ],
             [
              0.7777777777777778,
              "#fb9f3a"
             ],
             [
              0.8888888888888888,
              "#fdca26"
             ],
             [
              1,
              "#f0f921"
             ]
            ],
            "type": "histogram2dcontour"
           }
          ],
          "mesh3d": [
           {
            "colorbar": {
             "outlinewidth": 0,
             "ticks": ""
            },
            "type": "mesh3d"
           }
          ],
          "parcoords": [
           {
            "line": {
             "colorbar": {
              "outlinewidth": 0,
              "ticks": ""
             }
            },
            "type": "parcoords"
           }
          ],
          "pie": [
           {
            "automargin": true,
            "type": "pie"
           }
          ],
          "scatter": [
           {
            "fillpattern": {
             "fillmode": "overlay",
             "size": 10,
             "solidity": 0.2
            },
            "type": "scatter"
           }
          ],
          "scatter3d": [
           {
            "line": {
             "colorbar": {
              "outlinewidth": 0,
              "ticks": ""
             }
            },
            "marker": {
             "colorbar": {
              "outlinewidth": 0,
              "ticks": ""
             }
            },
            "type": "scatter3d"
           }
          ],
          "scattercarpet": [
           {
            "marker": {
             "colorbar": {
              "outlinewidth": 0,
              "ticks": ""
             }
            },
            "type": "scattercarpet"
           }
          ],
          "scattergeo": [
           {
            "marker": {
             "colorbar": {
              "outlinewidth": 0,
              "ticks": ""
             }
            },
            "type": "scattergeo"
           }
          ],
          "scattergl": [
           {
            "marker": {
             "colorbar": {
              "outlinewidth": 0,
              "ticks": ""
             }
            },
            "type": "scattergl"
           }
          ],
          "scattermapbox": [
           {
            "marker": {
             "colorbar": {
              "outlinewidth": 0,
              "ticks": ""
             }
            },
            "type": "scattermapbox"
           }
          ],
          "scatterpolar": [
           {
            "marker": {
             "colorbar": {
              "outlinewidth": 0,
              "ticks": ""
             }
            },
            "type": "scatterpolar"
           }
          ],
          "scatterpolargl": [
           {
            "marker": {
             "colorbar": {
              "outlinewidth": 0,
              "ticks": ""
             }
            },
            "type": "scatterpolargl"
           }
          ],
          "scatterternary": [
           {
            "marker": {
             "colorbar": {
              "outlinewidth": 0,
              "ticks": ""
             }
            },
            "type": "scatterternary"
           }
          ],
          "surface": [
           {
            "colorbar": {
             "outlinewidth": 0,
             "ticks": ""
            },
            "colorscale": [
             [
              0,
              "#0d0887"
             ],
             [
              0.1111111111111111,
              "#46039f"
             ],
             [
              0.2222222222222222,
              "#7201a8"
             ],
             [
              0.3333333333333333,
              "#9c179e"
             ],
             [
              0.4444444444444444,
              "#bd3786"
             ],
             [
              0.5555555555555556,
              "#d8576b"
             ],
             [
              0.6666666666666666,
              "#ed7953"
             ],
             [
              0.7777777777777778,
              "#fb9f3a"
             ],
             [
              0.8888888888888888,
              "#fdca26"
             ],
             [
              1,
              "#f0f921"
             ]
            ],
            "type": "surface"
           }
          ],
          "table": [
           {
            "cells": {
             "fill": {
              "color": "#EBF0F8"
             },
             "line": {
              "color": "white"
             }
            },
            "header": {
             "fill": {
              "color": "#C8D4E3"
             },
             "line": {
              "color": "white"
             }
            },
            "type": "table"
           }
          ]
         },
         "layout": {
          "annotationdefaults": {
           "arrowcolor": "#2a3f5f",
           "arrowhead": 0,
           "arrowwidth": 1
          },
          "autotypenumbers": "strict",
          "coloraxis": {
           "colorbar": {
            "outlinewidth": 0,
            "ticks": ""
           }
          },
          "colorscale": {
           "diverging": [
            [
             0,
             "#8e0152"
            ],
            [
             0.1,
             "#c51b7d"
            ],
            [
             0.2,
             "#de77ae"
            ],
            [
             0.3,
             "#f1b6da"
            ],
            [
             0.4,
             "#fde0ef"
            ],
            [
             0.5,
             "#f7f7f7"
            ],
            [
             0.6,
             "#e6f5d0"
            ],
            [
             0.7,
             "#b8e186"
            ],
            [
             0.8,
             "#7fbc41"
            ],
            [
             0.9,
             "#4d9221"
            ],
            [
             1,
             "#276419"
            ]
           ],
           "sequential": [
            [
             0,
             "#0d0887"
            ],
            [
             0.1111111111111111,
             "#46039f"
            ],
            [
             0.2222222222222222,
             "#7201a8"
            ],
            [
             0.3333333333333333,
             "#9c179e"
            ],
            [
             0.4444444444444444,
             "#bd3786"
            ],
            [
             0.5555555555555556,
             "#d8576b"
            ],
            [
             0.6666666666666666,
             "#ed7953"
            ],
            [
             0.7777777777777778,
             "#fb9f3a"
            ],
            [
             0.8888888888888888,
             "#fdca26"
            ],
            [
             1,
             "#f0f921"
            ]
           ],
           "sequentialminus": [
            [
             0,
             "#0d0887"
            ],
            [
             0.1111111111111111,
             "#46039f"
            ],
            [
             0.2222222222222222,
             "#7201a8"
            ],
            [
             0.3333333333333333,
             "#9c179e"
            ],
            [
             0.4444444444444444,
             "#bd3786"
            ],
            [
             0.5555555555555556,
             "#d8576b"
            ],
            [
             0.6666666666666666,
             "#ed7953"
            ],
            [
             0.7777777777777778,
             "#fb9f3a"
            ],
            [
             0.8888888888888888,
             "#fdca26"
            ],
            [
             1,
             "#f0f921"
            ]
           ]
          },
          "colorway": [
           "#636efa",
           "#EF553B",
           "#00cc96",
           "#ab63fa",
           "#FFA15A",
           "#19d3f3",
           "#FF6692",
           "#B6E880",
           "#FF97FF",
           "#FECB52"
          ],
          "font": {
           "color": "#2a3f5f"
          },
          "geo": {
           "bgcolor": "white",
           "lakecolor": "white",
           "landcolor": "white",
           "showlakes": true,
           "showland": true,
           "subunitcolor": "#C8D4E3"
          },
          "hoverlabel": {
           "align": "left"
          },
          "hovermode": "closest",
          "mapbox": {
           "style": "light"
          },
          "paper_bgcolor": "white",
          "plot_bgcolor": "white",
          "polar": {
           "angularaxis": {
            "gridcolor": "#EBF0F8",
            "linecolor": "#EBF0F8",
            "ticks": ""
           },
           "bgcolor": "white",
           "radialaxis": {
            "gridcolor": "#EBF0F8",
            "linecolor": "#EBF0F8",
            "ticks": ""
           }
          },
          "scene": {
           "xaxis": {
            "backgroundcolor": "white",
            "gridcolor": "#DFE8F3",
            "gridwidth": 2,
            "linecolor": "#EBF0F8",
            "showbackground": true,
            "ticks": "",
            "zerolinecolor": "#EBF0F8"
           },
           "yaxis": {
            "backgroundcolor": "white",
            "gridcolor": "#DFE8F3",
            "gridwidth": 2,
            "linecolor": "#EBF0F8",
            "showbackground": true,
            "ticks": "",
            "zerolinecolor": "#EBF0F8"
           },
           "zaxis": {
            "backgroundcolor": "white",
            "gridcolor": "#DFE8F3",
            "gridwidth": 2,
            "linecolor": "#EBF0F8",
            "showbackground": true,
            "ticks": "",
            "zerolinecolor": "#EBF0F8"
           }
          },
          "shapedefaults": {
           "line": {
            "color": "#2a3f5f"
           }
          },
          "ternary": {
           "aaxis": {
            "gridcolor": "#DFE8F3",
            "linecolor": "#A2B1C6",
            "ticks": ""
           },
           "baxis": {
            "gridcolor": "#DFE8F3",
            "linecolor": "#A2B1C6",
            "ticks": ""
           },
           "bgcolor": "white",
           "caxis": {
            "gridcolor": "#DFE8F3",
            "linecolor": "#A2B1C6",
            "ticks": ""
           }
          },
          "title": {
           "x": 0.05
          },
          "xaxis": {
           "automargin": true,
           "gridcolor": "#EBF0F8",
           "linecolor": "#EBF0F8",
           "ticks": "",
           "title": {
            "standoff": 15
           },
           "zerolinecolor": "#EBF0F8",
           "zerolinewidth": 2
          },
          "yaxis": {
           "automargin": true,
           "gridcolor": "#EBF0F8",
           "linecolor": "#EBF0F8",
           "ticks": "",
           "title": {
            "standoff": 15
           },
           "zerolinecolor": "#EBF0F8",
           "zerolinewidth": 2
          }
         }
        },
        "title": {
         "text": "Emotion Distribution by Gender for Bechdel Test Results"
        }
       }
      }
     },
     "metadata": {},
     "output_type": "display_data"
    }
   ],
   "source": [
    "df_bechdel_graph = preprocessing_bechdel_for_radar_graph(movies_complete_df)\n",
    "graph_emotions_bechdel_combined(df_bechdel_graph)\n"
   ]
  }
 ],
 "metadata": {
  "kernelspec": {
   "display_name": "base",
   "language": "python",
   "name": "python3"
  },
  "language_info": {
   "codemirror_mode": {
    "name": "ipython",
    "version": 3
   },
   "file_extension": ".py",
   "mimetype": "text/x-python",
   "name": "python",
   "nbconvert_exporter": "python",
   "pygments_lexer": "ipython3",
   "version": "3.9.12"
  }
 },
 "nbformat": 4,
 "nbformat_minor": 2
}
