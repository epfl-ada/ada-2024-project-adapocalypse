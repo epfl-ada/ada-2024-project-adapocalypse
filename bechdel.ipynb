{
 "cells": [
  {
   "cell_type": "code",
   "execution_count": 2,
   "metadata": {},
   "outputs": [],
   "source": [
    "import numpy as np\n",
    "import pandas as pd\n",
    "from tqdm import tqdm\n",
    "import plotly.express as px\n",
    "import plotly.graph_objects as go\n",
    "import json\n",
    "import matplotlib.pyplot as plt\n",
    "import ast\n",
    "import warnings\n",
    "warnings.filterwarnings(\"ignore\")\n",
    "\n",
    "from sklearn.model_selection import train_test_split\n",
    "from sklearn.metrics import accuracy_score, precision_score, recall_score, f1_score\n",
    "from sklearn.preprocessing import StandardScaler\n",
    "from statsmodels import tools\n",
    "from sklearn.linear_model import LogisticRegression\n",
    "from sklearn.tree import DecisionTreeClassifier, plot_tree\n",
    "from sklearn.metrics import mean_squared_error\n",
    "from sklearn.metrics import mean_absolute_error\n",
    "from sklearn.ensemble import RandomForestClassifier\n",
    "from sklearn.metrics import confusion_matrix\n",
    "import seaborn as sns\n",
    "import json\n"
   ]
  },
  {
   "attachments": {},
   "cell_type": "markdown",
   "metadata": {},
   "source": [
    "## Data Loading"
   ]
  },
  {
   "cell_type": "code",
   "execution_count": 4,
   "metadata": {},
   "outputs": [],
   "source": [
    "# load bechdel\n",
    "bechdel_df = pd.read_csv('data/processed/bechdel_ratings.csv')\n",
    "\n",
    "# load characters metadata\n",
    "char_metadata_df = pd.read_csv(\"data/processed/characters_metadata.csv\")\n",
    "\n",
    "# load directors\n",
    "movie_directors = pd.read_csv('data/processed/movies_director.csv')\n",
    "\n",
    "# load emotions\n",
    "plot_emotion_df = pd.read_csv(\"data/processed/plot_emotions.csv\")\n",
    "\n",
    "# load movies\n",
    "movies_df = pd.read_csv(\"data/processed/movies_metadata.csv\")\n",
    "\n",
    "# transform movies\n",
    "movies_df = movies_df[[\"wikipedia_movie_id\", \"movie_release_date\", \"movie_genres\", \"movie_countries\"]]\n",
    "# groupby to make a list that contains all genders for a given movie\n",
    "genders_grouped = (\n",
    "    char_metadata_df.groupby(\"wikipedia_movie_id\")[\"actor_gender\"]\n",
    "    .apply(list)  # Collect genders into lists\n",
    "    .reset_index()  # Reset index to make it a DataFrame\n",
    "    .rename(columns={\"actor_gender\": \"actor_genders\"})  # Rename the column\n",
    ")\n",
    "# merging\n",
    "movies_df = movies_df.merge(genders_grouped, on=\"wikipedia_movie_id\", how=\"left\")\n",
    "movies_df['movie_genres'] = movies_df['movie_genres'].apply(lambda x: ast.literal_eval(x) if isinstance(x, str) else x)\n",
    "movies_df['movie_countries'] = movies_df['movie_countries'].apply(lambda x: ast.literal_eval(x) if isinstance(x, str) else x)\n",
    "\n",
    "# define male/female directors\n",
    "movies_M = movie_directors[movie_directors[\"Gender\"].apply(lambda x: x==\"M\")]\n",
    "movies_F = movie_directors[movie_directors[\"Gender\"].apply(lambda x: x==\"F\")]\n"
   ]
  },
  {
   "attachments": {},
   "cell_type": "markdown",
   "metadata": {},
   "source": [
    "## Data augmentation"
   ]
  },
  {
   "cell_type": "code",
   "execution_count": 5,
   "metadata": {},
   "outputs": [],
   "source": [
    "# adding genres, countries, genders\n",
    "bechdel_df = pd.merge(\n",
    "    bechdel_df,\n",
    "    movies_df[['wikipedia_movie_id', \"movie_genres\", \"movie_countries\", \"actor_genders\"]],\n",
    "    how = \"inner\", # first line is dropped\n",
    "    on = \"wikipedia_movie_id\"\n",
    ")\n",
    "\n",
    "# adding director gender\n",
    "bechdel_df[\"director_gender\"] = bechdel_df[\"wikipedia_movie_id\"].apply(\n",
    "    lambda x: int(0) if x in movies_M['wikipedia_movie_id'].values else \n",
    "              (int(1) if x in movies_F['wikipedia_movie_id'].values else np.nan)\n",
    ")\n",
    "bechdel_df = bechdel_df.dropna(subset=\"director_gender\")\n",
    "\n",
    "# adding plot summaries info\n",
    "bechdel_df = pd.merge(\n",
    "    bechdel_df,\n",
    "    plot_emotion_df[['wikipedia_movie_id', \"plot_length_nb_words\", \"emotion_scores\", \"dominant_emotion\"]],\n",
    "    how = \"inner\", # first line is dropped\n",
    "    on = \"wikipedia_movie_id\"\n",
    ")\n",
    "# handle emotions\n",
    "# Replace single quotes with double quotes\n",
    "bechdel_df[\"emotion_scores\"] = bechdel_df[\"emotion_scores\"].str.replace(\"'\", '\"')\n",
    "# Parse the corrected strings into dictionaries\n",
    "bechdel_df[\"emotion_scores\"] = bechdel_df[\"emotion_scores\"].apply(json.loads)"
   ]
  },
  {
   "cell_type": "code",
   "execution_count": 6,
   "metadata": {},
   "outputs": [],
   "source": [
    "# formatting columns for ML\n",
    "# get all genres and countries\n",
    "genres_list = bechdel_df.explode(\"movie_genres\")[\"movie_genres\"].unique().tolist()\n",
    "countries_list = bechdel_df.explode(\"movie_countries\")[\"movie_countries\"].unique().tolist()\n",
    "emotion_list = bechdel_df[\"dominant_emotion\"].unique().tolist()\n",
    "# add genre and countries columns\n",
    "cols_df = pd.DataFrame(columns=[\"char_M\", \"char_F\"] + genres_list + countries_list + emotion_list)\n",
    "bechdel_df = pd.concat([bechdel_df, cols_df], axis=1).fillna(0).reset_index(drop=True)\n",
    "\n",
    "for index, row in bechdel_df.iterrows():\n",
    "    genres = row[\"movie_genres\"]\n",
    "    countries = row[\"movie_countries\"]\n",
    "    genders = row[\"actor_genders\"]\n",
    "    emotions_dict = row[\"emotion_scores\"]\n",
    "    for genre in genres:\n",
    "        bechdel_df.at[index, genre] = 1\n",
    "    for country in countries:\n",
    "        bechdel_df.at[index, country] = 1\n",
    "    for gender in genders:\n",
    "        if gender == \"M\":\n",
    "            bechdel_df.at[index, \"char_M\"] += 1\n",
    "        else:\n",
    "            bechdel_df.at[index, \"char_F\"] += 1\n",
    "    for emotion in emotion_list:\n",
    "        bechdel_df.at[index, emotion] = emotions_dict[emotion]\n",
    "\n",
    "# making copy\n",
    "bechdel_complete = bechdel_df.copy(deep=True)\n",
    "# dropping old unformatted columns\n",
    "bechdel_df = bechdel_df.drop(columns=[\"actor_genders\", \"movie_genres\", \"movie_countries\", \"actor_genders\", \"emotion_scores\", \"dominant_emotion\", \"wikipedia_movie_id\", \"movie_name\"])\n",
    "bechdel_df.columns = bechdel_df.columns.astype(str)\n",
    "\n",
    "# simplifying the bechdel_rating column into 0 (fails test) and 1(passes test)\n",
    "bechdel_df[\"bechdel_rating\"] = bechdel_df[\"bechdel_rating\"].apply(lambda x: int(0) if (x==0 or x==1 or x==2) else int(1))"
   ]
  },
  {
   "attachments": {},
   "cell_type": "markdown",
   "metadata": {},
   "source": [
    "Now, we have 131 columns for 3346 movies"
   ]
  },
  {
   "cell_type": "code",
   "execution_count": 8,
   "metadata": {},
   "outputs": [
    {
     "data": {
      "text/html": [
       "<div>\n",
       "<style scoped>\n",
       "    .dataframe tbody tr th:only-of-type {\n",
       "        vertical-align: middle;\n",
       "    }\n",
       "\n",
       "    .dataframe tbody tr th {\n",
       "        vertical-align: top;\n",
       "    }\n",
       "\n",
       "    .dataframe thead th {\n",
       "        text-align: right;\n",
       "    }\n",
       "</style>\n",
       "<table border=\"1\" class=\"dataframe\">\n",
       "  <thead>\n",
       "    <tr style=\"text-align: right;\">\n",
       "      <th></th>\n",
       "      <th>movie_release_date</th>\n",
       "      <th>bechdel_rating</th>\n",
       "      <th>director_gender</th>\n",
       "      <th>plot_length_nb_words</th>\n",
       "      <th>char_M</th>\n",
       "      <th>char_F</th>\n",
       "      <th>Thriller</th>\n",
       "      <th>Science Fiction</th>\n",
       "      <th>Horror</th>\n",
       "      <th>Adventure</th>\n",
       "      <th>...</th>\n",
       "      <th>United Arab Emirates</th>\n",
       "      <th>Morocco</th>\n",
       "      <th>Puerto Rico</th>\n",
       "      <th>fear</th>\n",
       "      <th>neutral</th>\n",
       "      <th>sadness</th>\n",
       "      <th>anger</th>\n",
       "      <th>disgust</th>\n",
       "      <th>surprise</th>\n",
       "      <th>joy</th>\n",
       "    </tr>\n",
       "  </thead>\n",
       "  <tbody>\n",
       "    <tr>\n",
       "      <th>0</th>\n",
       "      <td>2001</td>\n",
       "      <td>1</td>\n",
       "      <td>0.0</td>\n",
       "      <td>357</td>\n",
       "      <td>11</td>\n",
       "      <td>6</td>\n",
       "      <td>1</td>\n",
       "      <td>1</td>\n",
       "      <td>1</td>\n",
       "      <td>1</td>\n",
       "      <td>...</td>\n",
       "      <td>0</td>\n",
       "      <td>0</td>\n",
       "      <td>0</td>\n",
       "      <td>0.312076</td>\n",
       "      <td>0.261832</td>\n",
       "      <td>0.057568</td>\n",
       "      <td>0.139126</td>\n",
       "      <td>0.197780</td>\n",
       "      <td>0.014387</td>\n",
       "      <td>0.017232</td>\n",
       "    </tr>\n",
       "    <tr>\n",
       "      <th>1</th>\n",
       "      <td>1989</td>\n",
       "      <td>1</td>\n",
       "      <td>0.0</td>\n",
       "      <td>67</td>\n",
       "      <td>18</td>\n",
       "      <td>3</td>\n",
       "      <td>0</td>\n",
       "      <td>0</td>\n",
       "      <td>0</td>\n",
       "      <td>1</td>\n",
       "      <td>...</td>\n",
       "      <td>0</td>\n",
       "      <td>0</td>\n",
       "      <td>0</td>\n",
       "      <td>0.003841</td>\n",
       "      <td>0.679410</td>\n",
       "      <td>0.057925</td>\n",
       "      <td>0.016094</td>\n",
       "      <td>0.004746</td>\n",
       "      <td>0.129912</td>\n",
       "      <td>0.108072</td>\n",
       "    </tr>\n",
       "    <tr>\n",
       "      <th>2</th>\n",
       "      <td>1964</td>\n",
       "      <td>1</td>\n",
       "      <td>0.0</td>\n",
       "      <td>1468</td>\n",
       "      <td>7</td>\n",
       "      <td>6</td>\n",
       "      <td>0</td>\n",
       "      <td>0</td>\n",
       "      <td>0</td>\n",
       "      <td>0</td>\n",
       "      <td>...</td>\n",
       "      <td>0</td>\n",
       "      <td>0</td>\n",
       "      <td>0</td>\n",
       "      <td>0.063908</td>\n",
       "      <td>0.138584</td>\n",
       "      <td>0.243435</td>\n",
       "      <td>0.218646</td>\n",
       "      <td>0.036475</td>\n",
       "      <td>0.090769</td>\n",
       "      <td>0.208183</td>\n",
       "    </tr>\n",
       "    <tr>\n",
       "      <th>3</th>\n",
       "      <td>1989</td>\n",
       "      <td>1</td>\n",
       "      <td>1.0</td>\n",
       "      <td>583</td>\n",
       "      <td>8</td>\n",
       "      <td>6</td>\n",
       "      <td>0</td>\n",
       "      <td>0</td>\n",
       "      <td>0</td>\n",
       "      <td>0</td>\n",
       "      <td>...</td>\n",
       "      <td>0</td>\n",
       "      <td>0</td>\n",
       "      <td>0</td>\n",
       "      <td>0.148329</td>\n",
       "      <td>0.150340</td>\n",
       "      <td>0.231786</td>\n",
       "      <td>0.221961</td>\n",
       "      <td>0.123119</td>\n",
       "      <td>0.043714</td>\n",
       "      <td>0.080752</td>\n",
       "    </tr>\n",
       "    <tr>\n",
       "      <th>4</th>\n",
       "      <td>1939</td>\n",
       "      <td>0</td>\n",
       "      <td>0.0</td>\n",
       "      <td>244</td>\n",
       "      <td>3</td>\n",
       "      <td>1</td>\n",
       "      <td>0</td>\n",
       "      <td>0</td>\n",
       "      <td>0</td>\n",
       "      <td>0</td>\n",
       "      <td>...</td>\n",
       "      <td>0</td>\n",
       "      <td>0</td>\n",
       "      <td>0</td>\n",
       "      <td>0.257346</td>\n",
       "      <td>0.103526</td>\n",
       "      <td>0.200089</td>\n",
       "      <td>0.308751</td>\n",
       "      <td>0.044936</td>\n",
       "      <td>0.080762</td>\n",
       "      <td>0.004589</td>\n",
       "    </tr>\n",
       "    <tr>\n",
       "      <th>...</th>\n",
       "      <td>...</td>\n",
       "      <td>...</td>\n",
       "      <td>...</td>\n",
       "      <td>...</td>\n",
       "      <td>...</td>\n",
       "      <td>...</td>\n",
       "      <td>...</td>\n",
       "      <td>...</td>\n",
       "      <td>...</td>\n",
       "      <td>...</td>\n",
       "      <td>...</td>\n",
       "      <td>...</td>\n",
       "      <td>...</td>\n",
       "      <td>...</td>\n",
       "      <td>...</td>\n",
       "      <td>...</td>\n",
       "      <td>...</td>\n",
       "      <td>...</td>\n",
       "      <td>...</td>\n",
       "      <td>...</td>\n",
       "      <td>...</td>\n",
       "    </tr>\n",
       "    <tr>\n",
       "      <th>3342</th>\n",
       "      <td>1996</td>\n",
       "      <td>1</td>\n",
       "      <td>1.0</td>\n",
       "      <td>608</td>\n",
       "      <td>12</td>\n",
       "      <td>5</td>\n",
       "      <td>0</td>\n",
       "      <td>0</td>\n",
       "      <td>1</td>\n",
       "      <td>1</td>\n",
       "      <td>...</td>\n",
       "      <td>0</td>\n",
       "      <td>0</td>\n",
       "      <td>0</td>\n",
       "      <td>0.199097</td>\n",
       "      <td>0.345438</td>\n",
       "      <td>0.140309</td>\n",
       "      <td>0.132143</td>\n",
       "      <td>0.043645</td>\n",
       "      <td>0.030557</td>\n",
       "      <td>0.108812</td>\n",
       "    </tr>\n",
       "    <tr>\n",
       "      <th>3343</th>\n",
       "      <td>2011</td>\n",
       "      <td>0</td>\n",
       "      <td>0.0</td>\n",
       "      <td>808</td>\n",
       "      <td>13</td>\n",
       "      <td>4</td>\n",
       "      <td>1</td>\n",
       "      <td>1</td>\n",
       "      <td>1</td>\n",
       "      <td>1</td>\n",
       "      <td>...</td>\n",
       "      <td>0</td>\n",
       "      <td>0</td>\n",
       "      <td>0</td>\n",
       "      <td>0.069313</td>\n",
       "      <td>0.454169</td>\n",
       "      <td>0.054210</td>\n",
       "      <td>0.090608</td>\n",
       "      <td>0.153779</td>\n",
       "      <td>0.170574</td>\n",
       "      <td>0.007347</td>\n",
       "    </tr>\n",
       "    <tr>\n",
       "      <th>3344</th>\n",
       "      <td>1997</td>\n",
       "      <td>1</td>\n",
       "      <td>0.0</td>\n",
       "      <td>319</td>\n",
       "      <td>6</td>\n",
       "      <td>5</td>\n",
       "      <td>0</td>\n",
       "      <td>0</td>\n",
       "      <td>0</td>\n",
       "      <td>0</td>\n",
       "      <td>...</td>\n",
       "      <td>0</td>\n",
       "      <td>0</td>\n",
       "      <td>0</td>\n",
       "      <td>0.012097</td>\n",
       "      <td>0.246951</td>\n",
       "      <td>0.044272</td>\n",
       "      <td>0.088300</td>\n",
       "      <td>0.416067</td>\n",
       "      <td>0.004161</td>\n",
       "      <td>0.188152</td>\n",
       "    </tr>\n",
       "    <tr>\n",
       "      <th>3345</th>\n",
       "      <td>1988</td>\n",
       "      <td>1</td>\n",
       "      <td>0.0</td>\n",
       "      <td>488</td>\n",
       "      <td>15</td>\n",
       "      <td>6</td>\n",
       "      <td>0</td>\n",
       "      <td>0</td>\n",
       "      <td>0</td>\n",
       "      <td>0</td>\n",
       "      <td>...</td>\n",
       "      <td>0</td>\n",
       "      <td>0</td>\n",
       "      <td>0</td>\n",
       "      <td>0.004143</td>\n",
       "      <td>0.199333</td>\n",
       "      <td>0.211627</td>\n",
       "      <td>0.325282</td>\n",
       "      <td>0.063889</td>\n",
       "      <td>0.165895</td>\n",
       "      <td>0.029831</td>\n",
       "    </tr>\n",
       "    <tr>\n",
       "      <th>3346</th>\n",
       "      <td>1993</td>\n",
       "      <td>0</td>\n",
       "      <td>0.0</td>\n",
       "      <td>530</td>\n",
       "      <td>5</td>\n",
       "      <td>3</td>\n",
       "      <td>1</td>\n",
       "      <td>0</td>\n",
       "      <td>0</td>\n",
       "      <td>0</td>\n",
       "      <td>...</td>\n",
       "      <td>0</td>\n",
       "      <td>0</td>\n",
       "      <td>0</td>\n",
       "      <td>0.474901</td>\n",
       "      <td>0.162499</td>\n",
       "      <td>0.127758</td>\n",
       "      <td>0.159433</td>\n",
       "      <td>0.058751</td>\n",
       "      <td>0.010303</td>\n",
       "      <td>0.006354</td>\n",
       "    </tr>\n",
       "  </tbody>\n",
       "</table>\n",
       "<p>3347 rows × 131 columns</p>\n",
       "</div>"
      ],
      "text/plain": [
       "      movie_release_date  bechdel_rating  director_gender  \\\n",
       "0                   2001               1              0.0   \n",
       "1                   1989               1              0.0   \n",
       "2                   1964               1              0.0   \n",
       "3                   1989               1              1.0   \n",
       "4                   1939               0              0.0   \n",
       "...                  ...             ...              ...   \n",
       "3342                1996               1              1.0   \n",
       "3343                2011               0              0.0   \n",
       "3344                1997               1              0.0   \n",
       "3345                1988               1              0.0   \n",
       "3346                1993               0              0.0   \n",
       "\n",
       "      plot_length_nb_words  char_M  char_F  Thriller  Science Fiction  Horror  \\\n",
       "0                      357      11       6         1                1       1   \n",
       "1                       67      18       3         0                0       0   \n",
       "2                     1468       7       6         0                0       0   \n",
       "3                      583       8       6         0                0       0   \n",
       "4                      244       3       1         0                0       0   \n",
       "...                    ...     ...     ...       ...              ...     ...   \n",
       "3342                   608      12       5         0                0       1   \n",
       "3343                   808      13       4         1                1       1   \n",
       "3344                   319       6       5         0                0       0   \n",
       "3345                   488      15       6         0                0       0   \n",
       "3346                   530       5       3         1                0       0   \n",
       "\n",
       "      Adventure  ...  United Arab Emirates  Morocco  Puerto Rico      fear  \\\n",
       "0             1  ...                     0        0            0  0.312076   \n",
       "1             1  ...                     0        0            0  0.003841   \n",
       "2             0  ...                     0        0            0  0.063908   \n",
       "3             0  ...                     0        0            0  0.148329   \n",
       "4             0  ...                     0        0            0  0.257346   \n",
       "...         ...  ...                   ...      ...          ...       ...   \n",
       "3342          1  ...                     0        0            0  0.199097   \n",
       "3343          1  ...                     0        0            0  0.069313   \n",
       "3344          0  ...                     0        0            0  0.012097   \n",
       "3345          0  ...                     0        0            0  0.004143   \n",
       "3346          0  ...                     0        0            0  0.474901   \n",
       "\n",
       "       neutral   sadness     anger   disgust  surprise       joy  \n",
       "0     0.261832  0.057568  0.139126  0.197780  0.014387  0.017232  \n",
       "1     0.679410  0.057925  0.016094  0.004746  0.129912  0.108072  \n",
       "2     0.138584  0.243435  0.218646  0.036475  0.090769  0.208183  \n",
       "3     0.150340  0.231786  0.221961  0.123119  0.043714  0.080752  \n",
       "4     0.103526  0.200089  0.308751  0.044936  0.080762  0.004589  \n",
       "...        ...       ...       ...       ...       ...       ...  \n",
       "3342  0.345438  0.140309  0.132143  0.043645  0.030557  0.108812  \n",
       "3343  0.454169  0.054210  0.090608  0.153779  0.170574  0.007347  \n",
       "3344  0.246951  0.044272  0.088300  0.416067  0.004161  0.188152  \n",
       "3345  0.199333  0.211627  0.325282  0.063889  0.165895  0.029831  \n",
       "3346  0.162499  0.127758  0.159433  0.058751  0.010303  0.006354  \n",
       "\n",
       "[3347 rows x 131 columns]"
      ]
     },
     "execution_count": 8,
     "metadata": {},
     "output_type": "execute_result"
    }
   ],
   "source": [
    "bechdel_df"
   ]
  },
  {
   "attachments": {},
   "cell_type": "markdown",
   "metadata": {},
   "source": [
    "## Logistic Regression Model"
   ]
  },
  {
   "cell_type": "code",
   "execution_count": 20,
   "metadata": {},
   "outputs": [],
   "source": [
    "# preparing data for model\n",
    "target_cols = [\"bechdel_rating\"]\n",
    "features_cols = bechdel_df.keys().tolist()\n",
    "features_cols.remove(target_cols[0])\n",
    "X = bechdel_df[features_cols]\n",
    "y = bechdel_df[target_cols]\n",
    "\n",
    "# we split\n",
    "X_train, X_test, y_train, y_test = train_test_split(X, y, test_size=0.2, random_state=42)\n",
    "\n",
    "# we squeeze to match the dimensions\n",
    "y_test = y_test.squeeze()\n",
    "y_train = y_train.squeeze()\n",
    "\n",
    "# Load the module\n",
    "scaler = StandardScaler()\n",
    "\n",
    "# Standardize X train\n",
    "scaler.fit(X_train) # used both for X_train and X_test\n",
    "X_train_standardized = scaler.transform(X_train)\n",
    "X_test_standardized = scaler.transform(X_test)"
   ]
  },
  {
   "cell_type": "code",
   "execution_count": 22,
   "metadata": {},
   "outputs": [
    {
     "name": "stdout",
     "output_type": "stream",
     "text": [
      "The accuracy score for test set is: 0.7014925373134329\n",
      "The accuracy score for train set is: 0.7201046337817638\n"
     ]
    }
   ],
   "source": [
    "# we create the model\n",
    "log_reg_model = LogisticRegression(random_state=42, max_iter=500)\n",
    "\n",
    "# Fit the model\n",
    "log_reg_model.fit(X_train_standardized, y_train)\n",
    "\n",
    "y_pred_test = log_reg_model.predict(X_test_standardized)\n",
    "y_pred_train = log_reg_model.predict(X_train_standardized)\n",
    "print(f'The accuracy score for test set is: {accuracy_score(y_test, y_pred_test)}')\n",
    "print(f'The accuracy score for train set is: {accuracy_score(y_train, y_pred_train)}')"
   ]
  },
  {
   "cell_type": "code",
   "execution_count": 23,
   "metadata": {},
   "outputs": [
    {
     "data": {
      "image/png": "[encoded data removed]",
      "text/plain": [
       "<Figure size 800x600 with 2 Axes>"
      ]
     },
     "metadata": {},
     "output_type": "display_data"
    }
   ],
   "source": [
    "# Generate the confusion matrix\n",
    "cm = confusion_matrix(y_test, y_pred_test)\n",
    "\n",
    "# Normalize the confusion matrix to get proportions\n",
    "cm_normalized = cm.astype('float') / cm.sum(axis=1)[:, np.newaxis]\n",
    "\n",
    "# Plotting the normalized confusion matrix\n",
    "plt.figure(figsize=(8,6))\n",
    "sns.heatmap(cm_normalized, annot=True, fmt=\".2f\", cmap=\"Blues\", xticklabels=['Class 0', 'Class 1'], yticklabels=['Class 0', 'Class 1'])\n",
    "plt.title('Normalized Random Forest Confusion Matrix')\n",
    "plt.xlabel('Predicted')\n",
    "plt.ylabel('Actual')\n",
    "plt.show()"
   ]
  },
  {
   "cell_type": "code",
   "execution_count": 26,
   "metadata": {},
   "outputs": [
    {
     "data": {
      "text/html": [
       "<div>\n",
       "<style scoped>\n",
       "    .dataframe tbody tr th:only-of-type {\n",
       "        vertical-align: middle;\n",
       "    }\n",
       "\n",
       "    .dataframe tbody tr th {\n",
       "        vertical-align: top;\n",
       "    }\n",
       "\n",
       "    .dataframe thead th {\n",
       "        text-align: right;\n",
       "    }\n",
       "</style>\n",
       "<table border=\"1\" class=\"dataframe\">\n",
       "  <thead>\n",
       "    <tr style=\"text-align: right;\">\n",
       "      <th></th>\n",
       "      <th>Feature</th>\n",
       "      <th>Coefficient</th>\n",
       "      <th>Importance</th>\n",
       "    </tr>\n",
       "  </thead>\n",
       "  <tbody>\n",
       "    <tr>\n",
       "      <th>4</th>\n",
       "      <td>char_F</td>\n",
       "      <td>1.096399</td>\n",
       "      <td>1.096399</td>\n",
       "    </tr>\n",
       "    <tr>\n",
       "      <th>3</th>\n",
       "      <td>char_M</td>\n",
       "      <td>-0.649354</td>\n",
       "      <td>0.649354</td>\n",
       "    </tr>\n",
       "    <tr>\n",
       "      <th>30</th>\n",
       "      <td>Feminist</td>\n",
       "      <td>0.456757</td>\n",
       "      <td>0.456757</td>\n",
       "    </tr>\n",
       "    <tr>\n",
       "      <th>83</th>\n",
       "      <td>Serbia</td>\n",
       "      <td>-0.298492</td>\n",
       "      <td>0.298492</td>\n",
       "    </tr>\n",
       "    <tr>\n",
       "      <th>92</th>\n",
       "      <td>Egypt</td>\n",
       "      <td>0.298387</td>\n",
       "      <td>0.298387</td>\n",
       "    </tr>\n",
       "    <tr>\n",
       "      <th>93</th>\n",
       "      <td>Russia</td>\n",
       "      <td>-0.270955</td>\n",
       "      <td>0.270955</td>\n",
       "    </tr>\n",
       "    <tr>\n",
       "      <th>102</th>\n",
       "      <td>Iceland</td>\n",
       "      <td>0.250458</td>\n",
       "      <td>0.250458</td>\n",
       "    </tr>\n",
       "    <tr>\n",
       "      <th>96</th>\n",
       "      <td>Norway</td>\n",
       "      <td>-0.245743</td>\n",
       "      <td>0.245743</td>\n",
       "    </tr>\n",
       "    <tr>\n",
       "      <th>76</th>\n",
       "      <td>Lebanon</td>\n",
       "      <td>-0.235551</td>\n",
       "      <td>0.235551</td>\n",
       "    </tr>\n",
       "    <tr>\n",
       "      <th>79</th>\n",
       "      <td>Austria</td>\n",
       "      <td>0.223329</td>\n",
       "      <td>0.223329</td>\n",
       "    </tr>\n",
       "    <tr>\n",
       "      <th>43</th>\n",
       "      <td>Plague</td>\n",
       "      <td>0.207913</td>\n",
       "      <td>0.207913</td>\n",
       "    </tr>\n",
       "    <tr>\n",
       "      <th>1</th>\n",
       "      <td>director_gender</td>\n",
       "      <td>0.198661</td>\n",
       "      <td>0.198661</td>\n",
       "    </tr>\n",
       "    <tr>\n",
       "      <th>110</th>\n",
       "      <td>Korea</td>\n",
       "      <td>-0.186869</td>\n",
       "      <td>0.186869</td>\n",
       "    </tr>\n",
       "    <tr>\n",
       "      <th>116</th>\n",
       "      <td>Uruguay</td>\n",
       "      <td>0.177002</td>\n",
       "      <td>0.177002</td>\n",
       "    </tr>\n",
       "    <tr>\n",
       "      <th>118</th>\n",
       "      <td>Colombia</td>\n",
       "      <td>0.165104</td>\n",
       "      <td>0.165104</td>\n",
       "    </tr>\n",
       "    <tr>\n",
       "      <th>103</th>\n",
       "      <td>Taiwan</td>\n",
       "      <td>0.158479</td>\n",
       "      <td>0.158479</td>\n",
       "    </tr>\n",
       "    <tr>\n",
       "      <th>47</th>\n",
       "      <td>Camp</td>\n",
       "      <td>0.142125</td>\n",
       "      <td>0.142125</td>\n",
       "    </tr>\n",
       "    <tr>\n",
       "      <th>84</th>\n",
       "      <td>Bulgaria</td>\n",
       "      <td>0.140544</td>\n",
       "      <td>0.140544</td>\n",
       "    </tr>\n",
       "    <tr>\n",
       "      <th>121</th>\n",
       "      <td>Morocco</td>\n",
       "      <td>-0.140105</td>\n",
       "      <td>0.140105</td>\n",
       "    </tr>\n",
       "    <tr>\n",
       "      <th>13</th>\n",
       "      <td>Family's Films</td>\n",
       "      <td>0.139351</td>\n",
       "      <td>0.139351</td>\n",
       "    </tr>\n",
       "  </tbody>\n",
       "</table>\n",
       "</div>"
      ],
      "text/plain": [
       "             Feature  Coefficient  Importance\n",
       "4             char_F     1.096399    1.096399\n",
       "3             char_M    -0.649354    0.649354\n",
       "30          Feminist     0.456757    0.456757\n",
       "83            Serbia    -0.298492    0.298492\n",
       "92             Egypt     0.298387    0.298387\n",
       "93            Russia    -0.270955    0.270955\n",
       "102          Iceland     0.250458    0.250458\n",
       "96            Norway    -0.245743    0.245743\n",
       "76           Lebanon    -0.235551    0.235551\n",
       "79           Austria     0.223329    0.223329\n",
       "43            Plague     0.207913    0.207913\n",
       "1    director_gender     0.198661    0.198661\n",
       "110            Korea    -0.186869    0.186869\n",
       "116          Uruguay     0.177002    0.177002\n",
       "118         Colombia     0.165104    0.165104\n",
       "103           Taiwan     0.158479    0.158479\n",
       "47              Camp     0.142125    0.142125\n",
       "84          Bulgaria     0.140544    0.140544\n",
       "121          Morocco    -0.140105    0.140105\n",
       "13    Family's Films     0.139351    0.139351"
      ]
     },
     "execution_count": 26,
     "metadata": {},
     "output_type": "execute_result"
    }
   ],
   "source": [
    "# Get the feature importance\n",
    "selected_features = X_train.columns\n",
    "\n",
    "# Get the coefficients from the logistic regression model\n",
    "coefficients = log_reg_model.coef_[0]  # For binary classification\n",
    "\n",
    "# Create a DataFrame for feature importance\n",
    "feature_importance_df = pd.DataFrame({\n",
    "    'Feature': selected_features,\n",
    "    'Coefficient': coefficients,\n",
    "    'Importance': abs(coefficients)\n",
    "}).sort_values(by='Importance', ascending=False)\n",
    "\n",
    "# Display the top 20 features\n",
    "feature_importance_df.head(20)"
   ]
  },
  {
   "attachments": {},
   "cell_type": "markdown",
   "metadata": {},
   "source": [
    "## Correlation between features"
   ]
  },
  {
   "cell_type": "code",
   "execution_count": 35,
   "metadata": {},
   "outputs": [],
   "source": [
    "correlations = bechdel_df[['bechdel_rating', 'char_F', 'char_M', \"director_gender\"]].corr()"
   ]
  },
  {
   "cell_type": "code",
   "execution_count": 36,
   "metadata": {},
   "outputs": [
    {
     "data": {
      "image/png": "[encoded data removed]",
      "text/plain": [
       "<Figure size 800x500 with 1 Axes>"
      ]
     },
     "metadata": {},
     "output_type": "display_data"
    }
   ],
   "source": [
    "# Correlation values\n",
    "bechdel_corr = correlations['bechdel_rating'].drop('bechdel_rating')\n",
    "\n",
    "# Plotting\n",
    "plt.figure(figsize=(8, 5))\n",
    "bechdel_corr.sort_values(ascending=True).plot(kind='barh', color='skyblue')\n",
    "plt.title('Correlation with Bechdel Rating')\n",
    "plt.xlabel('Correlation Coefficient')\n",
    "plt.ylabel('Variables')\n",
    "plt.axvline(0, color='gray', linestyle='--', linewidth=1)  # Mark zero correlation\n",
    "plt.tight_layout()\n",
    "plt.show()"
   ]
  },
  {
   "attachments": {},
   "cell_type": "markdown",
   "metadata": {},
   "source": [
    "## Further analysis"
   ]
  },
  {
   "cell_type": "code",
   "execution_count": 9,
   "metadata": {},
   "outputs": [],
   "source": [
    "bechdel_complete = bechdel_complete[[\"wikipedia_movie_id\", \"movie_name\", \"movie_release_date\", \"bechdel_rating\", \"director_gender\", \"char_M\", \"char_F\", \"neutral\", \"sadness\", \"anger\", \"fear\", \"disgust\", \"surprise\", \"joy\"]]"
   ]
  },
  {
   "cell_type": "code",
   "execution_count": 12,
   "metadata": {},
   "outputs": [
    {
     "data": {
      "text/html": [
       "<div>\n",
       "<style scoped>\n",
       "    .dataframe tbody tr th:only-of-type {\n",
       "        vertical-align: middle;\n",
       "    }\n",
       "\n",
       "    .dataframe tbody tr th {\n",
       "        vertical-align: top;\n",
       "    }\n",
       "\n",
       "    .dataframe thead th {\n",
       "        text-align: right;\n",
       "    }\n",
       "</style>\n",
       "<table border=\"1\" class=\"dataframe\">\n",
       "  <thead>\n",
       "    <tr style=\"text-align: right;\">\n",
       "      <th></th>\n",
       "      <th>wikipedia_movie_id</th>\n",
       "      <th>movie_name</th>\n",
       "      <th>movie_release_date</th>\n",
       "      <th>bechdel_rating</th>\n",
       "      <th>director_gender</th>\n",
       "      <th>char_M</th>\n",
       "      <th>char_F</th>\n",
       "      <th>neutral</th>\n",
       "      <th>sadness</th>\n",
       "      <th>anger</th>\n",
       "      <th>fear</th>\n",
       "      <th>disgust</th>\n",
       "      <th>surprise</th>\n",
       "      <th>joy</th>\n",
       "    </tr>\n",
       "  </thead>\n",
       "  <tbody>\n",
       "    <tr>\n",
       "      <th>0</th>\n",
       "      <td>975900</td>\n",
       "      <td>Ghosts of Mars</td>\n",
       "      <td>2001</td>\n",
       "      <td>3</td>\n",
       "      <td>0.0</td>\n",
       "      <td>11</td>\n",
       "      <td>6</td>\n",
       "      <td>0.261832</td>\n",
       "      <td>0.057568</td>\n",
       "      <td>0.139126</td>\n",
       "      <td>0.312076</td>\n",
       "      <td>0.197780</td>\n",
       "      <td>0.014387</td>\n",
       "      <td>0.017232</td>\n",
       "    </tr>\n",
       "    <tr>\n",
       "      <th>1</th>\n",
       "      <td>171005</td>\n",
       "      <td>Henry V</td>\n",
       "      <td>1989</td>\n",
       "      <td>3</td>\n",
       "      <td>0.0</td>\n",
       "      <td>18</td>\n",
       "      <td>3</td>\n",
       "      <td>0.679410</td>\n",
       "      <td>0.057925</td>\n",
       "      <td>0.016094</td>\n",
       "      <td>0.003841</td>\n",
       "      <td>0.004746</td>\n",
       "      <td>0.129912</td>\n",
       "      <td>0.108072</td>\n",
       "    </tr>\n",
       "    <tr>\n",
       "      <th>2</th>\n",
       "      <td>77856</td>\n",
       "      <td>Mary Poppins</td>\n",
       "      <td>1964</td>\n",
       "      <td>3</td>\n",
       "      <td>0.0</td>\n",
       "      <td>7</td>\n",
       "      <td>6</td>\n",
       "      <td>0.138584</td>\n",
       "      <td>0.243435</td>\n",
       "      <td>0.218646</td>\n",
       "      <td>0.063908</td>\n",
       "      <td>0.036475</td>\n",
       "      <td>0.090769</td>\n",
       "      <td>0.208183</td>\n",
       "    </tr>\n",
       "    <tr>\n",
       "      <th>3</th>\n",
       "      <td>12053509</td>\n",
       "      <td>Loverboy</td>\n",
       "      <td>1989</td>\n",
       "      <td>3</td>\n",
       "      <td>1.0</td>\n",
       "      <td>8</td>\n",
       "      <td>6</td>\n",
       "      <td>0.150340</td>\n",
       "      <td>0.231786</td>\n",
       "      <td>0.221961</td>\n",
       "      <td>0.148329</td>\n",
       "      <td>0.123119</td>\n",
       "      <td>0.043714</td>\n",
       "      <td>0.080752</td>\n",
       "    </tr>\n",
       "    <tr>\n",
       "      <th>4</th>\n",
       "      <td>1369204</td>\n",
       "      <td>Juarez</td>\n",
       "      <td>1939</td>\n",
       "      <td>2</td>\n",
       "      <td>0.0</td>\n",
       "      <td>3</td>\n",
       "      <td>1</td>\n",
       "      <td>0.103526</td>\n",
       "      <td>0.200089</td>\n",
       "      <td>0.308751</td>\n",
       "      <td>0.257346</td>\n",
       "      <td>0.044936</td>\n",
       "      <td>0.080762</td>\n",
       "      <td>0.004589</td>\n",
       "    </tr>\n",
       "    <tr>\n",
       "      <th>...</th>\n",
       "      <td>...</td>\n",
       "      <td>...</td>\n",
       "      <td>...</td>\n",
       "      <td>...</td>\n",
       "      <td>...</td>\n",
       "      <td>...</td>\n",
       "      <td>...</td>\n",
       "      <td>...</td>\n",
       "      <td>...</td>\n",
       "      <td>...</td>\n",
       "      <td>...</td>\n",
       "      <td>...</td>\n",
       "      <td>...</td>\n",
       "      <td>...</td>\n",
       "    </tr>\n",
       "    <tr>\n",
       "      <th>3342</th>\n",
       "      <td>303933</td>\n",
       "      <td>Twister</td>\n",
       "      <td>1996</td>\n",
       "      <td>3</td>\n",
       "      <td>1.0</td>\n",
       "      <td>12</td>\n",
       "      <td>5</td>\n",
       "      <td>0.345438</td>\n",
       "      <td>0.140309</td>\n",
       "      <td>0.132143</td>\n",
       "      <td>0.199097</td>\n",
       "      <td>0.043645</td>\n",
       "      <td>0.030557</td>\n",
       "      <td>0.108812</td>\n",
       "    </tr>\n",
       "    <tr>\n",
       "      <th>3343</th>\n",
       "      <td>25920477</td>\n",
       "      <td>Source Code</td>\n",
       "      <td>2011</td>\n",
       "      <td>1</td>\n",
       "      <td>0.0</td>\n",
       "      <td>13</td>\n",
       "      <td>4</td>\n",
       "      <td>0.454169</td>\n",
       "      <td>0.054210</td>\n",
       "      <td>0.090608</td>\n",
       "      <td>0.069313</td>\n",
       "      <td>0.153779</td>\n",
       "      <td>0.170574</td>\n",
       "      <td>0.007347</td>\n",
       "    </tr>\n",
       "    <tr>\n",
       "      <th>3344</th>\n",
       "      <td>1191380</td>\n",
       "      <td>Wilde</td>\n",
       "      <td>1997</td>\n",
       "      <td>3</td>\n",
       "      <td>0.0</td>\n",
       "      <td>6</td>\n",
       "      <td>5</td>\n",
       "      <td>0.246951</td>\n",
       "      <td>0.044272</td>\n",
       "      <td>0.088300</td>\n",
       "      <td>0.012097</td>\n",
       "      <td>0.416067</td>\n",
       "      <td>0.004161</td>\n",
       "      <td>0.188152</td>\n",
       "    </tr>\n",
       "    <tr>\n",
       "      <th>3345</th>\n",
       "      <td>54540</td>\n",
       "      <td>Coming to America</td>\n",
       "      <td>1988</td>\n",
       "      <td>3</td>\n",
       "      <td>0.0</td>\n",
       "      <td>15</td>\n",
       "      <td>6</td>\n",
       "      <td>0.199333</td>\n",
       "      <td>0.211627</td>\n",
       "      <td>0.325282</td>\n",
       "      <td>0.004143</td>\n",
       "      <td>0.063889</td>\n",
       "      <td>0.165895</td>\n",
       "      <td>0.029831</td>\n",
       "    </tr>\n",
       "    <tr>\n",
       "      <th>3346</th>\n",
       "      <td>664006</td>\n",
       "      <td>Guilty as sin</td>\n",
       "      <td>1993</td>\n",
       "      <td>2</td>\n",
       "      <td>0.0</td>\n",
       "      <td>5</td>\n",
       "      <td>3</td>\n",
       "      <td>0.162499</td>\n",
       "      <td>0.127758</td>\n",
       "      <td>0.159433</td>\n",
       "      <td>0.474901</td>\n",
       "      <td>0.058751</td>\n",
       "      <td>0.010303</td>\n",
       "      <td>0.006354</td>\n",
       "    </tr>\n",
       "  </tbody>\n",
       "</table>\n",
       "<p>3347 rows × 14 columns</p>\n",
       "</div>"
      ],
      "text/plain": [
       "      wikipedia_movie_id         movie_name  movie_release_date  \\\n",
       "0                 975900     Ghosts of Mars                2001   \n",
       "1                 171005            Henry V                1989   \n",
       "2                  77856       Mary Poppins                1964   \n",
       "3               12053509           Loverboy                1989   \n",
       "4                1369204             Juarez                1939   \n",
       "...                  ...                ...                 ...   \n",
       "3342              303933            Twister                1996   \n",
       "3343            25920477        Source Code                2011   \n",
       "3344             1191380              Wilde                1997   \n",
       "3345               54540  Coming to America                1988   \n",
       "3346              664006      Guilty as sin                1993   \n",
       "\n",
       "      bechdel_rating  director_gender  char_M  char_F   neutral   sadness  \\\n",
       "0                  3              0.0      11       6  0.261832  0.057568   \n",
       "1                  3              0.0      18       3  0.679410  0.057925   \n",
       "2                  3              0.0       7       6  0.138584  0.243435   \n",
       "3                  3              1.0       8       6  0.150340  0.231786   \n",
       "4                  2              0.0       3       1  0.103526  0.200089   \n",
       "...              ...              ...     ...     ...       ...       ...   \n",
       "3342               3              1.0      12       5  0.345438  0.140309   \n",
       "3343               1              0.0      13       4  0.454169  0.054210   \n",
       "3344               3              0.0       6       5  0.246951  0.044272   \n",
       "3345               3              0.0      15       6  0.199333  0.211627   \n",
       "3346               2              0.0       5       3  0.162499  0.127758   \n",
       "\n",
       "         anger      fear   disgust  surprise       joy  \n",
       "0     0.139126  0.312076  0.197780  0.014387  0.017232  \n",
       "1     0.016094  0.003841  0.004746  0.129912  0.108072  \n",
       "2     0.218646  0.063908  0.036475  0.090769  0.208183  \n",
       "3     0.221961  0.148329  0.123119  0.043714  0.080752  \n",
       "4     0.308751  0.257346  0.044936  0.080762  0.004589  \n",
       "...        ...       ...       ...       ...       ...  \n",
       "3342  0.132143  0.199097  0.043645  0.030557  0.108812  \n",
       "3343  0.090608  0.069313  0.153779  0.170574  0.007347  \n",
       "3344  0.088300  0.012097  0.416067  0.004161  0.188152  \n",
       "3345  0.325282  0.004143  0.063889  0.165895  0.029831  \n",
       "3346  0.159433  0.474901  0.058751  0.010303  0.006354  \n",
       "\n",
       "[3347 rows x 14 columns]"
      ]
     },
     "execution_count": 12,
     "metadata": {},
     "output_type": "execute_result"
    }
   ],
   "source": [
    "bechdel_complete"
   ]
  },
  {
   "cell_type": "code",
   "execution_count": 11,
   "metadata": {},
   "outputs": [
    {
     "data": {
      "application/vnd.plotly.v1+json": {
       "config": {
        "plotlyServerURL": "https://plot.ly"
       },
       "data": [
        {
         "name": "Male Directors",
         "type": "bar",
         "width": 0.4,
         "x": [
          3,
          2,
          0,
          1
         ],
         "y": [
          52.8457974851092,
          25.44672402382528,
          11.879549966909332,
          9.827928524156187
         ]
        },
        {
         "name": "Female Directors",
         "type": "bar",
         "width": 0.4,
         "x": [
          3,
          2,
          0,
          1
         ],
         "y": [
          76.3076923076923,
          12.923076923076923,
          6.461538461538462,
          4.3076923076923075
         ]
        }
       ],
       "layout": {
        "bargap": 0.2,
        "barmode": "group",
        "template": {
         "data": {
          "bar": [
           {
            "error_x": {
             "color": "#2a3f5f"
            },
            "error_y": {
             "color": "#2a3f5f"
            },
            "marker": {
             "line": {
              "color": "#E5ECF6",
              "width": 0.5
             },
             "pattern": {
              "fillmode": "overlay",
              "size": 10,
              "solidity": 0.2
             }
            },
            "type": "bar"
           }
          ],
          "barpolar": [
           {
            "marker": {
             "line": {
              "color": "#E5ECF6",
              "width": 0.5
             },
             "pattern": {
              "fillmode": "overlay",
              "size": 10,
              "solidity": 0.2
             }
            },
            "type": "barpolar"
           }
          ],
          "carpet": [
           {
            "aaxis": {
             "endlinecolor": "#2a3f5f",
             "gridcolor": "white",
             "linecolor": "white",
             "minorgridcolor": "white",
             "startlinecolor": "#2a3f5f"
            },
            "baxis": {
             "endlinecolor": "#2a3f5f",
             "gridcolor": "white",
             "linecolor": "white",
             "minorgridcolor": "white",
             "startlinecolor": "#2a3f5f"
            },
            "type": "carpet"
           }
          ],
          "choropleth": [
           {
            "colorbar": {
             "outlinewidth": 0,
             "ticks": ""
            },
            "type": "choropleth"
           }
          ],
          "contour": [
           {
            "colorbar": {
             "outlinewidth": 0,
             "ticks": ""
            },
            "colorscale": [
             [
              0,
              "#0d0887"
             ],
             [
              0.1111111111111111,
              "#46039f"
             ],
             [
              0.2222222222222222,
              "#7201a8"
             ],
             [
              0.3333333333333333,
              "#9c179e"
             ],
             [
              0.4444444444444444,
              "#bd3786"
             ],
             [
              0.5555555555555556,
              "#d8576b"
             ],
             [
              0.6666666666666666,
              "#ed7953"
             ],
             [
              0.7777777777777778,
              "#fb9f3a"
             ],
             [
              0.8888888888888888,
              "#fdca26"
             ],
             [
              1,
              "#f0f921"
             ]
            ],
            "type": "contour"
           }
          ],
          "contourcarpet": [
           {
            "colorbar": {
             "outlinewidth": 0,
             "ticks": ""
            },
            "type": "contourcarpet"
           }
          ],
          "heatmap": [
           {
            "colorbar": {
             "outlinewidth": 0,
             "ticks": ""
            },
            "colorscale": [
             [
              0,
              "#0d0887"
             ],
             [
              0.1111111111111111,
              "#46039f"
             ],
             [
              0.2222222222222222,
              "#7201a8"
             ],
             [
              0.3333333333333333,
              "#9c179e"
             ],
             [
              0.4444444444444444,
              "#bd3786"
             ],
             [
              0.5555555555555556,
              "#d8576b"
             ],
             [
              0.6666666666666666,
              "#ed7953"
             ],
             [
              0.7777777777777778,
              "#fb9f3a"
             ],
             [
              0.8888888888888888,
              "#fdca26"
             ],
             [
              1,
              "#f0f921"
             ]
            ],
            "type": "heatmap"
           }
          ],
          "heatmapgl": [
           {
            "colorbar": {
             "outlinewidth": 0,
             "ticks": ""
            },
            "colorscale": [
             [
              0,
              "#0d0887"
             ],
             [
              0.1111111111111111,
              "#46039f"
             ],
             [
              0.2222222222222222,
              "#7201a8"
             ],
             [
              0.3333333333333333,
              "#9c179e"
             ],
             [
              0.4444444444444444,
              "#bd3786"
             ],
             [
              0.5555555555555556,
              "#d8576b"
             ],
             [
              0.6666666666666666,
              "#ed7953"
             ],
             [
              0.7777777777777778,
              "#fb9f3a"
             ],
             [
              0.8888888888888888,
              "#fdca26"
             ],
             [
              1,
              "#f0f921"
             ]
            ],
            "type": "heatmapgl"
           }
          ],
          "histogram": [
           {
            "marker": {
             "pattern": {
              "fillmode": "overlay",
              "size": 10,
              "solidity": 0.2
             }
            },
            "type": "histogram"
           }
          ],
          "histogram2d": [
           {
            "colorbar": {
             "outlinewidth": 0,
             "ticks": ""
            },
            "colorscale": [
             [
              0,
              "#0d0887"
             ],
             [
              0.1111111111111111,
              "#46039f"
             ],
             [
              0.2222222222222222,
              "#7201a8"
             ],
             [
              0.3333333333333333,
              "#9c179e"
             ],
             [
              0.4444444444444444,
              "#bd3786"
             ],
             [
              0.5555555555555556,
              "#d8576b"
             ],
             [
              0.6666666666666666,
              "#ed7953"
             ],
             [
              0.7777777777777778,
              "#fb9f3a"
             ],
             [
              0.8888888888888888,
              "#fdca26"
             ],
             [
              1,
              "#f0f921"
             ]
            ],
            "type": "histogram2d"
           }
          ],
          "histogram2dcontour": [
           {
            "colorbar": {
             "outlinewidth": 0,
             "ticks": ""
            },
            "colorscale": [
             [
              0,
              "#0d0887"
             ],
             [
              0.1111111111111111,
              "#46039f"
             ],
             [
              0.2222222222222222,
              "#7201a8"
             ],
             [
              0.3333333333333333,
              "#9c179e"
             ],
             [
              0.4444444444444444,
              "#bd3786"
             ],
             [
              0.5555555555555556,
              "#d8576b"
             ],
             [
              0.6666666666666666,
              "#ed7953"
             ],
             [
              0.7777777777777778,
              "#fb9f3a"
             ],
             [
              0.8888888888888888,
              "#fdca26"
             ],
             [
              1,
              "#f0f921"
             ]
            ],
            "type": "histogram2dcontour"
           }
          ],
          "mesh3d": [
           {
            "colorbar": {
             "outlinewidth": 0,
             "ticks": ""
            },
            "type": "mesh3d"
           }
          ],
          "parcoords": [
           {
            "line": {
             "colorbar": {
              "outlinewidth": 0,
              "ticks": ""
             }
            },
            "type": "parcoords"
           }
          ],
          "pie": [
           {
            "automargin": true,
            "type": "pie"
           }
          ],
          "scatter": [
           {
            "fillpattern": {
             "fillmode": "overlay",
             "size": 10,
             "solidity": 0.2
            },
            "type": "scatter"
           }
          ],
          "scatter3d": [
           {
            "line": {
             "colorbar": {
              "outlinewidth": 0,
              "ticks": ""
             }
            },
            "marker": {
             "colorbar": {
              "outlinewidth": 0,
              "ticks": ""
             }
            },
            "type": "scatter3d"
           }
          ],
          "scattercarpet": [
           {
            "marker": {
             "colorbar": {
              "outlinewidth": 0,
              "ticks": ""
             }
            },
            "type": "scattercarpet"
           }
          ],
          "scattergeo": [
           {
            "marker": {
             "colorbar": {
              "outlinewidth": 0,
              "ticks": ""
             }
            },
            "type": "scattergeo"
           }
          ],
          "scattergl": [
           {
            "marker": {
             "colorbar": {
              "outlinewidth": 0,
              "ticks": ""
             }
            },
            "type": "scattergl"
           }
          ],
          "scattermapbox": [
           {
            "marker": {
             "colorbar": {
              "outlinewidth": 0,
              "ticks": ""
             }
            },
            "type": "scattermapbox"
           }
          ],
          "scatterpolar": [
           {
            "marker": {
             "colorbar": {
              "outlinewidth": 0,
              "ticks": ""
             }
            },
            "type": "scatterpolar"
           }
          ],
          "scatterpolargl": [
           {
            "marker": {
             "colorbar": {
              "outlinewidth": 0,
              "ticks": ""
             }
            },
            "type": "scatterpolargl"
           }
          ],
          "scatterternary": [
           {
            "marker": {
             "colorbar": {
              "outlinewidth": 0,
              "ticks": ""
             }
            },
            "type": "scatterternary"
           }
          ],
          "surface": [
           {
            "colorbar": {
             "outlinewidth": 0,
             "ticks": ""
            },
            "colorscale": [
             [
              0,
              "#0d0887"
             ],
             [
              0.1111111111111111,
              "#46039f"
             ],
             [
              0.2222222222222222,
              "#7201a8"
             ],
             [
              0.3333333333333333,
              "#9c179e"
             ],
             [
              0.4444444444444444,
              "#bd3786"
             ],
             [
              0.5555555555555556,
              "#d8576b"
             ],
             [
              0.6666666666666666,
              "#ed7953"
             ],
             [
              0.7777777777777778,
              "#fb9f3a"
             ],
             [
              0.8888888888888888,
              "#fdca26"
             ],
             [
              1,
              "#f0f921"
             ]
            ],
            "type": "surface"
           }
          ],
          "table": [
           {
            "cells": {
             "fill": {
              "color": "#EBF0F8"
             },
             "line": {
              "color": "white"
             }
            },
            "header": {
             "fill": {
              "color": "#C8D4E3"
             },
             "line": {
              "color": "white"
             }
            },
            "type": "table"
           }
          ]
         },
         "layout": {
          "annotationdefaults": {
           "arrowcolor": "#2a3f5f",
           "arrowhead": 0,
           "arrowwidth": 1
          },
          "autotypenumbers": "strict",
          "coloraxis": {
           "colorbar": {
            "outlinewidth": 0,
            "ticks": ""
           }
          },
          "colorscale": {
           "diverging": [
            [
             0,
             "#8e0152"
            ],
            [
             0.1,
             "#c51b7d"
            ],
            [
             0.2,
             "#de77ae"
            ],
            [
             0.3,
             "#f1b6da"
            ],
            [
             0.4,
             "#fde0ef"
            ],
            [
             0.5,
             "#f7f7f7"
            ],
            [
             0.6,
             "#e6f5d0"
            ],
            [
             0.7,
             "#b8e186"
            ],
            [
             0.8,
             "#7fbc41"
            ],
            [
             0.9,
             "#4d9221"
            ],
            [
             1,
             "#276419"
            ]
           ],
           "sequential": [
            [
             0,
             "#0d0887"
            ],
            [
             0.1111111111111111,
             "#46039f"
            ],
            [
             0.2222222222222222,
             "#7201a8"
            ],
            [
             0.3333333333333333,
             "#9c179e"
            ],
            [
             0.4444444444444444,
             "#bd3786"
            ],
            [
             0.5555555555555556,
             "#d8576b"
            ],
            [
             0.6666666666666666,
             "#ed7953"
            ],
            [
             0.7777777777777778,
             "#fb9f3a"
            ],
            [
             0.8888888888888888,
             "#fdca26"
            ],
            [
             1,
             "#f0f921"
            ]
           ],
           "sequentialminus": [
            [
             0,
             "#0d0887"
            ],
            [
             0.1111111111111111,
             "#46039f"
            ],
            [
             0.2222222222222222,
             "#7201a8"
            ],
            [
             0.3333333333333333,
             "#9c179e"
            ],
            [
             0.4444444444444444,
             "#bd3786"
            ],
            [
             0.5555555555555556,
             "#d8576b"
            ],
            [
             0.6666666666666666,
             "#ed7953"
            ],
            [
             0.7777777777777778,
             "#fb9f3a"
            ],
            [
             0.8888888888888888,
             "#fdca26"
            ],
            [
             1,
             "#f0f921"
            ]
           ]
          },
          "colorway": [
           "#636efa",
           "#EF553B",
           "#00cc96",
           "#ab63fa",
           "#FFA15A",
           "#19d3f3",
           "#FF6692",
           "#B6E880",
           "#FF97FF",
           "#FECB52"
          ],
          "font": {
           "color": "#2a3f5f"
          },
          "geo": {
           "bgcolor": "white",
           "lakecolor": "white",
           "landcolor": "#E5ECF6",
           "showlakes": true,
           "showland": true,
           "subunitcolor": "white"
          },
          "hoverlabel": {
           "align": "left"
          },
          "hovermode": "closest",
          "mapbox": {
           "style": "light"
          },
          "paper_bgcolor": "white",
          "plot_bgcolor": "#E5ECF6",
          "polar": {
           "angularaxis": {
            "gridcolor": "white",
            "linecolor": "white",
            "ticks": ""
           },
           "bgcolor": "#E5ECF6",
           "radialaxis": {
            "gridcolor": "white",
            "linecolor": "white",
            "ticks": ""
           }
          },
          "scene": {
           "xaxis": {
            "backgroundcolor": "#E5ECF6",
            "gridcolor": "white",
            "gridwidth": 2,
            "linecolor": "white",
            "showbackground": true,
            "ticks": "",
            "zerolinecolor": "white"
           },
           "yaxis": {
            "backgroundcolor": "#E5ECF6",
            "gridcolor": "white",
            "gridwidth": 2,
            "linecolor": "white",
            "showbackground": true,
            "ticks": "",
            "zerolinecolor": "white"
           },
           "zaxis": {
            "backgroundcolor": "#E5ECF6",
            "gridcolor": "white",
            "gridwidth": 2,
            "linecolor": "white",
            "showbackground": true,
            "ticks": "",
            "zerolinecolor": "white"
           }
          },
          "shapedefaults": {
           "line": {
            "color": "#2a3f5f"
           }
          },
          "ternary": {
           "aaxis": {
            "gridcolor": "white",
            "linecolor": "white",
            "ticks": ""
           },
           "baxis": {
            "gridcolor": "white",
            "linecolor": "white",
            "ticks": ""
           },
           "bgcolor": "#E5ECF6",
           "caxis": {
            "gridcolor": "white",
            "linecolor": "white",
            "ticks": ""
           }
          },
          "title": {
           "x": 0.05
          },
          "xaxis": {
           "automargin": true,
           "gridcolor": "white",
           "linecolor": "white",
           "ticks": "",
           "title": {
            "standoff": 15
           },
           "zerolinecolor": "white",
           "zerolinewidth": 2
          },
          "yaxis": {
           "automargin": true,
           "gridcolor": "white",
           "linecolor": "white",
           "ticks": "",
           "title": {
            "standoff": 15
           },
           "zerolinecolor": "white",
           "zerolinewidth": 2
          }
         }
        },
        "title": {
         "text": "Bechdel Test Ratings by Gender of Directors"
        },
        "xaxis": {
         "tickvals": [
          3,
          2,
          0,
          1
         ],
         "title": {
          "text": "Bechdel Rating"
         }
        },
        "yaxis": {
         "title": {
          "text": "Percentage (%)"
         }
        }
       }
      }
     },
     "metadata": {},
     "output_type": "display_data"
    }
   ],
   "source": [
    "# Calculate histograms for male and female directors\n",
    "male_director_hist = (\n",
    "    bechdel_complete[bechdel_complete['director_gender'] == 0]['bechdel_rating']\n",
    "    .value_counts(normalize=True) * 100\n",
    ")\n",
    "female_director_hist = (\n",
    "    bechdel_complete[bechdel_complete['director_gender'] == 1]['bechdel_rating']\n",
    "    .value_counts(normalize=True) * 100\n",
    ")\n",
    "\n",
    "# Get all Bechdel ratings as the x-axis\n",
    "x = bechdel_complete['bechdel_rating'].unique()\n",
    "# Create bar traces for Male and Female Directors\n",
    "trace_male = go.Bar(\n",
    "    x=x,\n",
    "    y=male_director_hist.values,\n",
    "    name='Male Directors',\n",
    "    width=0.4\n",
    ")\n",
    "\n",
    "trace_female = go.Bar(\n",
    "    x=x,\n",
    "    y=female_director_hist.values,\n",
    "    name='Female Directors',\n",
    "    width=0.4\n",
    ")\n",
    "\n",
    "# Create layout\n",
    "layout = go.Layout(\n",
    "    title=\"Bechdel Test Ratings by Gender of Directors\",\n",
    "    xaxis=dict(title=\"Bechdel Rating\", tickvals=x),\n",
    "    yaxis=dict(title=\"Percentage (%)\"),\n",
    "    barmode='group',  # Group the bars\n",
    "    bargap=0.2  # Gap between bars\n",
    ")\n",
    "\n",
    "# Create figure and show plot\n",
    "fig = go.Figure(data=[trace_male, trace_female], layout=layout)\n",
    "fig.show()\n"
   ]
  },
  {
   "attachments": {},
   "cell_type": "markdown",
   "metadata": {},
   "source": [
    "Keep going..."
   ]
  },
  {
   "cell_type": "code",
   "execution_count": 14,
   "metadata": {},
   "outputs": [],
   "source": [
    "bechdel_complete_grade3 = bechdel_complete[bechdel_complete[\"bechdel_rating\"]==3]\n",
    "bechdel_complete_grade012 = bechdel_complete[bechdel_complete[\"bechdel_rating\"]!=3]"
   ]
  },
  {
   "cell_type": "code",
   "execution_count": null,
   "metadata": {},
   "outputs": [],
   "source": [
    "bechdel_complete_grade3_men = bechdel_complete_grade3[bechdel_complete_grade3[\"director_gender\"]==0]\n",
    "bechdel_complete_grade3_women = bechdel_complete_grade3[bechdel_complete_grade3[\"director_gender\"]==1]\n",
    "bechdel_complete_grade012_men = bechdel_complete_grade012[bechdel_complete_grade012[\"director_gender\"]==0]\n",
    "bechdel_complete_grade012_women = bechdel_complete_grade012[bechdel_complete_grade012[\"director_gender\"]==1]"
   ]
  },
  {
   "cell_type": "code",
   "execution_count": 21,
   "metadata": {},
   "outputs": [
    {
     "data": {
      "text/html": [
       "<div>\n",
       "<style scoped>\n",
       "    .dataframe tbody tr th:only-of-type {\n",
       "        vertical-align: middle;\n",
       "    }\n",
       "\n",
       "    .dataframe tbody tr th {\n",
       "        vertical-align: top;\n",
       "    }\n",
       "\n",
       "    .dataframe thead th {\n",
       "        text-align: right;\n",
       "    }\n",
       "</style>\n",
       "<table border=\"1\" class=\"dataframe\">\n",
       "  <thead>\n",
       "    <tr style=\"text-align: right;\">\n",
       "      <th></th>\n",
       "      <th>wikipedia_movie_id</th>\n",
       "      <th>movie_name</th>\n",
       "      <th>movie_release_date</th>\n",
       "      <th>bechdel_rating</th>\n",
       "      <th>director_gender</th>\n",
       "      <th>char_M</th>\n",
       "      <th>char_F</th>\n",
       "      <th>neutral</th>\n",
       "      <th>sadness</th>\n",
       "      <th>anger</th>\n",
       "      <th>fear</th>\n",
       "      <th>disgust</th>\n",
       "      <th>surprise</th>\n",
       "      <th>joy</th>\n",
       "    </tr>\n",
       "  </thead>\n",
       "  <tbody>\n",
       "    <tr>\n",
       "      <th>4</th>\n",
       "      <td>1369204</td>\n",
       "      <td>Juarez</td>\n",
       "      <td>1939</td>\n",
       "      <td>2</td>\n",
       "      <td>0.0</td>\n",
       "      <td>3</td>\n",
       "      <td>1</td>\n",
       "      <td>0.103526</td>\n",
       "      <td>0.200089</td>\n",
       "      <td>0.308751</td>\n",
       "      <td>0.257346</td>\n",
       "      <td>0.044936</td>\n",
       "      <td>0.080762</td>\n",
       "      <td>0.004589</td>\n",
       "    </tr>\n",
       "    <tr>\n",
       "      <th>7</th>\n",
       "      <td>1765938</td>\n",
       "      <td>Convoy</td>\n",
       "      <td>1978</td>\n",
       "      <td>0</td>\n",
       "      <td>0.0</td>\n",
       "      <td>6</td>\n",
       "      <td>2</td>\n",
       "      <td>0.188848</td>\n",
       "      <td>0.122047</td>\n",
       "      <td>0.369908</td>\n",
       "      <td>0.090259</td>\n",
       "      <td>0.211473</td>\n",
       "      <td>0.013506</td>\n",
       "      <td>0.003959</td>\n",
       "    </tr>\n",
       "    <tr>\n",
       "      <th>8</th>\n",
       "      <td>1305819</td>\n",
       "      <td>C.H.U.D.</td>\n",
       "      <td>1984</td>\n",
       "      <td>2</td>\n",
       "      <td>0.0</td>\n",
       "      <td>10</td>\n",
       "      <td>5</td>\n",
       "      <td>0.214682</td>\n",
       "      <td>0.022726</td>\n",
       "      <td>0.074407</td>\n",
       "      <td>0.429979</td>\n",
       "      <td>0.226658</td>\n",
       "      <td>0.022725</td>\n",
       "      <td>0.008822</td>\n",
       "    </tr>\n",
       "    <tr>\n",
       "      <th>10</th>\n",
       "      <td>196176</td>\n",
       "      <td>Straw Dogs</td>\n",
       "      <td>1971</td>\n",
       "      <td>1</td>\n",
       "      <td>0.0</td>\n",
       "      <td>9</td>\n",
       "      <td>2</td>\n",
       "      <td>0.074969</td>\n",
       "      <td>0.075158</td>\n",
       "      <td>0.439392</td>\n",
       "      <td>0.277693</td>\n",
       "      <td>0.116319</td>\n",
       "      <td>0.010310</td>\n",
       "      <td>0.006159</td>\n",
       "    </tr>\n",
       "    <tr>\n",
       "      <th>14</th>\n",
       "      <td>27463222</td>\n",
       "      <td>Vanishing on 7th Street</td>\n",
       "      <td>2010</td>\n",
       "      <td>1</td>\n",
       "      <td>0.0</td>\n",
       "      <td>9</td>\n",
       "      <td>5</td>\n",
       "      <td>0.306420</td>\n",
       "      <td>0.087873</td>\n",
       "      <td>0.069890</td>\n",
       "      <td>0.355545</td>\n",
       "      <td>0.065697</td>\n",
       "      <td>0.110008</td>\n",
       "      <td>0.004567</td>\n",
       "    </tr>\n",
       "    <tr>\n",
       "      <th>...</th>\n",
       "      <td>...</td>\n",
       "      <td>...</td>\n",
       "      <td>...</td>\n",
       "      <td>...</td>\n",
       "      <td>...</td>\n",
       "      <td>...</td>\n",
       "      <td>...</td>\n",
       "      <td>...</td>\n",
       "      <td>...</td>\n",
       "      <td>...</td>\n",
       "      <td>...</td>\n",
       "      <td>...</td>\n",
       "      <td>...</td>\n",
       "      <td>...</td>\n",
       "    </tr>\n",
       "    <tr>\n",
       "      <th>3336</th>\n",
       "      <td>1138104</td>\n",
       "      <td>Beverly Hills Cop III</td>\n",
       "      <td>1994</td>\n",
       "      <td>0</td>\n",
       "      <td>0.0</td>\n",
       "      <td>13</td>\n",
       "      <td>1</td>\n",
       "      <td>0.257634</td>\n",
       "      <td>0.357050</td>\n",
       "      <td>0.173763</td>\n",
       "      <td>0.101291</td>\n",
       "      <td>0.009355</td>\n",
       "      <td>0.069399</td>\n",
       "      <td>0.031508</td>\n",
       "    </tr>\n",
       "    <tr>\n",
       "      <th>3338</th>\n",
       "      <td>883432</td>\n",
       "      <td>Gone in Sixty Seconds</td>\n",
       "      <td>2000</td>\n",
       "      <td>1</td>\n",
       "      <td>0.0</td>\n",
       "      <td>13</td>\n",
       "      <td>1</td>\n",
       "      <td>0.202137</td>\n",
       "      <td>0.041716</td>\n",
       "      <td>0.334272</td>\n",
       "      <td>0.310900</td>\n",
       "      <td>0.009307</td>\n",
       "      <td>0.065926</td>\n",
       "      <td>0.035741</td>\n",
       "    </tr>\n",
       "    <tr>\n",
       "      <th>3340</th>\n",
       "      <td>22427855</td>\n",
       "      <td>Adam</td>\n",
       "      <td>2009</td>\n",
       "      <td>2</td>\n",
       "      <td>0.0</td>\n",
       "      <td>8</td>\n",
       "      <td>7</td>\n",
       "      <td>0.172165</td>\n",
       "      <td>0.226913</td>\n",
       "      <td>0.165479</td>\n",
       "      <td>0.197138</td>\n",
       "      <td>0.043898</td>\n",
       "      <td>0.180865</td>\n",
       "      <td>0.013542</td>\n",
       "    </tr>\n",
       "    <tr>\n",
       "      <th>3343</th>\n",
       "      <td>25920477</td>\n",
       "      <td>Source Code</td>\n",
       "      <td>2011</td>\n",
       "      <td>1</td>\n",
       "      <td>0.0</td>\n",
       "      <td>13</td>\n",
       "      <td>4</td>\n",
       "      <td>0.454169</td>\n",
       "      <td>0.054210</td>\n",
       "      <td>0.090608</td>\n",
       "      <td>0.069313</td>\n",
       "      <td>0.153779</td>\n",
       "      <td>0.170574</td>\n",
       "      <td>0.007347</td>\n",
       "    </tr>\n",
       "    <tr>\n",
       "      <th>3346</th>\n",
       "      <td>664006</td>\n",
       "      <td>Guilty as sin</td>\n",
       "      <td>1993</td>\n",
       "      <td>2</td>\n",
       "      <td>0.0</td>\n",
       "      <td>5</td>\n",
       "      <td>3</td>\n",
       "      <td>0.162499</td>\n",
       "      <td>0.127758</td>\n",
       "      <td>0.159433</td>\n",
       "      <td>0.474901</td>\n",
       "      <td>0.058751</td>\n",
       "      <td>0.010303</td>\n",
       "      <td>0.006354</td>\n",
       "    </tr>\n",
       "  </tbody>\n",
       "</table>\n",
       "<p>1425 rows × 14 columns</p>\n",
       "</div>"
      ],
      "text/plain": [
       "      wikipedia_movie_id               movie_name  movie_release_date  \\\n",
       "4                1369204                   Juarez                1939   \n",
       "7                1765938                   Convoy                1978   \n",
       "8                1305819                 C.H.U.D.                1984   \n",
       "10                196176               Straw Dogs                1971   \n",
       "14              27463222  Vanishing on 7th Street                2010   \n",
       "...                  ...                      ...                 ...   \n",
       "3336             1138104    Beverly Hills Cop III                1994   \n",
       "3338              883432    Gone in Sixty Seconds                2000   \n",
       "3340            22427855                     Adam                2009   \n",
       "3343            25920477              Source Code                2011   \n",
       "3346              664006            Guilty as sin                1993   \n",
       "\n",
       "      bechdel_rating  director_gender  char_M  char_F   neutral   sadness  \\\n",
       "4                  2              0.0       3       1  0.103526  0.200089   \n",
       "7                  0              0.0       6       2  0.188848  0.122047   \n",
       "8                  2              0.0      10       5  0.214682  0.022726   \n",
       "10                 1              0.0       9       2  0.074969  0.075158   \n",
       "14                 1              0.0       9       5  0.306420  0.087873   \n",
       "...              ...              ...     ...     ...       ...       ...   \n",
       "3336               0              0.0      13       1  0.257634  0.357050   \n",
       "3338               1              0.0      13       1  0.202137  0.041716   \n",
       "3340               2              0.0       8       7  0.172165  0.226913   \n",
       "3343               1              0.0      13       4  0.454169  0.054210   \n",
       "3346               2              0.0       5       3  0.162499  0.127758   \n",
       "\n",
       "         anger      fear   disgust  surprise       joy  \n",
       "4     0.308751  0.257346  0.044936  0.080762  0.004589  \n",
       "7     0.369908  0.090259  0.211473  0.013506  0.003959  \n",
       "8     0.074407  0.429979  0.226658  0.022725  0.008822  \n",
       "10    0.439392  0.277693  0.116319  0.010310  0.006159  \n",
       "14    0.069890  0.355545  0.065697  0.110008  0.004567  \n",
       "...        ...       ...       ...       ...       ...  \n",
       "3336  0.173763  0.101291  0.009355  0.069399  0.031508  \n",
       "3338  0.334272  0.310900  0.009307  0.065926  0.035741  \n",
       "3340  0.165479  0.197138  0.043898  0.180865  0.013542  \n",
       "3343  0.090608  0.069313  0.153779  0.170574  0.007347  \n",
       "3346  0.159433  0.474901  0.058751  0.010303  0.006354  \n",
       "\n",
       "[1425 rows x 14 columns]"
      ]
     },
     "execution_count": 21,
     "metadata": {},
     "output_type": "execute_result"
    }
   ],
   "source": [
    "bechdel_complete_grade012_men"
   ]
  },
  {
   "cell_type": "code",
   "execution_count": 41,
   "metadata": {},
   "outputs": [
    {
     "data": {
      "application/vnd.plotly.v1+json": {
       "config": {
        "plotlyServerURL": "https://plot.ly"
       },
       "data": [
        {
         "fill": "toself",
         "line": {
          "color": "rgb(102, 204, 255)"
         },
         "name": "Women Grade 0-12",
         "r": [
          0.1781366257947299,
          0.1732055835838165,
          0.1946175199736373,
          0.16167457233679705,
          0.15214642487197744,
          0.0588178436073594,
          0.0814014289733268
         ],
         "theta": [
          "neutral",
          "sadness",
          "anger",
          "fear",
          "disgust",
          "surprise",
          "joy"
         ],
         "type": "scatterpolar"
        },
        {
         "fill": "toself",
         "line": {
          "color": "rgb(255, 153, 51)"
         },
         "name": "Men Grade 0-12",
         "r": [
          0.20533083789152176,
          0.15721312814552554,
          0.23535521451133695,
          0.17858963010902032,
          0.12393287971152336,
          0.04766113339484702,
          0.051917176869019144
         ],
         "theta": [
          "neutral",
          "sadness",
          "anger",
          "fear",
          "disgust",
          "surprise",
          "joy"
         ],
         "type": "scatterpolar"
        },
        {
         "fill": "toself",
         "marker": {
          "color": "royalblue"
         },
         "name": "Women Grade 3",
         "r": [
          0.20348372779851634,
          0.20263185931908567,
          0.16796992660952398,
          0.15481507964483268,
          0.12338247311742102,
          0.049994462385825125,
          0.09772247424235785
         ],
         "theta": [
          "neutral",
          "sadness",
          "anger",
          "fear",
          "disgust",
          "surprise",
          "joy"
         ],
         "type": "scatterpolar"
        },
        {
         "fill": "toself",
         "marker": {
          "color": "gold"
         },
         "name": "Men Grade 3",
         "r": [
          0.19864782373969145,
          0.18297248764950247,
          0.20134163162667107,
          0.1733446787147065,
          0.12263566836010997,
          0.05246567932337429,
          0.06859203018903998
         ],
         "theta": [
          "neutral",
          "sadness",
          "anger",
          "fear",
          "disgust",
          "surprise",
          "joy"
         ],
         "type": "scatterpolar"
        }
       ],
       "layout": {
        "polar": {
         "radialaxis": {
          "range": [
           0,
           0.3
          ],
          "visible": true
         }
        },
        "showlegend": true,
        "template": {
         "data": {
          "bar": [
           {
            "error_x": {
             "color": "#2a3f5f"
            },
            "error_y": {
             "color": "#2a3f5f"
            },
            "marker": {
             "line": {
              "color": "#E5ECF6",
              "width": 0.5
             },
             "pattern": {
              "fillmode": "overlay",
              "size": 10,
              "solidity": 0.2
             }
            },
            "type": "bar"
           }
          ],
          "barpolar": [
           {
            "marker": {
             "line": {
              "color": "#E5ECF6",
              "width": 0.5
             },
             "pattern": {
              "fillmode": "overlay",
              "size": 10,
              "solidity": 0.2
             }
            },
            "type": "barpolar"
           }
          ],
          "carpet": [
           {
            "aaxis": {
             "endlinecolor": "#2a3f5f",
             "gridcolor": "white",
             "linecolor": "white",
             "minorgridcolor": "white",
             "startlinecolor": "#2a3f5f"
            },
            "baxis": {
             "endlinecolor": "#2a3f5f",
             "gridcolor": "white",
             "linecolor": "white",
             "minorgridcolor": "white",
             "startlinecolor": "#2a3f5f"
            },
            "type": "carpet"
           }
          ],
          "choropleth": [
           {
            "colorbar": {
             "outlinewidth": 0,
             "ticks": ""
            },
            "type": "choropleth"
           }
          ],
          "contour": [
           {
            "colorbar": {
             "outlinewidth": 0,
             "ticks": ""
            },
            "colorscale": [
             [
              0,
              "#0d0887"
             ],
             [
              0.1111111111111111,
              "#46039f"
             ],
             [
              0.2222222222222222,
              "#7201a8"
             ],
             [
              0.3333333333333333,
              "#9c179e"
             ],
             [
              0.4444444444444444,
              "#bd3786"
             ],
             [
              0.5555555555555556,
              "#d8576b"
             ],
             [
              0.6666666666666666,
              "#ed7953"
             ],
             [
              0.7777777777777778,
              "#fb9f3a"
             ],
             [
              0.8888888888888888,
              "#fdca26"
             ],
             [
              1,
              "#f0f921"
             ]
            ],
            "type": "contour"
           }
          ],
          "contourcarpet": [
           {
            "colorbar": {
             "outlinewidth": 0,
             "ticks": ""
            },
            "type": "contourcarpet"
           }
          ],
          "heatmap": [
           {
            "colorbar": {
             "outlinewidth": 0,
             "ticks": ""
            },
            "colorscale": [
             [
              0,
              "#0d0887"
             ],
             [
              0.1111111111111111,
              "#46039f"
             ],
             [
              0.2222222222222222,
              "#7201a8"
             ],
             [
              0.3333333333333333,
              "#9c179e"
             ],
             [
              0.4444444444444444,
              "#bd3786"
             ],
             [
              0.5555555555555556,
              "#d8576b"
             ],
             [
              0.6666666666666666,
              "#ed7953"
             ],
             [
              0.7777777777777778,
              "#fb9f3a"
             ],
             [
              0.8888888888888888,
              "#fdca26"
             ],
             [
              1,
              "#f0f921"
             ]
            ],
            "type": "heatmap"
           }
          ],
          "heatmapgl": [
           {
            "colorbar": {
             "outlinewidth": 0,
             "ticks": ""
            },
            "colorscale": [
             [
              0,
              "#0d0887"
             ],
             [
              0.1111111111111111,
              "#46039f"
             ],
             [
              0.2222222222222222,
              "#7201a8"
             ],
             [
              0.3333333333333333,
              "#9c179e"
             ],
             [
              0.4444444444444444,
              "#bd3786"
             ],
             [
              0.5555555555555556,
              "#d8576b"
             ],
             [
              0.6666666666666666,
              "#ed7953"
             ],
             [
              0.7777777777777778,
              "#fb9f3a"
             ],
             [
              0.8888888888888888,
              "#fdca26"
             ],
             [
              1,
              "#f0f921"
             ]
            ],
            "type": "heatmapgl"
           }
          ],
          "histogram": [
           {
            "marker": {
             "pattern": {
              "fillmode": "overlay",
              "size": 10,
              "solidity": 0.2
             }
            },
            "type": "histogram"
           }
          ],
          "histogram2d": [
           {
            "colorbar": {
             "outlinewidth": 0,
             "ticks": ""
            },
            "colorscale": [
             [
              0,
              "#0d0887"
             ],
             [
              0.1111111111111111,
              "#46039f"
             ],
             [
              0.2222222222222222,
              "#7201a8"
             ],
             [
              0.3333333333333333,
              "#9c179e"
             ],
             [
              0.4444444444444444,
              "#bd3786"
             ],
             [
              0.5555555555555556,
              "#d8576b"
             ],
             [
              0.6666666666666666,
              "#ed7953"
             ],
             [
              0.7777777777777778,
              "#fb9f3a"
             ],
             [
              0.8888888888888888,
              "#fdca26"
             ],
             [
              1,
              "#f0f921"
             ]
            ],
            "type": "histogram2d"
           }
          ],
          "histogram2dcontour": [
           {
            "colorbar": {
             "outlinewidth": 0,
             "ticks": ""
            },
            "colorscale": [
             [
              0,
              "#0d0887"
             ],
             [
              0.1111111111111111,
              "#46039f"
             ],
             [
              0.2222222222222222,
              "#7201a8"
             ],
             [
              0.3333333333333333,
              "#9c179e"
             ],
             [
              0.4444444444444444,
              "#bd3786"
             ],
             [
              0.5555555555555556,
              "#d8576b"
             ],
             [
              0.6666666666666666,
              "#ed7953"
             ],
             [
              0.7777777777777778,
              "#fb9f3a"
             ],
             [
              0.8888888888888888,
              "#fdca26"
             ],
             [
              1,
              "#f0f921"
             ]
            ],
            "type": "histogram2dcontour"
           }
          ],
          "mesh3d": [
           {
            "colorbar": {
             "outlinewidth": 0,
             "ticks": ""
            },
            "type": "mesh3d"
           }
          ],
          "parcoords": [
           {
            "line": {
             "colorbar": {
              "outlinewidth": 0,
              "ticks": ""
             }
            },
            "type": "parcoords"
           }
          ],
          "pie": [
           {
            "automargin": true,
            "type": "pie"
           }
          ],
          "scatter": [
           {
            "fillpattern": {
             "fillmode": "overlay",
             "size": 10,
             "solidity": 0.2
            },
            "type": "scatter"
           }
          ],
          "scatter3d": [
           {
            "line": {
             "colorbar": {
              "outlinewidth": 0,
              "ticks": ""
             }
            },
            "marker": {
             "colorbar": {
              "outlinewidth": 0,
              "ticks": ""
             }
            },
            "type": "scatter3d"
           }
          ],
          "scattercarpet": [
           {
            "marker": {
             "colorbar": {
              "outlinewidth": 0,
              "ticks": ""
             }
            },
            "type": "scattercarpet"
           }
          ],
          "scattergeo": [
           {
            "marker": {
             "colorbar": {
              "outlinewidth": 0,
              "ticks": ""
             }
            },
            "type": "scattergeo"
           }
          ],
          "scattergl": [
           {
            "marker": {
             "colorbar": {
              "outlinewidth": 0,
              "ticks": ""
             }
            },
            "type": "scattergl"
           }
          ],
          "scattermapbox": [
           {
            "marker": {
             "colorbar": {
              "outlinewidth": 0,
              "ticks": ""
             }
            },
            "type": "scattermapbox"
           }
          ],
          "scatterpolar": [
           {
            "marker": {
             "colorbar": {
              "outlinewidth": 0,
              "ticks": ""
             }
            },
            "type": "scatterpolar"
           }
          ],
          "scatterpolargl": [
           {
            "marker": {
             "colorbar": {
              "outlinewidth": 0,
              "ticks": ""
             }
            },
            "type": "scatterpolargl"
           }
          ],
          "scatterternary": [
           {
            "marker": {
             "colorbar": {
              "outlinewidth": 0,
              "ticks": ""
             }
            },
            "type": "scatterternary"
           }
          ],
          "surface": [
           {
            "colorbar": {
             "outlinewidth": 0,
             "ticks": ""
            },
            "colorscale": [
             [
              0,
              "#0d0887"
             ],
             [
              0.1111111111111111,
              "#46039f"
             ],
             [
              0.2222222222222222,
              "#7201a8"
             ],
             [
              0.3333333333333333,
              "#9c179e"
             ],
             [
              0.4444444444444444,
              "#bd3786"
             ],
             [
              0.5555555555555556,
              "#d8576b"
             ],
             [
              0.6666666666666666,
              "#ed7953"
             ],
             [
              0.7777777777777778,
              "#fb9f3a"
             ],
             [
              0.8888888888888888,
              "#fdca26"
             ],
             [
              1,
              "#f0f921"
             ]
            ],
            "type": "surface"
           }
          ],
          "table": [
           {
            "cells": {
             "fill": {
              "color": "#EBF0F8"
             },
             "line": {
              "color": "white"
             }
            },
            "header": {
             "fill": {
              "color": "#C8D4E3"
             },
             "line": {
              "color": "white"
             }
            },
            "type": "table"
           }
          ]
         },
         "layout": {
          "annotationdefaults": {
           "arrowcolor": "#2a3f5f",
           "arrowhead": 0,
           "arrowwidth": 1
          },
          "autotypenumbers": "strict",
          "coloraxis": {
           "colorbar": {
            "outlinewidth": 0,
            "ticks": ""
           }
          },
          "colorscale": {
           "diverging": [
            [
             0,
             "#8e0152"
            ],
            [
             0.1,
             "#c51b7d"
            ],
            [
             0.2,
             "#de77ae"
            ],
            [
             0.3,
             "#f1b6da"
            ],
            [
             0.4,
             "#fde0ef"
            ],
            [
             0.5,
             "#f7f7f7"
            ],
            [
             0.6,
             "#e6f5d0"
            ],
            [
             0.7,
             "#b8e186"
            ],
            [
             0.8,
             "#7fbc41"
            ],
            [
             0.9,
             "#4d9221"
            ],
            [
             1,
             "#276419"
            ]
           ],
           "sequential": [
            [
             0,
             "#0d0887"
            ],
            [
             0.1111111111111111,
             "#46039f"
            ],
            [
             0.2222222222222222,
             "#7201a8"
            ],
            [
             0.3333333333333333,
             "#9c179e"
            ],
            [
             0.4444444444444444,
             "#bd3786"
            ],
            [
             0.5555555555555556,
             "#d8576b"
            ],
            [
             0.6666666666666666,
             "#ed7953"
            ],
            [
             0.7777777777777778,
             "#fb9f3a"
            ],
            [
             0.8888888888888888,
             "#fdca26"
            ],
            [
             1,
             "#f0f921"
            ]
           ],
           "sequentialminus": [
            [
             0,
             "#0d0887"
            ],
            [
             0.1111111111111111,
             "#46039f"
            ],
            [
             0.2222222222222222,
             "#7201a8"
            ],
            [
             0.3333333333333333,
             "#9c179e"
            ],
            [
             0.4444444444444444,
             "#bd3786"
            ],
            [
             0.5555555555555556,
             "#d8576b"
            ],
            [
             0.6666666666666666,
             "#ed7953"
            ],
            [
             0.7777777777777778,
             "#fb9f3a"
            ],
            [
             0.8888888888888888,
             "#fdca26"
            ],
            [
             1,
             "#f0f921"
            ]
           ]
          },
          "colorway": [
           "#636efa",
           "#EF553B",
           "#00cc96",
           "#ab63fa",
           "#FFA15A",
           "#19d3f3",
           "#FF6692",
           "#B6E880",
           "#FF97FF",
           "#FECB52"
          ],
          "font": {
           "color": "#2a3f5f"
          },
          "geo": {
           "bgcolor": "white",
           "lakecolor": "white",
           "landcolor": "#E5ECF6",
           "showlakes": true,
           "showland": true,
           "subunitcolor": "white"
          },
          "hoverlabel": {
           "align": "left"
          },
          "hovermode": "closest",
          "mapbox": {
           "style": "light"
          },
          "paper_bgcolor": "white",
          "plot_bgcolor": "#E5ECF6",
          "polar": {
           "angularaxis": {
            "gridcolor": "white",
            "linecolor": "white",
            "ticks": ""
           },
           "bgcolor": "#E5ECF6",
           "radialaxis": {
            "gridcolor": "white",
            "linecolor": "white",
            "ticks": ""
           }
          },
          "scene": {
           "xaxis": {
            "backgroundcolor": "#E5ECF6",
            "gridcolor": "white",
            "gridwidth": 2,
            "linecolor": "white",
            "showbackground": true,
            "ticks": "",
            "zerolinecolor": "white"
           },
           "yaxis": {
            "backgroundcolor": "#E5ECF6",
            "gridcolor": "white",
            "gridwidth": 2,
            "linecolor": "white",
            "showbackground": true,
            "ticks": "",
            "zerolinecolor": "white"
           },
           "zaxis": {
            "backgroundcolor": "#E5ECF6",
            "gridcolor": "white",
            "gridwidth": 2,
            "linecolor": "white",
            "showbackground": true,
            "ticks": "",
            "zerolinecolor": "white"
           }
          },
          "shapedefaults": {
           "line": {
            "color": "#2a3f5f"
           }
          },
          "ternary": {
           "aaxis": {
            "gridcolor": "white",
            "linecolor": "white",
            "ticks": ""
           },
           "baxis": {
            "gridcolor": "white",
            "linecolor": "white",
            "ticks": ""
           },
           "bgcolor": "#E5ECF6",
           "caxis": {
            "gridcolor": "white",
            "linecolor": "white",
            "ticks": ""
           }
          },
          "title": {
           "x": 0.05
          },
          "xaxis": {
           "automargin": true,
           "gridcolor": "white",
           "linecolor": "white",
           "ticks": "",
           "title": {
            "standoff": 15
           },
           "zerolinecolor": "white",
           "zerolinewidth": 2
          },
          "yaxis": {
           "automargin": true,
           "gridcolor": "white",
           "linecolor": "white",
           "ticks": "",
           "title": {
            "standoff": 15
           },
           "zerolinecolor": "white",
           "zerolinewidth": 2
          }
         }
        },
        "title": {
         "text": "Emotion Distribution by Gender and Bechdel Grades"
        }
       }
      }
     },
     "metadata": {},
     "output_type": "display_data"
    }
   ],
   "source": [
    "# Calcul de la moyenne des émotions pour chaque DataFrame\n",
    "def compute_mean_emotions(df):\n",
    "    emotions = [\"neutral\", \"sadness\", \"anger\", \"fear\", \"disgust\", \"surprise\", \"joy\"]\n",
    "    return df[emotions].mean()\n",
    "\n",
    "# Moyennes des émotions pour chaque groupe\n",
    "data_women_grade3 = compute_mean_emotions(bechdel_complete_grade3_women)\n",
    "data_men_grade3 = compute_mean_emotions(bechdel_complete_grade3_men)\n",
    "data_women_grade012 = compute_mean_emotions(bechdel_complete_grade012_women)\n",
    "data_men_grade012 = compute_mean_emotions(bechdel_complete_grade012_men)\n",
    "\n",
    "# Création du graphique radar\n",
    "fig = go.Figure()\n",
    "\n",
    "# Ajout des données pour chaque groupe\n",
    "\n",
    "fig.add_trace(go.Scatterpolar(\n",
    "    r=data_women_grade012,\n",
    "    theta=data_women_grade012.index,\n",
    "    fill='toself',\n",
    "    name='Women Grade 0-12',\n",
    "    line_color='rgb(102, 204, 255)'\n",
    "    ))\n",
    "\n",
    "fig.add_trace(go.Scatterpolar(\n",
    "    r=data_men_grade012,\n",
    "    theta=data_men_grade012.index,\n",
    "    fill='toself',\n",
    "    name='Men Grade 0-12', \n",
    "    line_color='rgb(255, 153, 51)'\n",
    "    ))\n",
    "\n",
    "fig.add_trace(go.Scatterpolar(\n",
    "    r=data_women_grade3,\n",
    "    theta=data_women_grade3.index,\n",
    "    fill='toself',\n",
    "    name='Women Grade 3',\n",
    "    marker_color='royalblue',\n",
    "    ))\n",
    "\n",
    "fig.add_trace(go.Scatterpolar(\n",
    "    r=data_men_grade3,\n",
    "    theta=data_men_grade3.index,\n",
    "    fill='toself',\n",
    "    name='Men Grade 3',\n",
    "    marker_color='gold'\n",
    "    ))\n",
    "\n",
    "# Mise en forme du graphique\n",
    "fig.update_layout(\n",
    "    polar=dict(\n",
    "        radialaxis=dict(\n",
    "            visible=True,\n",
    "            range=[0, 0.3]  # Ajustez en fonction de vos données\n",
    "        )\n",
    "    ),\n",
    "    title=\"Emotion Distribution by Gender and Bechdel Grades\",\n",
    "    showlegend=True\n",
    ")\n",
    "\n",
    "# Affichage\n",
    "fig.show()\n",
    "\n"
   ]
  },
  {
   "cell_type": "code",
   "execution_count": null,
   "metadata": {},
   "outputs": [],
   "source": []
  }
 ],
 "metadata": {
  "kernelspec": {
   "display_name": "base",
   "language": "python",
   "name": "python3"
  },
  "language_info": {
   "codemirror_mode": {
    "name": "ipython",
    "version": 3
   },
   "file_extension": ".py",
   "mimetype": "text/x-python",
   "name": "python",
   "nbconvert_exporter": "python",
   "pygments_lexer": "ipython3",
   "version": "3.9.12"
  },
  "orig_nbformat": 4
 },
 "nbformat": 4,
 "nbformat_minor": 2
}
